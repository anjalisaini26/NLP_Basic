{
 "cells": [
  {
   "cell_type": "code",
   "execution_count": 1,
   "id": "f191c037",
   "metadata": {},
   "outputs": [
    {
     "name": "stderr",
     "output_type": "stream",
     "text": [
      "[nltk_data] Downloading package names to\n",
      "[nltk_data]     C:\\Users\\admin\\AppData\\Roaming\\nltk_data...\n",
      "[nltk_data]   Package names is already up-to-date!\n"
     ]
    },
    {
     "data": {
      "text/plain": [
       "True"
      ]
     },
     "execution_count": 1,
     "metadata": {},
     "output_type": "execute_result"
    }
   ],
   "source": [
    "from nltk.corpus import names\n",
    "import nltk\n",
    "nltk.download('names')"
   ]
  },
  {
   "cell_type": "code",
   "execution_count": 2,
   "id": "6c136359",
   "metadata": {},
   "outputs": [],
   "source": [
    "l = ([(name, 'male') for name in names.words('male.txt')] + \n",
    "      [(name, 'female') for name in names.words('female.txt')])"
   ]
  },
  {
   "cell_type": "code",
   "execution_count": 3,
   "id": "8aaa4db8",
   "metadata": {},
   "outputs": [],
   "source": [
    "import random\n",
    "random.shuffle(l)#mix"
   ]
  },
  {
   "cell_type": "code",
   "execution_count": 4,
   "id": "39304207",
   "metadata": {},
   "outputs": [],
   "source": [
    "def gender_features(word):# gender features function\n",
    "    return{'last_letter': word[-1]}"
   ]
  },
  {
   "cell_type": "code",
   "execution_count": 5,
   "id": "fa522a36",
   "metadata": {},
   "outputs": [],
   "source": [
    "feature_sets = [(gender_features(n), gender) for (n, gender) in l]"
   ]
  },
  {
   "cell_type": "code",
   "execution_count": 6,
   "id": "65a4bf76",
   "metadata": {},
   "outputs": [],
   "source": [
    "train_set, test_set = feature_sets[1000:], feature_sets[:1000]"
   ]
  },
  {
   "cell_type": "code",
   "execution_count": 7,
   "id": "56858e8e",
   "metadata": {},
   "outputs": [],
   "source": [
    "from nltk import NaiveBayesClassifier # \n",
    "model = NaiveBayesClassifier.train(train_set)"
   ]
  },
  {
   "cell_type": "code",
   "execution_count": 8,
   "id": "2e157a30",
   "metadata": {},
   "outputs": [
    {
     "data": {
      "text/plain": [
       "'female'"
      ]
     },
     "execution_count": 8,
     "metadata": {},
     "output_type": "execute_result"
    }
   ],
   "source": [
    "model.classify(gender_features('Nisha'))"
   ]
  },
  {
   "cell_type": "code",
   "execution_count": 9,
   "id": "95ab774b",
   "metadata": {},
   "outputs": [
    {
     "data": {
      "text/plain": [
       "'male'"
      ]
     },
     "execution_count": 9,
     "metadata": {},
     "output_type": "execute_result"
    }
   ],
   "source": [
    "model.classify(gender_features('Shashank'))"
   ]
  },
  {
   "cell_type": "code",
   "execution_count": 10,
   "id": "43d0b7f0",
   "metadata": {},
   "outputs": [
    {
     "data": {
      "text/plain": [
       "'female'"
      ]
     },
     "execution_count": 10,
     "metadata": {},
     "output_type": "execute_result"
    }
   ],
   "source": [
    "model.classify(gender_features('anjali'))"
   ]
  },
  {
   "cell_type": "code",
   "execution_count": null,
   "id": "9ccd1982",
   "metadata": {},
   "outputs": [],
   "source": []
  }
 ],
 "metadata": {
  "kernelspec": {
   "display_name": "Python 3 (ipykernel)",
   "language": "python",
   "name": "python3"
  },
  "language_info": {
   "codemirror_mode": {
    "name": "ipython",
    "version": 3
   },
   "file_extension": ".py",
   "mimetype": "text/x-python",
   "name": "python",
   "nbconvert_exporter": "python",
   "pygments_lexer": "ipython3",
   "version": "3.9.13"
  }
 },
 "nbformat": 4,
 "nbformat_minor": 5
}
