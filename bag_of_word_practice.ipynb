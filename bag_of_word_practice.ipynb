{
 "cells": [
  {
   "cell_type": "markdown",
   "id": "1c6ede8f",
   "metadata": {},
   "source": [
    "# bag of words"
   ]
  },
  {
   "cell_type": "markdown",
   "id": "ff401b9e",
   "metadata": {},
   "source": [
    "import"
   ]
  },
  {
   "cell_type": "code",
   "execution_count": 1,
   "id": "70c3a13c",
   "metadata": {},
   "outputs": [],
   "source": [
    "from sklearn.feature_extraction.text import CountVectorizer"
   ]
  },
  {
   "cell_type": "code",
   "execution_count": 3,
   "id": "da2be915",
   "metadata": {},
   "outputs": [],
   "source": [
    "from sklearn.datasets import load_iris\n"
   ]
  },
  {
   "cell_type": "code",
   "execution_count": 4,
   "id": "83bfacd1",
   "metadata": {},
   "outputs": [
    {
     "data": {
      "text/plain": [
       "['Hello how are you',\n",
       " 'Hi students are you all good',\n",
       " 'Okay lets study bag of words']"
      ]
     },
     "execution_count": 4,
     "metadata": {},
     "output_type": "execute_result"
    }
   ],
   "source": [
    "sentences = [\"Hello how are you\",\n",
    "             \"Hi students are you all good\", \n",
    "             \"Okay lets study bag of words\"]\n",
    "sentences"
   ]
  },
  {
   "cell_type": "code",
   "execution_count": 5,
   "id": "5b147d43",
   "metadata": {},
   "outputs": [],
   "source": [
    "#create an object:\n",
    "cv = CountVectorizer()"
   ]
  },
  {
   "cell_type": "code",
   "execution_count": 6,
   "id": "10619604",
   "metadata": {},
   "outputs": [],
   "source": [
    "B_O_W = cv.fit_transform(sentences).toarray()"
   ]
  },
  {
   "cell_type": "code",
   "execution_count": 17,
   "id": "5971ee87",
   "metadata": {},
   "outputs": [
    {
     "data": {
      "text/plain": [
       "{'hello': 4,\n",
       " 'how': 6,\n",
       " 'are': 1,\n",
       " 'you': 13,\n",
       " 'hi': 5,\n",
       " 'students': 10,\n",
       " 'all': 0,\n",
       " 'good': 3,\n",
       " 'okay': 9,\n",
       " 'lets': 7,\n",
       " 'study': 11,\n",
       " 'bag': 2,\n",
       " 'of': 8,\n",
       " 'words': 12}"
      ]
     },
     "execution_count": 17,
     "metadata": {},
     "output_type": "execute_result"
    }
   ],
   "source": [
    "#total words with their index in model\n",
    "cv.vocabulary_"
   ]
  },
  {
   "cell_type": "markdown",
   "id": "bf9e6b25",
   "metadata": {},
   "source": [
    "vocabulary= find the number of times each word appeards in the corpus, figure out which words are the most common or uncommon"
   ]
  },
  {
   "cell_type": "code",
   "execution_count": 7,
   "id": "7baabf50",
   "metadata": {},
   "outputs": [
    {
     "data": {
      "text/plain": [
       "array(['all', 'are', 'bag', 'good', 'hello', 'hi', 'how', 'lets', 'of',\n",
       "       'okay', 'students', 'study', 'words', 'you'], dtype=object)"
      ]
     },
     "execution_count": 7,
     "metadata": {},
     "output_type": "execute_result"
    }
   ],
   "source": [
    "cv.get_feature_names_out()"
   ]
  },
  {
   "cell_type": "markdown",
   "id": "10ce4395",
   "metadata": {},
   "source": [
    "arrange in  order vocabulary words"
   ]
  },
  {
   "cell_type": "code",
   "execution_count": 8,
   "id": "65315309",
   "metadata": {},
   "outputs": [
    {
     "data": {
      "text/plain": [
       "array([[0, 1, 0, 0, 1, 0, 1, 0, 0, 0, 0, 0, 0, 1],\n",
       "       [1, 1, 0, 1, 0, 1, 0, 0, 0, 0, 1, 0, 0, 1],\n",
       "       [0, 0, 1, 0, 0, 0, 0, 1, 1, 1, 0, 1, 1, 0]], dtype=int64)"
      ]
     },
     "execution_count": 8,
     "metadata": {},
     "output_type": "execute_result"
    }
   ],
   "source": [
    "B_O_W"
   ]
  },
  {
   "cell_type": "code",
   "execution_count": null,
   "id": "dd43dbb5",
   "metadata": {},
   "outputs": [],
   "source": []
  },
  {
   "cell_type": "code",
   "execution_count": null,
   "id": "1a4abbf0",
   "metadata": {},
   "outputs": [],
   "source": []
  },
  {
   "cell_type": "code",
   "execution_count": null,
   "id": "3cf85ae2",
   "metadata": {},
   "outputs": [],
   "source": []
  },
  {
   "cell_type": "code",
   "execution_count": null,
   "id": "d08cffee",
   "metadata": {},
   "outputs": [],
   "source": []
  }
 ],
 "metadata": {
  "kernelspec": {
   "display_name": "Python 3 (ipykernel)",
   "language": "python",
   "name": "python3"
  },
  "language_info": {
   "codemirror_mode": {
    "name": "ipython",
    "version": 3
   },
   "file_extension": ".py",
   "mimetype": "text/x-python",
   "name": "python",
   "nbconvert_exporter": "python",
   "pygments_lexer": "ipython3",
   "version": "3.9.13"
  }
 },
 "nbformat": 4,
 "nbformat_minor": 5
}
