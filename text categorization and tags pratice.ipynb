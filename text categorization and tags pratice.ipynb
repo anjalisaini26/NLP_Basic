{
 "cells": [
  {
   "cell_type": "markdown",
   "id": "8c066c20",
   "metadata": {},
   "source": [
    "# Simple POS Tagger"
   ]
  },
  {
   "cell_type": "code",
   "execution_count": 2,
   "id": "eb72cb6f",
   "metadata": {},
   "outputs": [
    {
     "data": {
      "text/plain": [
       "['The',\n",
       " 'classes',\n",
       " 'are',\n",
       " 'reopening',\n",
       " 'from',\n",
       " '15th',\n",
       " \"March'2021\",\n",
       " 'in',\n",
       " 'St.',\n",
       " 'Joseph',\n",
       " \"'s\",\n",
       " 'College']"
      ]
     },
     "execution_count": 2,
     "metadata": {},
     "output_type": "execute_result"
    }
   ],
   "source": [
    "import nltk\n",
    "from nltk import pos_tag\n",
    "from nltk import word_tokenize\n",
    "sample_text = word_tokenize(\"The classes are reopening from 15th March'2021 in St. Joseph's College\")\n",
    "sample_text"
   ]
  },
  {
   "cell_type": "code",
   "execution_count": 3,
   "id": "c1c1ae42",
   "metadata": {},
   "outputs": [
    {
     "data": {
      "text/plain": [
       "[('The', 'DT'),\n",
       " ('classes', 'NNS'),\n",
       " ('are', 'VBP'),\n",
       " ('reopening', 'VBG'),\n",
       " ('from', 'IN'),\n",
       " ('15th', 'CD'),\n",
       " (\"March'2021\", 'NNP'),\n",
       " ('in', 'IN'),\n",
       " ('St.', 'NNP'),\n",
       " ('Joseph', 'NNP'),\n",
       " (\"'s\", 'POS'),\n",
       " ('College', 'NNP')]"
      ]
     },
     "execution_count": 3,
     "metadata": {},
     "output_type": "execute_result"
    }
   ],
   "source": [
    "pos_tag(sample_text)"
   ]
  },
  {
   "cell_type": "code",
   "execution_count": 6,
   "id": "de274b2f",
   "metadata": {},
   "outputs": [
    {
     "name": "stderr",
     "output_type": "stream",
     "text": [
      "[nltk_data] Downloading package tagsets to\n",
      "[nltk_data]     C:\\Users\\admin\\AppData\\Roaming\\nltk_data...\n",
      "[nltk_data]   Unzipping help\\tagsets.zip.\n"
     ]
    },
    {
     "data": {
      "text/plain": [
       "True"
      ]
     },
     "execution_count": 6,
     "metadata": {},
     "output_type": "execute_result"
    }
   ],
   "source": [
    "import nltk\n",
    "nltk.download('tagsets')\n"
   ]
  },
  {
   "cell_type": "code",
   "execution_count": 7,
   "id": "6a7c46fb",
   "metadata": {},
   "outputs": [
    {
     "name": "stdout",
     "output_type": "stream",
     "text": [
      "VBG: verb, present participle or gerund\n",
      "    telegraphing stirring focusing angering judging stalling lactating\n",
      "    hankerin' alleging veering capping approaching traveling besieging\n",
      "    encrypting interrupting erasing wincing ...\n"
     ]
    }
   ],
   "source": [
    "nltk.help.upenn_tagset('VBG')"
   ]
  },
  {
   "cell_type": "code",
   "execution_count": 9,
   "id": "7098b0ae",
   "metadata": {},
   "outputs": [
    {
     "name": "stderr",
     "output_type": "stream",
     "text": [
      "[nltk_data] Downloading package brown to\n",
      "[nltk_data]     C:\\Users\\admin\\AppData\\Roaming\\nltk_data...\n",
      "[nltk_data]   Unzipping corpora\\brown.zip.\n"
     ]
    },
    {
     "data": {
      "text/plain": [
       "True"
      ]
     },
     "execution_count": 9,
     "metadata": {},
     "output_type": "execute_result"
    }
   ],
   "source": [
    "import nltk\n",
    "nltk.download('brown')"
   ]
  },
  {
   "cell_type": "code",
   "execution_count": 10,
   "id": "459d000f",
   "metadata": {},
   "outputs": [
    {
     "data": {
      "text/plain": [
       "<Text: the fulton county grand jury said friday an...>"
      ]
     },
     "execution_count": 10,
     "metadata": {},
     "output_type": "execute_result"
    }
   ],
   "source": [
    "text = nltk.Text(word.lower() for word in nltk.corpus.brown.words())\n",
    "text"
   ]
  },
  {
   "cell_type": "code",
   "execution_count": 11,
   "id": "f0b9bd4f",
   "metadata": {},
   "outputs": [
    {
     "name": "stdout",
     "output_type": "stream",
     "text": [
      "man time day way girl year house people world city family state room\n",
      "country car woman program church government job\n"
     ]
    }
   ],
   "source": [
    "text.similar('boy')"
   ]
  },
  {
   "cell_type": "code",
   "execution_count": 12,
   "id": "e272df0d",
   "metadata": {},
   "outputs": [
    {
     "name": "stdout",
     "output_type": "stream",
     "text": [
      "time man year state work place one day case way world is question\n",
      "group country war start moment in and\n"
     ]
    }
   ],
   "source": [
    "text.similar('test')"
   ]
  },
  {
   "cell_type": "markdown",
   "id": "6c6bf9c6",
   "metadata": {},
   "source": [
    "# Representing Tagged Words/Tokens"
   ]
  },
  {
   "cell_type": "code",
   "execution_count": 13,
   "id": "2d6264e7",
   "metadata": {},
   "outputs": [],
   "source": [
    "var1 = nltk.tag.str2tuple('SJCC/NNP')"
   ]
  },
  {
   "cell_type": "code",
   "execution_count": 14,
   "id": "1548874c",
   "metadata": {},
   "outputs": [
    {
     "data": {
      "text/plain": [
       "('SJCC', 'NNP')"
      ]
     },
     "execution_count": 14,
     "metadata": {},
     "output_type": "execute_result"
    }
   ],
   "source": [
    "var1"
   ]
  },
  {
   "cell_type": "code",
   "execution_count": 15,
   "id": "0df4631f",
   "metadata": {},
   "outputs": [
    {
     "data": {
      "text/plain": [
       "'NNP'"
      ]
     },
     "execution_count": 15,
     "metadata": {},
     "output_type": "execute_result"
    }
   ],
   "source": [
    "var1[1]"
   ]
  },
  {
   "cell_type": "code",
   "execution_count": 17,
   "id": "09bfeb8d",
   "metadata": {},
   "outputs": [
    {
     "data": {
      "text/plain": [
       "'SJCC'"
      ]
     },
     "execution_count": 17,
     "metadata": {},
     "output_type": "execute_result"
    }
   ],
   "source": [
    "var1[0]"
   ]
  },
  {
   "cell_type": "code",
   "execution_count": 18,
   "id": "9591f043",
   "metadata": {},
   "outputs": [
    {
     "data": {
      "text/plain": [
       "\"\\n            The/DT classes/NNS are/VBP reopening/VBG from/IN 15th/CD March'2021/NNP \\n            in/IN St./NNP Joseph/NNP 's/POS College/NNP\\n            \""
      ]
     },
     "execution_count": 18,
     "metadata": {},
     "output_type": "execute_result"
    }
   ],
   "source": [
    "sentence = '''\n",
    "            The/DT classes/NNS are/VBP reopening/VBG from/IN 15th/CD March'2021/NNP \n",
    "            in/IN St./NNP Joseph/NNP 's/POS College/NNP\n",
    "            '''\n",
    "sentence"
   ]
  },
  {
   "cell_type": "code",
   "execution_count": 19,
   "id": "1602c06d",
   "metadata": {},
   "outputs": [
    {
     "data": {
      "text/plain": [
       "[('The', 'DT'),\n",
       " ('classes', 'NNS'),\n",
       " ('are', 'VBP'),\n",
       " ('reopening', 'VBG'),\n",
       " ('from', 'IN'),\n",
       " ('15th', 'CD'),\n",
       " (\"March'2021\", 'NNP'),\n",
       " ('in', 'IN'),\n",
       " ('St.', 'NNP'),\n",
       " ('Joseph', 'NNP'),\n",
       " (\"'s\", 'POS'),\n",
       " ('College', 'NNP')]"
      ]
     },
     "execution_count": 19,
     "metadata": {},
     "output_type": "execute_result"
    }
   ],
   "source": [
    "[nltk.tag.str2tuple(i) for i in sentence.split()]\n",
    "#split the process of diviing text into sentences"
   ]
  },
  {
   "cell_type": "code",
   "execution_count": 20,
   "id": "d355fe62",
   "metadata": {},
   "outputs": [
    {
     "data": {
      "text/plain": [
       "[('The', 'AT'), ('Fulton', 'NP-TL'), ...]"
      ]
     },
     "execution_count": 20,
     "metadata": {},
     "output_type": "execute_result"
    }
   ],
   "source": [
    "nltk.corpus.brown.tagged_words()"
   ]
  },
  {
   "cell_type": "code",
   "execution_count": 21,
   "id": "e2654ecc",
   "metadata": {},
   "outputs": [
    {
     "name": "stdout",
     "output_type": "stream",
     "text": [
      "No matching tags found.\n"
     ]
    }
   ],
   "source": [
    "nltk.help.upenn_tagset('AT')"
   ]
  },
  {
   "cell_type": "code",
   "execution_count": 23,
   "id": "1d2a061f",
   "metadata": {},
   "outputs": [
    {
     "name": "stderr",
     "output_type": "stream",
     "text": [
      "[nltk_data] Downloading package indian to\n",
      "[nltk_data]     C:\\Users\\admin\\AppData\\Roaming\\nltk_data...\n",
      "[nltk_data]   Unzipping corpora\\indian.zip.\n"
     ]
    },
    {
     "data": {
      "text/plain": [
       "True"
      ]
     },
     "execution_count": 23,
     "metadata": {},
     "output_type": "execute_result"
    }
   ],
   "source": [
    "import nltk\n",
    "nltk.download('indian')\n"
   ]
  },
  {
   "cell_type": "code",
   "execution_count": 24,
   "id": "77576f5a",
   "metadata": {},
   "outputs": [
    {
     "data": {
      "text/plain": [
       "[('মহিষের', 'NN'), ('সন্তান', 'NN'), (':', 'SYM'), ...]"
      ]
     },
     "execution_count": 24,
     "metadata": {},
     "output_type": "execute_result"
    }
   ],
   "source": [
    "nltk.corpus.indian.tagged_words()"
   ]
  },
  {
   "cell_type": "code",
   "execution_count": 25,
   "id": "b2250353",
   "metadata": {},
   "outputs": [
    {
     "data": {
      "text/plain": [
       "[('Pierre', 'NNP'), ('Vinken', 'NNP'), (',', ','), ...]"
      ]
     },
     "execution_count": 25,
     "metadata": {},
     "output_type": "execute_result"
    }
   ],
   "source": [
    "nltk.corpus.treebank.tagged_words()\n",
    "#"
   ]
  },
  {
   "cell_type": "code",
   "execution_count": 27,
   "id": "ed3430d1",
   "metadata": {},
   "outputs": [
    {
     "name": "stderr",
     "output_type": "stream",
     "text": [
      "[nltk_data] Downloading package universal_tagset to\n",
      "[nltk_data]     C:\\Users\\admin\\AppData\\Roaming\\nltk_data...\n",
      "[nltk_data]   Unzipping taggers\\universal_tagset.zip.\n"
     ]
    },
    {
     "data": {
      "text/plain": [
       "True"
      ]
     },
     "execution_count": 27,
     "metadata": {},
     "output_type": "execute_result"
    }
   ],
   "source": [
    "import nltk\n",
    "nltk.download('universal_tagset')"
   ]
  },
  {
   "cell_type": "code",
   "execution_count": 28,
   "id": "3ea3c266",
   "metadata": {},
   "outputs": [
    {
     "data": {
      "text/plain": [
       "[('Pierre', 'NOUN'), ('Vinken', 'NOUN'), (',', '.'), ...]"
      ]
     },
     "execution_count": 28,
     "metadata": {},
     "output_type": "execute_result"
    }
   ],
   "source": [
    "nltk.corpus.treebank.tagged_words(tagset = 'universal')"
   ]
  },
  {
   "cell_type": "markdown",
   "id": "83c8b7d5",
   "metadata": {},
   "source": [
    "# Nouns, Verbs, Adverbs and Adjectives Categorization"
   ]
  },
  {
   "cell_type": "code",
   "execution_count": 29,
   "id": "717d0a6f",
   "metadata": {},
   "outputs": [
    {
     "data": {
      "text/plain": [
       "[('The', 'DET'), ('Fulton', 'NOUN'), ...]"
      ]
     },
     "execution_count": 29,
     "metadata": {},
     "output_type": "execute_result"
    }
   ],
   "source": [
    "from nltk.corpus import brown\n",
    "brown_news_tagged = brown.tagged_words(categories = 'news', tagset = 'universal')\n",
    "brown_news_tagged"
   ]
  },
  {
   "cell_type": "code",
   "execution_count": 30,
   "id": "58a48aa1",
   "metadata": {},
   "outputs": [
    {
     "data": {
      "text/plain": [
       "<generator object bigrams at 0x000001B49079EF90>"
      ]
     },
     "execution_count": 30,
     "metadata": {},
     "output_type": "execute_result"
    }
   ],
   "source": [
    "word_tag_pairs = nltk.bigrams(brown_news_tagged)\n",
    "word_tag_pairs"
   ]
  },
  {
   "cell_type": "markdown",
   "id": "713f6d2f",
   "metadata": {},
   "source": [
    "#  assertion based on grammar is ==> nouns come after a determiner, an adjective or can be the topic/subject/object of the verb"
   ]
  },
  {
   "cell_type": "code",
   "execution_count": 31,
   "id": "f080bbd8",
   "metadata": {},
   "outputs": [],
   "source": [
    "n = [a[1] for (a, b) in word_tag_pairs if b[1] == 'NOUN']"
   ]
  },
  {
   "cell_type": "code",
   "execution_count": 32,
   "id": "f4f3e70d",
   "metadata": {},
   "outputs": [],
   "source": [
    "fdist = nltk.FreqDist(n)"
   ]
  },
  {
   "cell_type": "code",
   "execution_count": 33,
   "id": "f1c7640f",
   "metadata": {},
   "outputs": [
    {
     "data": {
      "text/plain": [
       "['NOUN',\n",
       " 'DET',\n",
       " 'ADJ',\n",
       " 'ADP',\n",
       " '.',\n",
       " 'VERB',\n",
       " 'CONJ',\n",
       " 'NUM',\n",
       " 'ADV',\n",
       " 'PRT',\n",
       " 'PRON',\n",
       " 'X']"
      ]
     },
     "execution_count": 33,
     "metadata": {},
     "output_type": "execute_result"
    }
   ],
   "source": [
    "[tag for (tag, _) in fdist.most_common()]"
   ]
  },
  {
   "cell_type": "markdown",
   "id": "b10e05c7",
   "metadata": {},
   "source": [
    "# most common verbs in the corpus"
   ]
  },
  {
   "cell_type": "code",
   "execution_count": 34,
   "id": "4a72dae1",
   "metadata": {},
   "outputs": [
    {
     "data": {
      "text/plain": [
       "[('Pierre', 'NOUN'), ('Vinken', 'NOUN'), (',', '.'), ...]"
      ]
     },
     "execution_count": 34,
     "metadata": {},
     "output_type": "execute_result"
    }
   ],
   "source": [
    "w = nltk.corpus.treebank.tagged_words(tagset = 'universal')\n",
    "w"
   ]
  },
  {
   "cell_type": "code",
   "execution_count": 35,
   "id": "1007ad54",
   "metadata": {},
   "outputs": [
    {
     "data": {
      "text/plain": [
       "FreqDist({(',', '.'): 4885, ('the', 'DET'): 4038, ('.', '.'): 3828, ('of', 'ADP'): 2319, ('to', 'PRT'): 2161, ('a', 'DET'): 1874, ('in', 'ADP'): 1554, ('and', 'CONJ'): 1505, ('*-1', 'X'): 1123, ('0', 'X'): 1099, ...})"
      ]
     },
     "execution_count": 35,
     "metadata": {},
     "output_type": "execute_result"
    }
   ],
   "source": [
    "freq_tagsets = nltk.FreqDist(w)\n",
    "freq_tagsets"
   ]
  },
  {
   "cell_type": "code",
   "execution_count": 36,
   "id": "31f3739a",
   "metadata": {},
   "outputs": [
    {
     "data": {
      "text/plain": [
       "['is',\n",
       " 'said',\n",
       " 'was',\n",
       " 'are',\n",
       " 'be',\n",
       " 'has',\n",
       " 'have',\n",
       " 'will',\n",
       " 'says',\n",
       " 'would',\n",
       " 'were',\n",
       " 'had',\n",
       " 'been',\n",
       " 'could',\n",
       " \"'s\",\n",
       " 'can',\n",
       " 'do',\n",
       " 'say',\n",
       " 'make',\n",
       " 'may',\n",
       " 'did',\n",
       " 'rose',\n",
       " 'made',\n",
       " 'does',\n",
       " 'expected',\n",
       " 'buy',\n",
       " 'take',\n",
       " 'get',\n",
       " 'might',\n",
       " 'sell',\n",
       " 'added',\n",
       " 'sold',\n",
       " 'help',\n",
       " 'including',\n",
       " 'should',\n",
       " 'reported',\n",
       " 'according',\n",
       " 'pay',\n",
       " 'compared',\n",
       " 'being',\n",
       " 'fell',\n",
       " 'began',\n",
       " 'based',\n",
       " 'used',\n",
       " 'closed',\n",
       " \"'re\",\n",
       " 'want',\n",
       " 'see',\n",
       " 'took',\n",
       " 'yield',\n",
       " 'offered',\n",
       " 'set',\n",
       " 'priced',\n",
       " 'approved',\n",
       " 'come',\n",
       " 'noted',\n",
       " 'cut',\n",
       " 'ended',\n",
       " 'found',\n",
       " 'increased',\n",
       " 'become',\n",
       " 'think',\n",
       " 'named',\n",
       " 'go',\n",
       " 'trying',\n",
       " 'proposed',\n",
       " 'received',\n",
       " 'growing',\n",
       " 'declined',\n",
       " 'held',\n",
       " 'give',\n",
       " 'came',\n",
       " 'use',\n",
       " 'put',\n",
       " 'making',\n",
       " 'continue',\n",
       " 'raise',\n",
       " 'estimated',\n",
       " 'called',\n",
       " 'paid',\n",
       " 'designed',\n",
       " 'going',\n",
       " 'expects',\n",
       " 'seeking',\n",
       " 'must',\n",
       " 'plans',\n",
       " 'wo',\n",
       " 'increasing',\n",
       " 'saying',\n",
       " 'got',\n",
       " 'owns',\n",
       " 'trading',\n",
       " 'acquired',\n",
       " 'gained',\n",
       " 'fined',\n",
       " 'reached',\n",
       " 'holding',\n",
       " 'announced',\n",
       " 'filed',\n",
       " 'became',\n",
       " 'seek',\n",
       " 'included',\n",
       " 'using',\n",
       " 'led',\n",
       " 'decided',\n",
       " 'keep',\n",
       " 'disclosed',\n",
       " 'agreed',\n",
       " 'find',\n",
       " 'failed',\n",
       " 'run',\n",
       " 'taken',\n",
       " 'know',\n",
       " 'coming',\n",
       " \"'ve\",\n",
       " 'completed',\n",
       " 'built',\n",
       " 'raised',\n",
       " 'traded',\n",
       " 'lost',\n",
       " 'continued',\n",
       " 'paying',\n",
       " 'include',\n",
       " 'believe',\n",
       " 'receive',\n",
       " 'posted',\n",
       " 'wants',\n",
       " 'scheduled',\n",
       " 'went',\n",
       " 'indicated',\n",
       " 'provide',\n",
       " 'helped',\n",
       " 'needed',\n",
       " 'goes',\n",
       " 'told',\n",
       " 'result',\n",
       " 'need',\n",
       " 'caused',\n",
       " 'continues',\n",
       " 'dropped',\n",
       " 'showed',\n",
       " 'ordered',\n",
       " 'changed',\n",
       " 'face',\n",
       " 'continuing',\n",
       " 'launched',\n",
       " 'gives',\n",
       " 'reduce',\n",
       " \"'m\",\n",
       " 'lead',\n",
       " 'planned',\n",
       " 'wanted',\n",
       " 'following',\n",
       " 'remains',\n",
       " 'followed',\n",
       " 'remain',\n",
       " 'meet',\n",
       " 'believes',\n",
       " 'trade',\n",
       " 'includes',\n",
       " 'improve',\n",
       " 'buying',\n",
       " 'issued',\n",
       " 'rise',\n",
       " 'leading',\n",
       " 'ca',\n",
       " 'involved',\n",
       " 'known',\n",
       " 'like',\n",
       " 'makes',\n",
       " 'having',\n",
       " 'rejected',\n",
       " 'rising',\n",
       " 'increase',\n",
       " 'turned',\n",
       " 'operating',\n",
       " 'read',\n",
       " 'feel',\n",
       " 'win',\n",
       " 'given',\n",
       " 'prevent',\n",
       " 'offset',\n",
       " 'barred',\n",
       " 'earned',\n",
       " 'consented',\n",
       " 'support',\n",
       " 'gave',\n",
       " 'totaled',\n",
       " 'acquire',\n",
       " 'required',\n",
       " 'begin',\n",
       " 'require',\n",
       " 'offer',\n",
       " 'preferred',\n",
       " 'produced',\n",
       " 'bought',\n",
       " 'offering',\n",
       " 'asked',\n",
       " 'carry',\n",
       " 'build',\n",
       " 'takes',\n",
       " 'seem',\n",
       " 'introduced',\n",
       " 'taking',\n",
       " 'won',\n",
       " 'aimed',\n",
       " 'hurt',\n",
       " 'adds',\n",
       " 'cited',\n",
       " 'sought',\n",
       " 'bring',\n",
       " 'remaining',\n",
       " 'considered',\n",
       " 'suspended',\n",
       " 'prove',\n",
       " 'looking',\n",
       " 'doing',\n",
       " 'involving',\n",
       " 'opened',\n",
       " 'working',\n",
       " 'close',\n",
       " 'own',\n",
       " 'report',\n",
       " 'left',\n",
       " 'boosted',\n",
       " 'giving',\n",
       " 'fixed',\n",
       " 'listed',\n",
       " 'runs',\n",
       " 'purchasing',\n",
       " 'consider',\n",
       " 'prepared',\n",
       " 'hit',\n",
       " 'getting',\n",
       " 'alleged',\n",
       " 'look',\n",
       " 'allowed',\n",
       " 'approve',\n",
       " 'wrote',\n",
       " 'reduced',\n",
       " 'fall',\n",
       " 'advanced',\n",
       " 'appears',\n",
       " 'mixed',\n",
       " 'described',\n",
       " 'expect',\n",
       " 'manufacturing',\n",
       " 'spent',\n",
       " 'According',\n",
       " 'hopes',\n",
       " 'underlying',\n",
       " 'produce',\n",
       " 'work',\n",
       " 'placed',\n",
       " 'allow',\n",
       " 'sells',\n",
       " 'operate',\n",
       " 'extend',\n",
       " 'surged',\n",
       " 'jumped',\n",
       " 'boost',\n",
       " 'slowing',\n",
       " 'provided',\n",
       " 'seems',\n",
       " 'ending',\n",
       " 'selling',\n",
       " 'opposed',\n",
       " 'created',\n",
       " 'move',\n",
       " 'seen',\n",
       " 'comment',\n",
       " 'valued',\n",
       " 'losing',\n",
       " 'mature',\n",
       " 'provides',\n",
       " 'let',\n",
       " 'stopped',\n",
       " 'worked',\n",
       " 'thought',\n",
       " 'watch',\n",
       " 'introduce',\n",
       " 'related',\n",
       " 'improved',\n",
       " 'raising',\n",
       " 'seemed',\n",
       " 'force',\n",
       " 'beginning',\n",
       " 'leave',\n",
       " 'believed',\n",
       " 'stand',\n",
       " 'developed',\n",
       " 'decline',\n",
       " 'expire',\n",
       " 'managing',\n",
       " 'hold',\n",
       " 'invested',\n",
       " 'suggests',\n",
       " 'represent',\n",
       " 'settle',\n",
       " 'change',\n",
       " 'contributed',\n",
       " 'indicates',\n",
       " 'asking',\n",
       " 'elaborate',\n",
       " 'shows',\n",
       " 'refused',\n",
       " 'quoted',\n",
       " 'comes',\n",
       " 'ease',\n",
       " 'passed',\n",
       " 'Says',\n",
       " 'avoid',\n",
       " 'threatened',\n",
       " 'cause',\n",
       " 'end',\n",
       " 'violate',\n",
       " 'operates',\n",
       " 'kept',\n",
       " \"'ll\",\n",
       " 'soared',\n",
       " 'eliminated',\n",
       " 'becomes',\n",
       " 'create',\n",
       " 'print',\n",
       " 'shall',\n",
       " 'show',\n",
       " 'replaced',\n",
       " 'owned',\n",
       " 'argue',\n",
       " 'beat',\n",
       " 'elected',\n",
       " 'complete',\n",
       " 'issue',\n",
       " 'act',\n",
       " 'return',\n",
       " 'registered',\n",
       " 'suffer',\n",
       " 'worried',\n",
       " 'succeed',\n",
       " 'block',\n",
       " 'contain',\n",
       " 'occur',\n",
       " 'pursue',\n",
       " 'combined',\n",
       " 'requires',\n",
       " 'met',\n",
       " 'brought',\n",
       " 'started',\n",
       " 'covered',\n",
       " 'turn',\n",
       " 'running',\n",
       " 'eliminate',\n",
       " 'file',\n",
       " 'plunged',\n",
       " 'fallen',\n",
       " 'ran',\n",
       " 'fired',\n",
       " 'becoming',\n",
       " 'contained',\n",
       " 'managed',\n",
       " 'Take',\n",
       " 'suggested',\n",
       " 'accused',\n",
       " 'appeared',\n",
       " 'slow',\n",
       " 'helping',\n",
       " 'discovered',\n",
       " 'add',\n",
       " 'referred',\n",
       " 'oppose',\n",
       " 'stop',\n",
       " 'claim',\n",
       " 'sent',\n",
       " 'formed',\n",
       " 'resulting',\n",
       " 'turning',\n",
       " 'limited',\n",
       " 'shipped',\n",
       " 'forced',\n",
       " 'send',\n",
       " 'attract',\n",
       " 'admitting',\n",
       " 'denying',\n",
       " 'disgorge',\n",
       " 'attributed',\n",
       " 'causing',\n",
       " 'studied',\n",
       " 'resigned',\n",
       " 'cutting',\n",
       " 'voted',\n",
       " 'settled',\n",
       " 'expand',\n",
       " 'stood',\n",
       " 'retired',\n",
       " 'moved',\n",
       " 'pending',\n",
       " 'providing',\n",
       " 'anticipated',\n",
       " 'decide',\n",
       " 'creating',\n",
       " 'prompted',\n",
       " 'developing',\n",
       " 'start',\n",
       " 'maintained',\n",
       " 'expanding',\n",
       " 'follows',\n",
       " 'ranged',\n",
       " 'focused',\n",
       " 'climbed',\n",
       " 'reflect',\n",
       " 'insist',\n",
       " 'owed',\n",
       " 'happen',\n",
       " 'adjusted',\n",
       " 'awarded',\n",
       " 'reporting',\n",
       " 'talk',\n",
       " 'offers',\n",
       " 'written',\n",
       " 'urged',\n",
       " 'carried',\n",
       " 'identified',\n",
       " 'confirmed',\n",
       " 'playing',\n",
       " 'thinking',\n",
       " 'calls',\n",
       " 'means',\n",
       " 'tried',\n",
       " 'lying',\n",
       " 'asks',\n",
       " 'building',\n",
       " 'suggest',\n",
       " 'falling',\n",
       " 'discuss',\n",
       " 'matched',\n",
       " 'concluded',\n",
       " 'keeping',\n",
       " \"'d\",\n",
       " 'returned',\n",
       " 'withdrawn',\n",
       " 'bid',\n",
       " 'saw',\n",
       " 'signed',\n",
       " 'financing',\n",
       " 'assuming',\n",
       " 'adopted',\n",
       " 'attempting',\n",
       " 'accepted',\n",
       " 'cover',\n",
       " 'facing',\n",
       " 'risk',\n",
       " 'expanded',\n",
       " 'leaving',\n",
       " 'raises',\n",
       " 'declared',\n",
       " 'exercise',\n",
       " 'finished',\n",
       " 'regarding',\n",
       " 'finance',\n",
       " 'charge',\n",
       " 'starting',\n",
       " 'realize',\n",
       " 'felt',\n",
       " 'remained',\n",
       " 'expressed',\n",
       " 'done',\n",
       " 'replace',\n",
       " 'veto',\n",
       " 'stay',\n",
       " 'delivered',\n",
       " 'join',\n",
       " 'publishing',\n",
       " 'enters',\n",
       " 'appear',\n",
       " 'talking',\n",
       " 'heard',\n",
       " 'dumped',\n",
       " 'imported',\n",
       " 'assume',\n",
       " 'declining',\n",
       " 'capture',\n",
       " 'grew',\n",
       " 'holds',\n",
       " 'lift',\n",
       " 'treat',\n",
       " 'receiving',\n",
       " 'joined',\n",
       " 'reflecting',\n",
       " 'released',\n",
       " 'maintaining',\n",
       " 'cost',\n",
       " 'lowered',\n",
       " 'costs',\n",
       " 'exceed',\n",
       " 'gaining',\n",
       " 'considering',\n",
       " 'determined',\n",
       " 'ruled',\n",
       " 'hope',\n",
       " 'located',\n",
       " 'tied',\n",
       " 'heads',\n",
       " 'applied',\n",
       " 'failing',\n",
       " 'showing',\n",
       " 'apply',\n",
       " 'protecting',\n",
       " 'tells',\n",
       " 'complained',\n",
       " 'ask',\n",
       " 'triggered',\n",
       " 'entered',\n",
       " 'total',\n",
       " 'producing',\n",
       " 'denied',\n",
       " 'reducing',\n",
       " 'reflects',\n",
       " 'account',\n",
       " 'predicting',\n",
       " 'intended',\n",
       " 'purchased',\n",
       " 'blamed',\n",
       " 'worry',\n",
       " 'broken',\n",
       " 'carries',\n",
       " 'learned',\n",
       " 'renewed',\n",
       " 'walk',\n",
       " 'viewed',\n",
       " 'die',\n",
       " 'speculated',\n",
       " 'needs',\n",
       " 'gets',\n",
       " 'wait',\n",
       " 'caught',\n",
       " 'claims',\n",
       " 'choose',\n",
       " 'fail',\n",
       " 'insists',\n",
       " 'knows',\n",
       " 'pass',\n",
       " 'grown',\n",
       " 'gotten',\n",
       " 'grows',\n",
       " 'responded',\n",
       " 'play',\n",
       " 'try',\n",
       " 'mean',\n",
       " 'encourage',\n",
       " 'chosen',\n",
       " 'admits',\n",
       " 'Do',\n",
       " 'dismissed',\n",
       " 'realized',\n",
       " 'serve',\n",
       " 'associated',\n",
       " 'slipped',\n",
       " 'argued',\n",
       " 'citing',\n",
       " 'seeks',\n",
       " 'preventing',\n",
       " 'sparked',\n",
       " 'review',\n",
       " 'opening',\n",
       " 'fueled',\n",
       " 'negotiate',\n",
       " 'drop',\n",
       " 'pleased',\n",
       " 'spend',\n",
       " 'care',\n",
       " 'represents',\n",
       " 'spread',\n",
       " 'explains',\n",
       " 'push',\n",
       " 'divided',\n",
       " 'proposing',\n",
       " 'gain',\n",
       " 'representing',\n",
       " 'financed',\n",
       " 'execute',\n",
       " 'existing',\n",
       " 'discussed',\n",
       " 'uses',\n",
       " 'live',\n",
       " 'ring',\n",
       " 'signal',\n",
       " 'focus',\n",
       " 'hired',\n",
       " 'limit',\n",
       " 'begins',\n",
       " 'reflected',\n",
       " 'hear',\n",
       " 'determine',\n",
       " 'profit',\n",
       " 'marketed',\n",
       " 'warned',\n",
       " 'qualified',\n",
       " 'died',\n",
       " 'surviving',\n",
       " 'study',\n",
       " 'explained',\n",
       " 'imposed',\n",
       " 'recognize',\n",
       " 'eased',\n",
       " 'indicate',\n",
       " 'permit',\n",
       " 'retain',\n",
       " 'yielding',\n",
       " 'boosts',\n",
       " 'obtain',\n",
       " 'employs',\n",
       " 'banned',\n",
       " 'pointed',\n",
       " 'leaves',\n",
       " 'withdraw',\n",
       " 'refund',\n",
       " 'collected',\n",
       " 'upheld',\n",
       " 'benefited',\n",
       " 'doubled',\n",
       " 'attached',\n",
       " 'jump',\n",
       " 'compete',\n",
       " 'incurred',\n",
       " 'removed',\n",
       " 'honor',\n",
       " 'varying',\n",
       " 'marketing',\n",
       " 'protect',\n",
       " 'reach',\n",
       " 'share',\n",
       " 'requested',\n",
       " 'grant',\n",
       " 'stepping',\n",
       " 'direct',\n",
       " 'curb',\n",
       " 'controlling',\n",
       " 'snapped',\n",
       " 'tend',\n",
       " 'cast',\n",
       " 'clear',\n",
       " 'permitted',\n",
       " 'remove',\n",
       " 'revive',\n",
       " 'draw',\n",
       " 'predicted',\n",
       " 'suspect',\n",
       " 'coupled',\n",
       " 'belong',\n",
       " 'call',\n",
       " 'describes',\n",
       " 'played',\n",
       " 'committed',\n",
       " 'advertising',\n",
       " 'tested',\n",
       " 'revived',\n",
       " 'earns',\n",
       " 'feeling',\n",
       " 'turns',\n",
       " 'executed',\n",
       " 'killed',\n",
       " 'presented',\n",
       " 'deserve',\n",
       " 'mention',\n",
       " 'seeing',\n",
       " 'discussing',\n",
       " 'convicted',\n",
       " 'telling',\n",
       " 'agree',\n",
       " 'denies',\n",
       " 'pursued',\n",
       " 'spurred',\n",
       " 'accommodate',\n",
       " 'surrendered',\n",
       " 'gone',\n",
       " 'teach',\n",
       " 'booming',\n",
       " 'serving',\n",
       " 'restore',\n",
       " 'restructured',\n",
       " 'taught',\n",
       " 'feared',\n",
       " 'meant',\n",
       " 'adding',\n",
       " 'publishes',\n",
       " 'improving',\n",
       " 'ignoring',\n",
       " 'represented',\n",
       " 'funded',\n",
       " 'involve',\n",
       " 'charged',\n",
       " 'fared',\n",
       " 'eliminates',\n",
       " 'tumbled',\n",
       " 'redeemed',\n",
       " 'resolve',\n",
       " 'stem',\n",
       " 'hire',\n",
       " 'obtained',\n",
       " 'develop',\n",
       " 'employed',\n",
       " 'prohibits',\n",
       " 'promote',\n",
       " 'impose',\n",
       " 'consist',\n",
       " 'investigating',\n",
       " 'accepting',\n",
       " 'plan',\n",
       " 'insisted',\n",
       " 'contacted',\n",
       " 'note',\n",
       " 'driving',\n",
       " 'contends',\n",
       " 'cites',\n",
       " 'point',\n",
       " 'sign',\n",
       " 'printed',\n",
       " 'advertise',\n",
       " 'breaks',\n",
       " 'damaged',\n",
       " 'check',\n",
       " 'thinks',\n",
       " 'looming',\n",
       " 'expecting',\n",
       " 'exercised',\n",
       " 'auctioned',\n",
       " 'disappointed',\n",
       " 'subordinated',\n",
       " 'respond',\n",
       " 'secured',\n",
       " 'integrated',\n",
       " 'performed',\n",
       " 'targeting',\n",
       " 'stepped',\n",
       " 'moving',\n",
       " 'split',\n",
       " 'Buy',\n",
       " 'stemming',\n",
       " 'executing',\n",
       " 'shut',\n",
       " 'writing',\n",
       " 'regulated',\n",
       " 'stands',\n",
       " 'attend',\n",
       " 'reopen',\n",
       " 'drawn',\n",
       " 'Put',\n",
       " 'notes',\n",
       " 'weaken',\n",
       " 'trailed',\n",
       " 'deliver',\n",
       " 'occurred',\n",
       " 'changing',\n",
       " 'accept',\n",
       " 'expelled',\n",
       " 'amounted',\n",
       " 'scrutinizing',\n",
       " 'suspend',\n",
       " 'compares',\n",
       " 'backed',\n",
       " 'vote',\n",
       " 'covers',\n",
       " 'knew',\n",
       " 'joining',\n",
       " 'record',\n",
       " 'regarded',\n",
       " 'copy',\n",
       " 'conclude',\n",
       " 'ought',\n",
       " 'dominated',\n",
       " 'pushed',\n",
       " 'closing',\n",
       " 'rumored',\n",
       " 'respected',\n",
       " 'specified',\n",
       " 'understand',\n",
       " 'supported',\n",
       " 'perform',\n",
       " 'declaring',\n",
       " 'struggling',\n",
       " 'abandoned',\n",
       " 'considers',\n",
       " 'warning',\n",
       " 'offsetting',\n",
       " 'break',\n",
       " 'follow',\n",
       " 'figure',\n",
       " 'increases',\n",
       " 'proving',\n",
       " 'edged',\n",
       " 'Buying',\n",
       " 'forecast',\n",
       " 'specify',\n",
       " 'extended',\n",
       " 'tendered',\n",
       " 'unveiled',\n",
       " 'treating',\n",
       " 'exposed',\n",
       " 'industrialized',\n",
       " 'regulate',\n",
       " 'contracted',\n",
       " 'blip',\n",
       " 'vary',\n",
       " 'slid',\n",
       " 'succeeds',\n",
       " 'lifted',\n",
       " 'acts',\n",
       " 'welcomed',\n",
       " 'squeezed',\n",
       " 'fed',\n",
       " 'casting',\n",
       " 'prolonged',\n",
       " 'recorded',\n",
       " 'announce',\n",
       " 'reward',\n",
       " 'bowed',\n",
       " 'justify',\n",
       " 'asserted',\n",
       " 'appealing',\n",
       " 'faces',\n",
       " 'rule',\n",
       " 'inched',\n",
       " 'manufacture',\n",
       " 'fund',\n",
       " 'anticipates',\n",
       " 'link',\n",
       " 'describe',\n",
       " 'roll',\n",
       " 'calculate',\n",
       " 'transferring',\n",
       " 'favored',\n",
       " 'claiming',\n",
       " 'hurting',\n",
       " 'investing',\n",
       " 'trained',\n",
       " 'instituted',\n",
       " 'introducing',\n",
       " 'vowed',\n",
       " 'deemed',\n",
       " 'pose',\n",
       " 'concerned',\n",
       " 'accelerated',\n",
       " 'feels',\n",
       " 'solved',\n",
       " 'forgiven',\n",
       " 'stored',\n",
       " 'assembled',\n",
       " 'totaling',\n",
       " 'linked',\n",
       " 'forces',\n",
       " 'attempts',\n",
       " 'advertised',\n",
       " 'marks',\n",
       " 'sweeping',\n",
       " 'invest',\n",
       " 'kicked',\n",
       " 'brings',\n",
       " 'scrambled',\n",
       " 'diversify',\n",
       " 'swing',\n",
       " 'skyrocketed',\n",
       " 'targeted',\n",
       " 'repaid',\n",
       " 'open',\n",
       " 'crippled',\n",
       " 'lent',\n",
       " 'belongs',\n",
       " 'stressed',\n",
       " 'leveling',\n",
       " 'manufactured',\n",
       " 'pick',\n",
       " 'cite',\n",
       " 'provoke',\n",
       " 'last',\n",
       " 'climbing',\n",
       " 'Excluding',\n",
       " 'adjusting',\n",
       " 'counts',\n",
       " 'handle',\n",
       " 'polled',\n",
       " 'drink',\n",
       " 'sets',\n",
       " 'sidestep',\n",
       " 'fare',\n",
       " 'letting',\n",
       " 'entering',\n",
       " 'ban',\n",
       " 'visiting',\n",
       " 'endorsed',\n",
       " 'balked',\n",
       " 'compensate',\n",
       " 'terminated',\n",
       " 'modify',\n",
       " 'operated',\n",
       " 'entitles',\n",
       " 'romanticized',\n",
       " 'spends',\n",
       " 'condemned',\n",
       " 'competing',\n",
       " 'returning',\n",
       " 'murdered',\n",
       " 'load',\n",
       " 'lives',\n",
       " 'recommend',\n",
       " 'fighting',\n",
       " 'fills',\n",
       " 'charges',\n",
       " 'exist',\n",
       " 'Stung',\n",
       " 'banning',\n",
       " 'admitted',\n",
       " 'talks',\n",
       " 'launch',\n",
       " 'attracted',\n",
       " 'featured',\n",
       " 'devote',\n",
       " 'featuring',\n",
       " 'suing',\n",
       " 'shrinks',\n",
       " 'tripled',\n",
       " 'pumping',\n",
       " 'contributing',\n",
       " 'spur',\n",
       " 'concentrated',\n",
       " 'export',\n",
       " 'pull',\n",
       " 'approach',\n",
       " 'step',\n",
       " 'regard',\n",
       " 'breach',\n",
       " 'pleaded',\n",
       " 'inspired',\n",
       " 'defended',\n",
       " 'treated',\n",
       " 'casts',\n",
       " 'violated',\n",
       " 'enforce',\n",
       " 'surfaced',\n",
       " 'concentrate',\n",
       " 'stressing',\n",
       " 'suffered',\n",
       " 'loved',\n",
       " 'advised',\n",
       " 'studying',\n",
       " 'pushing',\n",
       " 'earn',\n",
       " 'save',\n",
       " 'interviewed',\n",
       " 'explain',\n",
       " 'gauge',\n",
       " 'measured',\n",
       " 'deny',\n",
       " 'hampered',\n",
       " 'fill',\n",
       " 'nominated',\n",
       " 'assured',\n",
       " 'finding',\n",
       " 'conducting',\n",
       " 'tracks',\n",
       " 'merge',\n",
       " 'merged',\n",
       " 'banking',\n",
       " 'achieve',\n",
       " 'acquiring',\n",
       " 'post',\n",
       " 'wish',\n",
       " 'retained',\n",
       " 'spark',\n",
       " 'chaired',\n",
       " 'deal',\n",
       " 'submit',\n",
       " 'sending',\n",
       " 'test',\n",
       " 'relegated',\n",
       " 'alleging',\n",
       " 'mounted',\n",
       " 'harass',\n",
       " 'crossing',\n",
       " 'involves',\n",
       " 'assist',\n",
       " 'killing',\n",
       " 'served',\n",
       " 'understood',\n",
       " 'touch',\n",
       " 'Asked',\n",
       " 'design',\n",
       " 'retaining',\n",
       " 'belonging',\n",
       " 'compiled',\n",
       " 'Guaranteed',\n",
       " 'positioned',\n",
       " 'plunging',\n",
       " 'locked',\n",
       " 'starts',\n",
       " 'waiting',\n",
       " 'rolled',\n",
       " 'lock',\n",
       " 'drifted',\n",
       " 'measures',\n",
       " 'Estimated',\n",
       " ...]"
      ]
     },
     "execution_count": 36,
     "metadata": {},
     "output_type": "execute_result"
    }
   ],
   "source": [
    "[a[0] for (a, _) in freq_tagsets.most_common() if a[1] == 'VERB']"
   ]
  },
  {
   "cell_type": "code",
   "execution_count": null,
   "id": "da237355",
   "metadata": {},
   "outputs": [],
   "source": []
  }
 ],
 "metadata": {
  "kernelspec": {
   "display_name": "Python 3 (ipykernel)",
   "language": "python",
   "name": "python3"
  },
  "language_info": {
   "codemirror_mode": {
    "name": "ipython",
    "version": 3
   },
   "file_extension": ".py",
   "mimetype": "text/x-python",
   "name": "python",
   "nbconvert_exporter": "python",
   "pygments_lexer": "ipython3",
   "version": "3.9.13"
  }
 },
 "nbformat": 4,
 "nbformat_minor": 5
}
