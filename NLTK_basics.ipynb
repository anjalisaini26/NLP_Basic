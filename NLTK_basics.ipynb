{
 "cells": [
  {
   "cell_type": "code",
   "execution_count": 1,
   "metadata": {},
   "outputs": [
    {
     "data": {
      "text/plain": [
       "'3.7'"
      ]
     },
     "execution_count": 1,
     "metadata": {},
     "output_type": "execute_result"
    }
   ],
   "source": [
    "import nltk\n",
    "nltk.__version__"
   ]
  },
  {
   "cell_type": "code",
   "execution_count": 4,
   "metadata": {},
   "outputs": [
    {
     "name": "stdout",
     "output_type": "stream",
     "text": [
      "*** Introductory Examples for the NLTK Book ***\n",
      "Loading text1, ..., text9 and sent1, ..., sent9\n",
      "Type the name of the text or sentence to view it.\n",
      "Type: 'texts()' or 'sents()' to list the materials.\n",
      "text1: Moby Dick by Herman Melville 1851\n",
      "text2: Sense and Sensibility by Jane Austen 1811\n",
      "text3: The Book of Genesis\n",
      "text4: Inaugural Address Corpus\n",
      "text5: Chat Corpus\n",
      "text6: Monty Python and the Holy Grail\n",
      "text7: Wall Street Journal\n",
      "text8: Personals Corpus\n",
      "text9: The Man Who Was Thursday by G . K . Chesterton 1908\n"
     ]
    }
   ],
   "source": [
    "from nltk.book import *"
   ]
  },
  {
   "cell_type": "code",
   "execution_count": 3,
   "metadata": {},
   "outputs": [
    {
     "data": {
      "text/plain": [
       "<Text: Monty Python and the Holy Grail>"
      ]
     },
     "execution_count": 3,
     "metadata": {},
     "output_type": "execute_result"
    }
   ],
   "source": [
    "text6"
   ]
  },
  {
   "cell_type": "code",
   "execution_count": 4,
   "metadata": {},
   "outputs": [
    {
     "name": "stdout",
     "output_type": "stream",
     "text": [
      "then clop arthur i son knights will lord yes well are that please oh\n",
      "if fine walk look did eh\n"
     ]
    }
   ],
   "source": [
    "text6.similar('King')"
   ]
  },
  {
   "cell_type": "code",
   "execution_count": 5,
   "metadata": {},
   "outputs": [
    {
     "name": "stdout",
     "output_type": "stream",
     "text": [
      "sister that side as opinion mother means time marianne wish want part\n",
      "sweetness resolution and family property manner life but\n"
     ]
    }
   ],
   "source": [
    "text2.similar('Sense')"
   ]
  },
  {
   "cell_type": "code",
   "execution_count": 6,
   "metadata": {},
   "outputs": [
    {
     "name": "stdout",
     "output_type": "stream",
     "text": [
      "Displaying 25 of 38 matches:\n",
      "CENE 1 : [ wind ] [ clop clop clop ] KING ARTHUR : Whoa there ! [ clop clop cl\n",
      "ragon , from the castle of Camelot . King of the Britons , defeator of the Sax\n",
      " CART - MASTER : I dunno . Must be a king . CUSTOMER : Why ? CART - MASTER : H\n",
      " all over him . SCENE 3 : [ thud ] [ King Arthur music ] [ thud thud thud ] [ \n",
      " Arthur music ] [ thud thud thud ] [ King Arthur music stops ] ARTHUR : Old wo\n",
      "e an inferior ! ARTHUR : Well , I am king ! DENNIS : Oh king , eh , very nice \n",
      "HUR : Well , I am king ! DENNIS : Oh king , eh , very nice . And how d ' you g\n",
      "o you do , good lady . I am Arthur , King of the Britons . Who ' s castle is t\n",
      "s . Who ' s castle is that ? WOMAN : King of the who ? ARTHUR : The Britons . \n",
      ". We are all Britons , and I am your king . WOMAN : I didn ' t know we had a k\n",
      "g . WOMAN : I didn ' t know we had a king . I thought we were an autonomous co\n",
      "ink he is ? Heh . ARTHUR : I am your king ! WOMAN : Well , I didn ' t vote for\n",
      " . WOMAN : Well , how did you become king then ? ARTHUR : The Lady of the Lake\n",
      "inging stops ] That is why I am your king ! DENNIS : Listen , strange women ly\n",
      "ou saw it , didn ' t you SCENE 4 : [ King Arthur music ] [ music stops ] BLACK\n",
      "sic stops ] BLACK KNIGHT : Aaagh ! [ King Arthur music ] [ music stops ] BLACK\n",
      "GHT : Aaagh ! GREEN KNIGHT : Ooh ! [ King Arthur music ] [ music stops ] [ sta\n",
      "NIGHT : Aagh ! GREEN KNIGHT : Oh ! [ King Arthur music ] Ooh ! [ music stops ]\n",
      "Sir Knight . [ pause ] I am Arthur , King of the Britons . [ pause ] I seek th\n",
      "ll die . ARTHUR : I command you , as King of the Britons , to stand aside ! BL\n",
      " of science ? ARTHUR : I am Arthur , King of the Britons . BEDEVERE : My liege\n",
      "e Sir Bedevere was the first to join King Arthur ' s knights , but other illus\n",
      "ngels sing ] GOD : Arthur ! Arthur , King of the Britons ! Oh , don ' t grovel\n",
      " Yes , Lord . GOD : Right ! Arthur , King of the Britons , your Knights of the\n",
      "GALAHAD : God be praised SCENE 8 : [ King Arthur music ] [ clop clop clop ] AR\n"
     ]
    }
   ],
   "source": [
    "text6.concordance('King')"
   ]
  },
  {
   "cell_type": "code",
   "execution_count": 7,
   "metadata": {},
   "outputs": [
    {
     "name": "stdout",
     "output_type": "stream",
     "text": [
      "sent1: Call me Ishmael .\n",
      "sent2: The family of Dashwood had long been settled in Sussex .\n",
      "sent3: In the beginning God created the heaven and the earth .\n",
      "sent4: Fellow - Citizens of the Senate and of the House of Representatives :\n",
      "sent5: I have a problem with people PMing me to lol JOIN\n",
      "sent6: SCENE 1 : [ wind ] [ clop clop clop ] KING ARTHUR : Whoa there !\n",
      "sent7: Pierre Vinken , 61 years old , will join the board as a nonexecutive director Nov. 29 .\n",
      "sent8: 25 SEXY MALE , seeks attrac older single lady , for discreet encounters .\n",
      "sent9: THE suburb of Saffron Park lay on the sunset side of London , as red and ragged as a cloud of sunset .\n"
     ]
    }
   ],
   "source": [
    "sents()"
   ]
  },
  {
   "cell_type": "code",
   "execution_count": 8,
   "metadata": {},
   "outputs": [
    {
     "name": "stdout",
     "output_type": "stream",
     "text": [
      "Displaying 25 of 38 matches:\n",
      "ay when they were created . And Adam lived an hundred and thirty years , and be\n",
      "ughters : And all the days that Adam lived were nine hundred and thirty yea and\n",
      "nd thirty yea and he died . And Seth lived an hundred and five years , and bega\n",
      "ve years , and begat Enos : And Seth lived after he begat Enos eight hundred an\n",
      "welve years : and he died . And Enos lived ninety years , and begat Cainan : An\n",
      " years , and begat Cainan : And Enos lived after he begat Cainan eight hundred \n",
      "ive years : and he died . And Cainan lived seventy years and begat Mahalaleel :\n",
      "rs and begat Mahalaleel : And Cainan lived after he begat Mahalaleel eight hund\n",
      "years : and he died . And Mahalaleel lived sixty and five years , and begat Jar\n",
      "s , and begat Jared : And Mahalaleel lived after he begat Jared eight hundred a\n",
      "and five yea and he died . And Jared lived an hundred sixty and two years , and\n",
      "o years , and he begat Eno And Jared lived after he begat Enoch eight hundred y\n",
      " and two yea and he died . And Enoch lived sixty and five years , and begat Met\n",
      " ; for God took him . And Methuselah lived an hundred eighty and seven years , \n",
      " , and begat Lamech . And Methuselah lived after he begat Lamech seven hundred \n",
      "nd nine yea and he died . And Lamech lived an hundred eighty and two years , an\n",
      "ch the LORD hath cursed . And Lamech lived after he begat Noah five hundred nin\n",
      "naan shall be his servant . And Noah lived after the flood three hundred and fi\n",
      "xad two years after the flo And Shem lived after he begat Arphaxad five hundred\n",
      "at sons and daughters . And Arphaxad lived five and thirty years , and begat Sa\n",
      "ars , and begat Salah : And Arphaxad lived after he begat Salah four hundred an\n",
      "begat sons and daughters . And Salah lived thirty years , and begat Eber : And \n",
      "y years , and begat Eber : And Salah lived after he begat Eber four hundred and\n",
      " begat sons and daughters . And Eber lived four and thirty years , and begat Pe\n",
      "y years , and begat Peleg : And Eber lived after he begat Peleg four hundred an\n"
     ]
    }
   ],
   "source": [
    "text3.concordance('lived')"
   ]
  },
  {
   "cell_type": "code",
   "execution_count": 9,
   "metadata": {},
   "outputs": [
    {
     "name": "stdout",
     "output_type": "stream",
     "text": [
      "the_, the_and the_; the_be the_to\n"
     ]
    }
   ],
   "source": [
    "text3.common_contexts(['earth', 'heaven'])"
   ]
  },
  {
   "cell_type": "code",
   "execution_count": 10,
   "metadata": {},
   "outputs": [
    {
     "data": {
      "text/plain": [
       "['said unto',\n",
       " 'pray thee',\n",
       " 'thou shalt',\n",
       " 'thou hast',\n",
       " 'thy seed',\n",
       " 'years old',\n",
       " 'spake unto',\n",
       " 'thou art',\n",
       " 'LORD God',\n",
       " 'every living',\n",
       " 'God hath',\n",
       " 'begat sons',\n",
       " 'seven years',\n",
       " 'shalt thou',\n",
       " 'little ones',\n",
       " 'living creature',\n",
       " 'creeping thing',\n",
       " 'savoury meat',\n",
       " 'thirty years',\n",
       " 'every beast']"
      ]
     },
     "execution_count": 10,
     "metadata": {},
     "output_type": "execute_result"
    }
   ],
   "source": [
    "#text3.collocations()\n",
    "text3.collocation_list()"
   ]
  },
  {
   "cell_type": "code",
   "execution_count": 11,
   "metadata": {
    "scrolled": true
   },
   "outputs": [
    {
     "name": "stderr",
     "output_type": "stream",
     "text": [
      "Building ngram index...\n"
     ]
    },
    {
     "name": "stdout",
     "output_type": "stream",
     "text": [
      "Saint Aauuuves in Cornwall ? '\n"
     ]
    },
    {
     "data": {
      "text/plain": [
       "\"Saint Aauuuves in Cornwall ? '\""
      ]
     },
     "execution_count": 11,
     "metadata": {},
     "output_type": "execute_result"
    }
   ],
   "source": [
    "text6.generate(6)"
   ]
  },
  {
   "cell_type": "code",
   "execution_count": 12,
   "metadata": {},
   "outputs": [
    {
     "data": {
      "text/plain": [
       "44764"
      ]
     },
     "execution_count": 12,
     "metadata": {},
     "output_type": "execute_result"
    }
   ],
   "source": [
    "len(text3)"
   ]
  },
  {
   "cell_type": "code",
   "execution_count": 13,
   "metadata": {},
   "outputs": [
    {
     "name": "stdout",
     "output_type": "stream",
     "text": [
      "Help on package nltk.lm in nltk:\n",
      "\n",
      "NAME\n",
      "    nltk.lm\n",
      "\n",
      "DESCRIPTION\n",
      "    NLTK Language Modeling Module.\n",
      "    ------------------------------\n",
      "    \n",
      "    Currently this module covers only ngram language models, but it should be easy\n",
      "    to extend to neural models.\n",
      "    \n",
      "    \n",
      "    Preparing Data\n",
      "    ==============\n",
      "    \n",
      "    Before we train our ngram models it is necessary to make sure the data we put in\n",
      "    them is in the right format.\n",
      "    Let's say we have a text that is a list of sentences, where each sentence is\n",
      "    a list of strings. For simplicity we just consider a text consisting of\n",
      "    characters instead of words.\n",
      "    \n",
      "        >>> text = [['a', 'b', 'c'], ['a', 'c', 'd', 'c', 'e', 'f']]\n",
      "    \n",
      "    If we want to train a bigram model, we need to turn this text into bigrams.\n",
      "    Here's what the first sentence of our text would look like if we use a function\n",
      "    from NLTK for this.\n",
      "    \n",
      "        >>> from nltk.util import bigrams\n",
      "        >>> list(bigrams(text[0]))\n",
      "        [('a', 'b'), ('b', 'c')]\n",
      "    \n",
      "    Notice how \"b\" occurs both as the first and second member of different bigrams\n",
      "    but \"a\" and \"c\" don't? Wouldn't it be nice to somehow indicate how often sentences\n",
      "    start with \"a\" and end with \"c\"?\n",
      "    A standard way to deal with this is to add special \"padding\" symbols to the\n",
      "    sentence before splitting it into ngrams.\n",
      "    Fortunately, NLTK also has a function for that, let's see what it does to the\n",
      "    first sentence.\n",
      "    \n",
      "        >>> from nltk.util import pad_sequence\n",
      "        >>> list(pad_sequence(text[0],\n",
      "        ... pad_left=True,\n",
      "        ... left_pad_symbol=\"<s>\",\n",
      "        ... pad_right=True,\n",
      "        ... right_pad_symbol=\"</s>\",\n",
      "        ... n=2))\n",
      "        ['<s>', 'a', 'b', 'c', '</s>']\n",
      "    \n",
      "    Note the `n` argument, that tells the function we need padding for bigrams.\n",
      "    Now, passing all these parameters every time is tedious and in most cases they\n",
      "    can be safely assumed as defaults anyway.\n",
      "    Thus our module provides a convenience function that has all these arguments\n",
      "    already set while the other arguments remain the same as for `pad_sequence`.\n",
      "    \n",
      "        >>> from nltk.lm.preprocessing import pad_both_ends\n",
      "        >>> list(pad_both_ends(text[0], n=2))\n",
      "        ['<s>', 'a', 'b', 'c', '</s>']\n",
      "    \n",
      "    Combining the two parts discussed so far we get the following preparation steps\n",
      "    for one sentence.\n",
      "    \n",
      "        >>> list(bigrams(pad_both_ends(text[0], n=2)))\n",
      "        [('<s>', 'a'), ('a', 'b'), ('b', 'c'), ('c', '</s>')]\n",
      "    \n",
      "    To make our model more robust we could also train it on unigrams (single words)\n",
      "    as well as bigrams, its main source of information.\n",
      "    NLTK once again helpfully provides a function called `everygrams`.\n",
      "    While not the most efficient, it is conceptually simple.\n",
      "    \n",
      "    \n",
      "        >>> from nltk.util import everygrams\n",
      "        >>> padded_bigrams = list(pad_both_ends(text[0], n=2))\n",
      "        >>> list(everygrams(padded_bigrams, max_len=2))\n",
      "        [('<s>',),\n",
      "         ('a',),\n",
      "         ('b',),\n",
      "         ('c',),\n",
      "         ('</s>',),\n",
      "         ('<s>', 'a'),\n",
      "         ('a', 'b'),\n",
      "         ('b', 'c'),\n",
      "         ('c', '</s>')]\n",
      "    \n",
      "    We are almost ready to start counting ngrams, just one more step left.\n",
      "    During training and evaluation our model will rely on a vocabulary that\n",
      "    defines which words are \"known\" to the model.\n",
      "    To create this vocabulary we need to pad our sentences (just like for counting\n",
      "    ngrams) and then combine the sentences into one flat stream of words.\n",
      "    \n",
      "        >>> from nltk.lm.preprocessing import flatten\n",
      "        >>> list(flatten(pad_both_ends(sent, n=2) for sent in text))\n",
      "        ['<s>', 'a', 'b', 'c', '</s>', '<s>', 'a', 'c', 'd', 'c', 'e', 'f', '</s>']\n",
      "    \n",
      "    In most cases we want to use the same text as the source for both vocabulary\n",
      "    and ngram counts.\n",
      "    Now that we understand what this means for our preprocessing, we can simply import\n",
      "    a function that does everything for us.\n",
      "    \n",
      "        >>> from nltk.lm.preprocessing import padded_everygram_pipeline\n",
      "        >>> train, vocab = padded_everygram_pipeline(2, text)\n",
      "    \n",
      "    So as to avoid re-creating the text in memory, both `train` and `vocab` are lazy\n",
      "    iterators. They are evaluated on demand at training time.\n",
      "    \n",
      "    \n",
      "    Training\n",
      "    ========\n",
      "    Having prepared our data we are ready to start training a model.\n",
      "    As a simple example, let us train a Maximum Likelihood Estimator (MLE).\n",
      "    We only need to specify the highest ngram order to instantiate it.\n",
      "    \n",
      "        >>> from nltk.lm import MLE\n",
      "        >>> lm = MLE(2)\n",
      "    \n",
      "    This automatically creates an empty vocabulary...\n",
      "    \n",
      "        >>> len(lm.vocab)\n",
      "        0\n",
      "    \n",
      "    ... which gets filled as we fit the model.\n",
      "    \n",
      "        >>> lm.fit(train, vocab)\n",
      "        >>> print(lm.vocab)\n",
      "        <Vocabulary with cutoff=1 unk_label='<UNK>' and 9 items>\n",
      "        >>> len(lm.vocab)\n",
      "        9\n",
      "    \n",
      "    The vocabulary helps us handle words that have not occurred during training.\n",
      "    \n",
      "        >>> lm.vocab.lookup(text[0])\n",
      "        ('a', 'b', 'c')\n",
      "        >>> lm.vocab.lookup([\"aliens\", \"from\", \"Mars\"])\n",
      "        ('<UNK>', '<UNK>', '<UNK>')\n",
      "    \n",
      "    Moreover, in some cases we want to ignore words that we did see during training\n",
      "    but that didn't occur frequently enough, to provide us useful information.\n",
      "    You can tell the vocabulary to ignore such words.\n",
      "    To find out how that works, check out the docs for the `Vocabulary` class.\n",
      "    \n",
      "    \n",
      "    Using a Trained Model\n",
      "    =====================\n",
      "    When it comes to ngram models the training boils down to counting up the ngrams\n",
      "    from the training corpus.\n",
      "    \n",
      "        >>> print(lm.counts)\n",
      "        <NgramCounter with 2 ngram orders and 24 ngrams>\n",
      "    \n",
      "    This provides a convenient interface to access counts for unigrams...\n",
      "    \n",
      "        >>> lm.counts['a']\n",
      "        2\n",
      "    \n",
      "    ...and bigrams (in this case \"a b\")\n",
      "    \n",
      "        >>> lm.counts[['a']]['b']\n",
      "        1\n",
      "    \n",
      "    And so on. However, the real purpose of training a language model is to have it\n",
      "    score how probable words are in certain contexts.\n",
      "    This being MLE, the model returns the item's relative frequency as its score.\n",
      "    \n",
      "        >>> lm.score(\"a\")\n",
      "        0.15384615384615385\n",
      "    \n",
      "    Items that are not seen during training are mapped to the vocabulary's\n",
      "    \"unknown label\" token. This is \"<UNK>\" by default.\n",
      "    \n",
      "        >>> lm.score(\"<UNK>\") == lm.score(\"aliens\")\n",
      "        True\n",
      "    \n",
      "    Here's how you get the score for a word given some preceding context.\n",
      "    For example we want to know what is the chance that \"b\" is preceded by \"a\".\n",
      "    \n",
      "        >>> lm.score(\"b\", [\"a\"])\n",
      "        0.5\n",
      "    \n",
      "    To avoid underflow when working with many small score values it makes sense to\n",
      "    take their logarithm.\n",
      "    For convenience this can be done with the `logscore` method.\n",
      "    \n",
      "        >>> lm.logscore(\"a\")\n",
      "        -2.700439718141092\n",
      "    \n",
      "    Building on this method, we can also evaluate our model's cross-entropy and\n",
      "    perplexity with respect to sequences of ngrams.\n",
      "    \n",
      "        >>> test = [('a', 'b'), ('c', 'd')]\n",
      "        >>> lm.entropy(test)\n",
      "        1.292481250360578\n",
      "        >>> lm.perplexity(test)\n",
      "        2.449489742783178\n",
      "    \n",
      "    It is advisable to preprocess your test text exactly the same way as you did\n",
      "    the training text.\n",
      "    \n",
      "    One cool feature of ngram models is that they can be used to generate text.\n",
      "    \n",
      "        >>> lm.generate(1, random_seed=3)\n",
      "        '<s>'\n",
      "        >>> lm.generate(5, random_seed=3)\n",
      "        ['<s>', 'a', 'b', 'c', 'd']\n",
      "    \n",
      "    Provide `random_seed` if you want to consistently reproduce the same text all\n",
      "    other things being equal. Here we are using it to test the examples.\n",
      "    \n",
      "    You can also condition your generation on some preceding text with the `context`\n",
      "    argument.\n",
      "    \n",
      "        >>> lm.generate(5, text_seed=['c'], random_seed=3)\n",
      "        ['</s>', 'c', 'd', 'c', 'd']\n",
      "    \n",
      "    Note that an ngram model is restricted in how much preceding context it can\n",
      "    take into account. For example, a trigram model can only condition its output\n",
      "    on 2 preceding words. If you pass in a 4-word context, the first two words\n",
      "    will be ignored.\n",
      "\n",
      "PACKAGE CONTENTS\n",
      "    api\n",
      "    counter\n",
      "    models\n",
      "    preprocessing\n",
      "    smoothing\n",
      "    util\n",
      "    vocabulary\n",
      "\n",
      "CLASSES\n",
      "    builtins.object\n",
      "        nltk.lm.counter.NgramCounter\n",
      "        nltk.lm.vocabulary.Vocabulary\n",
      "    nltk.lm.api.LanguageModel(builtins.object)\n",
      "        nltk.lm.models.Lidstone\n",
      "            nltk.lm.models.Laplace\n",
      "        nltk.lm.models.MLE\n",
      "    nltk.lm.models.InterpolatedLanguageModel(nltk.lm.api.LanguageModel)\n",
      "        nltk.lm.models.KneserNeyInterpolated\n",
      "        nltk.lm.models.WittenBellInterpolated\n",
      "    \n",
      "    class KneserNeyInterpolated(InterpolatedLanguageModel)\n",
      "     |  KneserNeyInterpolated(order, discount=0.1, **kwargs)\n",
      "     |  \n",
      "     |  Interpolated version of Kneser-Ney smoothing.\n",
      "     |  \n",
      "     |  Method resolution order:\n",
      "     |      KneserNeyInterpolated\n",
      "     |      InterpolatedLanguageModel\n",
      "     |      nltk.lm.api.LanguageModel\n",
      "     |      builtins.object\n",
      "     |  \n",
      "     |  Methods defined here:\n",
      "     |  \n",
      "     |  __init__(self, order, discount=0.1, **kwargs)\n",
      "     |      Creates new LanguageModel.\n",
      "     |      \n",
      "     |      :param vocabulary: If provided, this vocabulary will be used instead\n",
      "     |      of creating a new one when training.\n",
      "     |      :type vocabulary: `nltk.lm.Vocabulary` or None\n",
      "     |      :param counter: If provided, use this object to count ngrams.\n",
      "     |      :type vocabulary: `nltk.lm.NgramCounter` or None\n",
      "     |      :param ngrams_fn: If given, defines how sentences in training text are turned to ngram\n",
      "     |                        sequences.\n",
      "     |      :type ngrams_fn: function or None\n",
      "     |      :param pad_fn: If given, defines how senteces in training text are padded.\n",
      "     |      :type pad_fn: function or None\n",
      "     |  \n",
      "     |  ----------------------------------------------------------------------\n",
      "     |  Data and other attributes defined here:\n",
      "     |  \n",
      "     |  __abstractmethods__ = frozenset()\n",
      "     |  \n",
      "     |  ----------------------------------------------------------------------\n",
      "     |  Methods inherited from InterpolatedLanguageModel:\n",
      "     |  \n",
      "     |  unmasked_score(self, word, context=None)\n",
      "     |      Score a word given some optional context.\n",
      "     |      \n",
      "     |      Concrete models are expected to provide an implementation.\n",
      "     |      Note that this method does not mask its arguments with the OOV label.\n",
      "     |      Use the `score` method for that.\n",
      "     |      \n",
      "     |      :param str word: Word for which we want the score\n",
      "     |      :param tuple(str) context: Context the word is in.\n",
      "     |      If `None`, compute unigram score.\n",
      "     |      :param context: tuple(str) or None\n",
      "     |      :rtype: float\n",
      "     |  \n",
      "     |  ----------------------------------------------------------------------\n",
      "     |  Methods inherited from nltk.lm.api.LanguageModel:\n",
      "     |  \n",
      "     |  context_counts(self, context)\n",
      "     |      Helper method for retrieving counts for a given context.\n",
      "     |      \n",
      "     |      Assumes context has been checked and oov words in it masked.\n",
      "     |      :type context: tuple(str) or None\n",
      "     |  \n",
      "     |  entropy(self, text_ngrams)\n",
      "     |      Calculate cross-entropy of model for given evaluation text.\n",
      "     |      \n",
      "     |      :param Iterable(tuple(str)) text_ngrams: A sequence of ngram tuples.\n",
      "     |      :rtype: float\n",
      "     |  \n",
      "     |  fit(self, text, vocabulary_text=None)\n",
      "     |      Trains the model on a text.\n",
      "     |      \n",
      "     |      :param text: Training text as a sequence of sentences.\n",
      "     |  \n",
      "     |  generate(self, num_words=1, text_seed=None, random_seed=None)\n",
      "     |      Generate words from the model.\n",
      "     |      \n",
      "     |      :param int num_words: How many words to generate. By default 1.\n",
      "     |      :param text_seed: Generation can be conditioned on preceding context.\n",
      "     |      :param random_seed: A random seed or an instance of `random.Random`. If provided,\n",
      "     |      makes the random sampling part of generation reproducible.\n",
      "     |      :return: One (str) word or a list of words generated from model.\n",
      "     |      \n",
      "     |      Examples:\n",
      "     |      \n",
      "     |      >>> from nltk.lm import MLE\n",
      "     |      >>> lm = MLE(2)\n",
      "     |      >>> lm.fit([[(\"a\", \"b\"), (\"b\", \"c\")]], vocabulary_text=['a', 'b', 'c'])\n",
      "     |      >>> lm.fit([[(\"a\",), (\"b\",), (\"c\",)]])\n",
      "     |      >>> lm.generate(random_seed=3)\n",
      "     |      'a'\n",
      "     |      >>> lm.generate(text_seed=['a'])\n",
      "     |      'b'\n",
      "     |  \n",
      "     |  logscore(self, word, context=None)\n",
      "     |      Evaluate the log score of this word in this context.\n",
      "     |      \n",
      "     |      The arguments are the same as for `score` and `unmasked_score`.\n",
      "     |  \n",
      "     |  perplexity(self, text_ngrams)\n",
      "     |      Calculates the perplexity of the given text.\n",
      "     |      \n",
      "     |      This is simply 2 ** cross-entropy for the text, so the arguments are the same.\n",
      "     |  \n",
      "     |  score(self, word, context=None)\n",
      "     |      Masks out of vocab (OOV) words and computes their model score.\n",
      "     |      \n",
      "     |      For model-specific logic of calculating scores, see the `unmasked_score`\n",
      "     |      method.\n",
      "     |  \n",
      "     |  ----------------------------------------------------------------------\n",
      "     |  Data descriptors inherited from nltk.lm.api.LanguageModel:\n",
      "     |  \n",
      "     |  __dict__\n",
      "     |      dictionary for instance variables (if defined)\n",
      "     |  \n",
      "     |  __weakref__\n",
      "     |      list of weak references to the object (if defined)\n",
      "    \n",
      "    class Laplace(Lidstone)\n",
      "     |  Laplace(*args, **kwargs)\n",
      "     |  \n",
      "     |  Implements Laplace (add one) smoothing.\n",
      "     |  \n",
      "     |  Initialization identical to BaseNgramModel because gamma is always 1.\n",
      "     |  \n",
      "     |  Method resolution order:\n",
      "     |      Laplace\n",
      "     |      Lidstone\n",
      "     |      nltk.lm.api.LanguageModel\n",
      "     |      builtins.object\n",
      "     |  \n",
      "     |  Methods defined here:\n",
      "     |  \n",
      "     |  __init__(self, *args, **kwargs)\n",
      "     |      Creates new LanguageModel.\n",
      "     |      \n",
      "     |      :param vocabulary: If provided, this vocabulary will be used instead\n",
      "     |      of creating a new one when training.\n",
      "     |      :type vocabulary: `nltk.lm.Vocabulary` or None\n",
      "     |      :param counter: If provided, use this object to count ngrams.\n",
      "     |      :type vocabulary: `nltk.lm.NgramCounter` or None\n",
      "     |      :param ngrams_fn: If given, defines how sentences in training text are turned to ngram\n",
      "     |                        sequences.\n",
      "     |      :type ngrams_fn: function or None\n",
      "     |      :param pad_fn: If given, defines how senteces in training text are padded.\n",
      "     |      :type pad_fn: function or None\n",
      "     |  \n",
      "     |  __unicode__ = __str__(self, /)\n",
      "     |  \n",
      "     |  unicode_repr = __repr__(self, /)\n",
      "     |  \n",
      "     |  ----------------------------------------------------------------------\n",
      "     |  Data and other attributes defined here:\n",
      "     |  \n",
      "     |  __abstractmethods__ = frozenset()\n",
      "     |  \n",
      "     |  ----------------------------------------------------------------------\n",
      "     |  Methods inherited from Lidstone:\n",
      "     |  \n",
      "     |  unmasked_score(self, word, context=None)\n",
      "     |      Add-one smoothing: Lidstone or Laplace.\n",
      "     |      \n",
      "     |      To see what kind, look at `gamma` attribute on the class.\n",
      "     |  \n",
      "     |  ----------------------------------------------------------------------\n",
      "     |  Methods inherited from nltk.lm.api.LanguageModel:\n",
      "     |  \n",
      "     |  context_counts(self, context)\n",
      "     |      Helper method for retrieving counts for a given context.\n",
      "     |      \n",
      "     |      Assumes context has been checked and oov words in it masked.\n",
      "     |      :type context: tuple(str) or None\n",
      "     |  \n",
      "     |  entropy(self, text_ngrams)\n",
      "     |      Calculate cross-entropy of model for given evaluation text.\n",
      "     |      \n",
      "     |      :param Iterable(tuple(str)) text_ngrams: A sequence of ngram tuples.\n",
      "     |      :rtype: float\n",
      "     |  \n",
      "     |  fit(self, text, vocabulary_text=None)\n",
      "     |      Trains the model on a text.\n",
      "     |      \n",
      "     |      :param text: Training text as a sequence of sentences.\n",
      "     |  \n",
      "     |  generate(self, num_words=1, text_seed=None, random_seed=None)\n",
      "     |      Generate words from the model.\n",
      "     |      \n",
      "     |      :param int num_words: How many words to generate. By default 1.\n",
      "     |      :param text_seed: Generation can be conditioned on preceding context.\n",
      "     |      :param random_seed: A random seed or an instance of `random.Random`. If provided,\n",
      "     |      makes the random sampling part of generation reproducible.\n",
      "     |      :return: One (str) word or a list of words generated from model.\n",
      "     |      \n",
      "     |      Examples:\n",
      "     |      \n",
      "     |      >>> from nltk.lm import MLE\n",
      "     |      >>> lm = MLE(2)\n",
      "     |      >>> lm.fit([[(\"a\", \"b\"), (\"b\", \"c\")]], vocabulary_text=['a', 'b', 'c'])\n",
      "     |      >>> lm.fit([[(\"a\",), (\"b\",), (\"c\",)]])\n",
      "     |      >>> lm.generate(random_seed=3)\n",
      "     |      'a'\n",
      "     |      >>> lm.generate(text_seed=['a'])\n",
      "     |      'b'\n",
      "     |  \n",
      "     |  logscore(self, word, context=None)\n",
      "     |      Evaluate the log score of this word in this context.\n",
      "     |      \n",
      "     |      The arguments are the same as for `score` and `unmasked_score`.\n",
      "     |  \n",
      "     |  perplexity(self, text_ngrams)\n",
      "     |      Calculates the perplexity of the given text.\n",
      "     |      \n",
      "     |      This is simply 2 ** cross-entropy for the text, so the arguments are the same.\n",
      "     |  \n",
      "     |  score(self, word, context=None)\n",
      "     |      Masks out of vocab (OOV) words and computes their model score.\n",
      "     |      \n",
      "     |      For model-specific logic of calculating scores, see the `unmasked_score`\n",
      "     |      method.\n",
      "     |  \n",
      "     |  ----------------------------------------------------------------------\n",
      "     |  Data descriptors inherited from nltk.lm.api.LanguageModel:\n",
      "     |  \n",
      "     |  __dict__\n",
      "     |      dictionary for instance variables (if defined)\n",
      "     |  \n",
      "     |  __weakref__\n",
      "     |      list of weak references to the object (if defined)\n",
      "    \n",
      "    class Lidstone(nltk.lm.api.LanguageModel)\n",
      "     |  Lidstone(gamma, *args, **kwargs)\n",
      "     |  \n",
      "     |  Provides Lidstone-smoothed scores.\n",
      "     |  \n",
      "     |  In addition to initialization arguments from BaseNgramModel also requires\n",
      "     |  a number by which to increase the counts, gamma.\n",
      "     |  \n",
      "     |  Method resolution order:\n",
      "     |      Lidstone\n",
      "     |      nltk.lm.api.LanguageModel\n",
      "     |      builtins.object\n",
      "     |  \n",
      "     |  Methods defined here:\n",
      "     |  \n",
      "     |  __init__(self, gamma, *args, **kwargs)\n",
      "     |      Creates new LanguageModel.\n",
      "     |      \n",
      "     |      :param vocabulary: If provided, this vocabulary will be used instead\n",
      "     |      of creating a new one when training.\n",
      "     |      :type vocabulary: `nltk.lm.Vocabulary` or None\n",
      "     |      :param counter: If provided, use this object to count ngrams.\n",
      "     |      :type vocabulary: `nltk.lm.NgramCounter` or None\n",
      "     |      :param ngrams_fn: If given, defines how sentences in training text are turned to ngram\n",
      "     |                        sequences.\n",
      "     |      :type ngrams_fn: function or None\n",
      "     |      :param pad_fn: If given, defines how senteces in training text are padded.\n",
      "     |      :type pad_fn: function or None\n",
      "     |  \n",
      "     |  __unicode__ = __str__(self, /)\n",
      "     |  \n",
      "     |  unicode_repr = __repr__(self, /)\n",
      "     |  \n",
      "     |  unmasked_score(self, word, context=None)\n",
      "     |      Add-one smoothing: Lidstone or Laplace.\n",
      "     |      \n",
      "     |      To see what kind, look at `gamma` attribute on the class.\n",
      "     |  \n",
      "     |  ----------------------------------------------------------------------\n",
      "     |  Data and other attributes defined here:\n",
      "     |  \n",
      "     |  __abstractmethods__ = frozenset()\n",
      "     |  \n",
      "     |  ----------------------------------------------------------------------\n",
      "     |  Methods inherited from nltk.lm.api.LanguageModel:\n",
      "     |  \n",
      "     |  context_counts(self, context)\n",
      "     |      Helper method for retrieving counts for a given context.\n",
      "     |      \n",
      "     |      Assumes context has been checked and oov words in it masked.\n",
      "     |      :type context: tuple(str) or None\n",
      "     |  \n",
      "     |  entropy(self, text_ngrams)\n",
      "     |      Calculate cross-entropy of model for given evaluation text.\n",
      "     |      \n",
      "     |      :param Iterable(tuple(str)) text_ngrams: A sequence of ngram tuples.\n",
      "     |      :rtype: float\n",
      "     |  \n",
      "     |  fit(self, text, vocabulary_text=None)\n",
      "     |      Trains the model on a text.\n",
      "     |      \n",
      "     |      :param text: Training text as a sequence of sentences.\n",
      "     |  \n",
      "     |  generate(self, num_words=1, text_seed=None, random_seed=None)\n",
      "     |      Generate words from the model.\n",
      "     |      \n",
      "     |      :param int num_words: How many words to generate. By default 1.\n",
      "     |      :param text_seed: Generation can be conditioned on preceding context.\n",
      "     |      :param random_seed: A random seed or an instance of `random.Random`. If provided,\n",
      "     |      makes the random sampling part of generation reproducible.\n",
      "     |      :return: One (str) word or a list of words generated from model.\n",
      "     |      \n",
      "     |      Examples:\n",
      "     |      \n",
      "     |      >>> from nltk.lm import MLE\n",
      "     |      >>> lm = MLE(2)\n",
      "     |      >>> lm.fit([[(\"a\", \"b\"), (\"b\", \"c\")]], vocabulary_text=['a', 'b', 'c'])\n",
      "     |      >>> lm.fit([[(\"a\",), (\"b\",), (\"c\",)]])\n",
      "     |      >>> lm.generate(random_seed=3)\n",
      "     |      'a'\n",
      "     |      >>> lm.generate(text_seed=['a'])\n",
      "     |      'b'\n",
      "     |  \n",
      "     |  logscore(self, word, context=None)\n",
      "     |      Evaluate the log score of this word in this context.\n",
      "     |      \n",
      "     |      The arguments are the same as for `score` and `unmasked_score`.\n",
      "     |  \n",
      "     |  perplexity(self, text_ngrams)\n",
      "     |      Calculates the perplexity of the given text.\n",
      "     |      \n",
      "     |      This is simply 2 ** cross-entropy for the text, so the arguments are the same.\n",
      "     |  \n",
      "     |  score(self, word, context=None)\n",
      "     |      Masks out of vocab (OOV) words and computes their model score.\n",
      "     |      \n",
      "     |      For model-specific logic of calculating scores, see the `unmasked_score`\n",
      "     |      method.\n",
      "     |  \n",
      "     |  ----------------------------------------------------------------------\n",
      "     |  Data descriptors inherited from nltk.lm.api.LanguageModel:\n",
      "     |  \n",
      "     |  __dict__\n",
      "     |      dictionary for instance variables (if defined)\n",
      "     |  \n",
      "     |  __weakref__\n",
      "     |      list of weak references to the object (if defined)\n",
      "    \n",
      "    class MLE(nltk.lm.api.LanguageModel)\n",
      "     |  MLE(order, vocabulary=None, counter=None)\n",
      "     |  \n",
      "     |  Class for providing MLE ngram model scores.\n",
      "     |  \n",
      "     |  Inherits initialization from BaseNgramModel.\n",
      "     |  \n",
      "     |  Method resolution order:\n",
      "     |      MLE\n",
      "     |      nltk.lm.api.LanguageModel\n",
      "     |      builtins.object\n",
      "     |  \n",
      "     |  Methods defined here:\n",
      "     |  \n",
      "     |  __unicode__ = __str__(self, /)\n",
      "     |  \n",
      "     |  unicode_repr = __repr__(self, /)\n",
      "     |  \n",
      "     |  unmasked_score(self, word, context=None)\n",
      "     |      Returns the MLE score for a word given a context.\n",
      "     |      \n",
      "     |      Args:\n",
      "     |      - word is expcected to be a string\n",
      "     |      - context is expected to be something reasonably convertible to a tuple\n",
      "     |  \n",
      "     |  ----------------------------------------------------------------------\n",
      "     |  Data and other attributes defined here:\n",
      "     |  \n",
      "     |  __abstractmethods__ = frozenset()\n",
      "     |  \n",
      "     |  ----------------------------------------------------------------------\n",
      "     |  Methods inherited from nltk.lm.api.LanguageModel:\n",
      "     |  \n",
      "     |  __init__(self, order, vocabulary=None, counter=None)\n",
      "     |      Creates new LanguageModel.\n",
      "     |      \n",
      "     |      :param vocabulary: If provided, this vocabulary will be used instead\n",
      "     |      of creating a new one when training.\n",
      "     |      :type vocabulary: `nltk.lm.Vocabulary` or None\n",
      "     |      :param counter: If provided, use this object to count ngrams.\n",
      "     |      :type vocabulary: `nltk.lm.NgramCounter` or None\n",
      "     |      :param ngrams_fn: If given, defines how sentences in training text are turned to ngram\n",
      "     |                        sequences.\n",
      "     |      :type ngrams_fn: function or None\n",
      "     |      :param pad_fn: If given, defines how senteces in training text are padded.\n",
      "     |      :type pad_fn: function or None\n",
      "     |  \n",
      "     |  context_counts(self, context)\n",
      "     |      Helper method for retrieving counts for a given context.\n",
      "     |      \n",
      "     |      Assumes context has been checked and oov words in it masked.\n",
      "     |      :type context: tuple(str) or None\n",
      "     |  \n",
      "     |  entropy(self, text_ngrams)\n",
      "     |      Calculate cross-entropy of model for given evaluation text.\n",
      "     |      \n",
      "     |      :param Iterable(tuple(str)) text_ngrams: A sequence of ngram tuples.\n",
      "     |      :rtype: float\n",
      "     |  \n",
      "     |  fit(self, text, vocabulary_text=None)\n",
      "     |      Trains the model on a text.\n",
      "     |      \n",
      "     |      :param text: Training text as a sequence of sentences.\n",
      "     |  \n",
      "     |  generate(self, num_words=1, text_seed=None, random_seed=None)\n",
      "     |      Generate words from the model.\n",
      "     |      \n",
      "     |      :param int num_words: How many words to generate. By default 1.\n",
      "     |      :param text_seed: Generation can be conditioned on preceding context.\n",
      "     |      :param random_seed: A random seed or an instance of `random.Random`. If provided,\n",
      "     |      makes the random sampling part of generation reproducible.\n",
      "     |      :return: One (str) word or a list of words generated from model.\n",
      "     |      \n",
      "     |      Examples:\n",
      "     |      \n",
      "     |      >>> from nltk.lm import MLE\n",
      "     |      >>> lm = MLE(2)\n",
      "     |      >>> lm.fit([[(\"a\", \"b\"), (\"b\", \"c\")]], vocabulary_text=['a', 'b', 'c'])\n",
      "     |      >>> lm.fit([[(\"a\",), (\"b\",), (\"c\",)]])\n",
      "     |      >>> lm.generate(random_seed=3)\n",
      "     |      'a'\n",
      "     |      >>> lm.generate(text_seed=['a'])\n",
      "     |      'b'\n",
      "     |  \n",
      "     |  logscore(self, word, context=None)\n",
      "     |      Evaluate the log score of this word in this context.\n",
      "     |      \n",
      "     |      The arguments are the same as for `score` and `unmasked_score`.\n",
      "     |  \n",
      "     |  perplexity(self, text_ngrams)\n",
      "     |      Calculates the perplexity of the given text.\n",
      "     |      \n",
      "     |      This is simply 2 ** cross-entropy for the text, so the arguments are the same.\n",
      "     |  \n",
      "     |  score(self, word, context=None)\n",
      "     |      Masks out of vocab (OOV) words and computes their model score.\n",
      "     |      \n",
      "     |      For model-specific logic of calculating scores, see the `unmasked_score`\n",
      "     |      method.\n",
      "     |  \n",
      "     |  ----------------------------------------------------------------------\n",
      "     |  Data descriptors inherited from nltk.lm.api.LanguageModel:\n",
      "     |  \n",
      "     |  __dict__\n",
      "     |      dictionary for instance variables (if defined)\n",
      "     |  \n",
      "     |  __weakref__\n",
      "     |      list of weak references to the object (if defined)\n",
      "    \n",
      "    class NgramCounter(builtins.object)\n",
      "     |  NgramCounter(ngram_text=None)\n",
      "     |  \n",
      "     |  Class for counting ngrams.\n",
      "     |  \n",
      "     |  Will count any ngram sequence you give it ;)\n",
      "     |  \n",
      "     |  First we need to make sure we are feeding the counter sentences of ngrams.\n",
      "     |  \n",
      "     |  >>> text = [[\"a\", \"b\", \"c\", \"d\"], [\"a\", \"c\", \"d\", \"c\"]]\n",
      "     |  >>> from nltk.util import ngrams\n",
      "     |  >>> text_bigrams = [ngrams(sent, 2) for sent in text]\n",
      "     |  >>> text_unigrams = [ngrams(sent, 1) for sent in text]\n",
      "     |  \n",
      "     |  The counting itself is very simple.\n",
      "     |  \n",
      "     |  >>> from nltk.lm import NgramCounter\n",
      "     |  >>> ngram_counts = NgramCounter(text_bigrams + text_unigrams)\n",
      "     |  \n",
      "     |  You can conveniently access ngram counts using standard python dictionary notation.\n",
      "     |  String keys will give you unigram counts.\n",
      "     |  \n",
      "     |  >>> ngram_counts['a']\n",
      "     |  2\n",
      "     |  >>> ngram_counts['aliens']\n",
      "     |  0\n",
      "     |  \n",
      "     |  If you want to access counts for higher order ngrams, use a list or a tuple.\n",
      "     |  These are treated as \"context\" keys, so what you get is a frequency distribution\n",
      "     |  over all continuations after the given context.\n",
      "     |  \n",
      "     |  >>> sorted(ngram_counts[['a']].items())\n",
      "     |  [('b', 1), ('c', 1)]\n",
      "     |  >>> sorted(ngram_counts[('a',)].items())\n",
      "     |  [('b', 1), ('c', 1)]\n",
      "     |  \n",
      "     |  This is equivalent to specifying explicitly the order of the ngram (in this case\n",
      "     |  2 for bigram) and indexing on the context.\n",
      "     |  >>> ngram_counts[2][('a',)] is ngram_counts[['a']]\n",
      "     |  True\n",
      "     |  \n",
      "     |  Note that the keys in `ConditionalFreqDist` cannot be lists, only tuples!\n",
      "     |  It is generally advisable to use the less verbose and more flexible square\n",
      "     |  bracket notation.\n",
      "     |  \n",
      "     |  To get the count of the full ngram \"a b\", do this:\n",
      "     |  \n",
      "     |  >>> ngram_counts[['a']]['b']\n",
      "     |  1\n",
      "     |  \n",
      "     |  Specifying the ngram order as a number can be useful for accessing all ngrams\n",
      "     |  in that order.\n",
      "     |  \n",
      "     |  >>> ngram_counts[2]\n",
      "     |  <ConditionalFreqDist with 4 conditions>\n",
      "     |  \n",
      "     |  The keys of this `ConditionalFreqDist` are the contexts we discussed earlier.\n",
      "     |  Unigrams can also be accessed with a human-friendly alias.\n",
      "     |  \n",
      "     |  >>> ngram_counts.unigrams is ngram_counts[1]\n",
      "     |  True\n",
      "     |  \n",
      "     |  Similarly to `collections.Counter`, you can update counts after initialization.\n",
      "     |  \n",
      "     |  >>> ngram_counts['e']\n",
      "     |  0\n",
      "     |  >>> ngram_counts.update([ngrams([\"d\", \"e\", \"f\"], 1)])\n",
      "     |  >>> ngram_counts['e']\n",
      "     |  1\n",
      "     |  \n",
      "     |  Methods defined here:\n",
      "     |  \n",
      "     |  N(self)\n",
      "     |      Returns grand total number of ngrams stored.\n",
      "     |      \n",
      "     |      This includes ngrams from all orders, so some duplication is expected.\n",
      "     |      :rtype: int\n",
      "     |      \n",
      "     |      >>> from nltk.lm import NgramCounter\n",
      "     |      >>> counts = NgramCounter([[(\"a\", \"b\"), (\"c\",), (\"d\", \"e\")]])\n",
      "     |      >>> counts.N()\n",
      "     |      3\n",
      "     |  \n",
      "     |  __contains__(self, item)\n",
      "     |  \n",
      "     |  __getitem__(self, item)\n",
      "     |      User-friendly access to ngram counts.\n",
      "     |  \n",
      "     |  __init__(self, ngram_text=None)\n",
      "     |      Creates a new NgramCounter.\n",
      "     |      \n",
      "     |      If `ngram_text` is specified, counts ngrams from it, otherwise waits for\n",
      "     |      `update` method to be called explicitly.\n",
      "     |      \n",
      "     |      :param ngram_text: Optional text containing senteces of ngrams, as for `update` method.\n",
      "     |      :type ngram_text: Iterable(Iterable(tuple(str))) or None\n",
      "     |  \n",
      "     |  __len__(self)\n",
      "     |  \n",
      "     |  __str__(self)\n",
      "     |      Return str(self).\n",
      "     |  \n",
      "     |  __unicode__ = __str__(self)\n",
      "     |  \n",
      "     |  unicode_repr = __repr__(self, /)\n",
      "     |  \n",
      "     |  update(self, ngram_text)\n",
      "     |      Updates ngram counts from `ngram_text`.\n",
      "     |      \n",
      "     |      Expects `ngram_text` to be a sequence of sentences (sequences).\n",
      "     |      Each sentence consists of ngrams as tuples of strings.\n",
      "     |      \n",
      "     |      :param Iterable(Iterable(tuple(str))) ngram_text: Text containing senteces of ngrams.\n",
      "     |      :raises TypeError: if the ngrams are not tuples.\n",
      "     |  \n",
      "     |  ----------------------------------------------------------------------\n",
      "     |  Data descriptors defined here:\n",
      "     |  \n",
      "     |  __dict__\n",
      "     |      dictionary for instance variables (if defined)\n",
      "     |  \n",
      "     |  __weakref__\n",
      "     |      list of weak references to the object (if defined)\n",
      "    \n",
      "    class Vocabulary(builtins.object)\n",
      "     |  Vocabulary(counts=None, unk_cutoff=1, unk_label='<UNK>')\n",
      "     |  \n",
      "     |  Stores language model vocabulary.\n",
      "     |  \n",
      "     |  Satisfies two common language modeling requirements for a vocabulary:\n",
      "     |  - When checking membership and calculating its size, filters items\n",
      "     |    by comparing their counts to a cutoff value.\n",
      "     |  - Adds a special \"unknown\" token which unseen words are mapped to.\n",
      "     |  \n",
      "     |  >>> words = ['a', 'c', '-', 'd', 'c', 'a', 'b', 'r', 'a', 'c', 'd']\n",
      "     |  >>> from nltk.lm import Vocabulary\n",
      "     |  >>> vocab = Vocabulary(words, unk_cutoff=2)\n",
      "     |  \n",
      "     |  Tokens with counts greater than or equal to the cutoff value will\n",
      "     |  be considered part of the vocabulary.\n",
      "     |  \n",
      "     |  >>> vocab['c']\n",
      "     |  3\n",
      "     |  >>> 'c' in vocab\n",
      "     |  True\n",
      "     |  >>> vocab['d']\n",
      "     |  2\n",
      "     |  >>> 'd' in vocab\n",
      "     |  True\n",
      "     |  \n",
      "     |  Tokens with frequency counts less than the cutoff value will be considered not\n",
      "     |  part of the vocabulary even though their entries in the count dictionary are\n",
      "     |  preserved.\n",
      "     |  \n",
      "     |  >>> vocab['b']\n",
      "     |  1\n",
      "     |  >>> 'b' in vocab\n",
      "     |  False\n",
      "     |  >>> vocab['aliens']\n",
      "     |  0\n",
      "     |  >>> 'aliens' in vocab\n",
      "     |  False\n",
      "     |  \n",
      "     |  Keeping the count entries for seen words allows us to change the cutoff value\n",
      "     |  without having to recalculate the counts.\n",
      "     |  \n",
      "     |  >>> vocab2 = Vocabulary(vocab.counts, unk_cutoff=1)\n",
      "     |  >>> \"b\" in vocab2\n",
      "     |  True\n",
      "     |  \n",
      "     |  The cutoff value influences not only membership checking but also the result of\n",
      "     |  getting the size of the vocabulary using the built-in `len`.\n",
      "     |  Note that while the number of keys in the vocabulary's counter stays the same,\n",
      "     |  the items in the vocabulary differ depending on the cutoff.\n",
      "     |  We use `sorted` to demonstrate because it keeps the order consistent.\n",
      "     |  \n",
      "     |  >>> sorted(vocab2.counts)\n",
      "     |  ['-', 'a', 'b', 'c', 'd', 'r']\n",
      "     |  >>> sorted(vocab2)\n",
      "     |  ['-', '<UNK>', 'a', 'b', 'c', 'd', 'r']\n",
      "     |  >>> sorted(vocab.counts)\n",
      "     |  ['-', 'a', 'b', 'c', 'd', 'r']\n",
      "     |  >>> sorted(vocab)\n",
      "     |  ['<UNK>', 'a', 'c', 'd']\n",
      "     |  \n",
      "     |  In addition to items it gets populated with, the vocabulary stores a special\n",
      "     |  token that stands in for so-called \"unknown\" items. By default it's \"<UNK>\".\n",
      "     |  \n",
      "     |  >>> \"<UNK>\" in vocab\n",
      "     |  True\n",
      "     |  \n",
      "     |  We can look up words in a vocabulary using its `lookup` method.\n",
      "     |  \"Unseen\" words (with counts less than cutoff) are looked up as the unknown label.\n",
      "     |  If given one word (a string) as an input, this method will return a string.\n",
      "     |  \n",
      "     |  >>> vocab.lookup(\"a\")\n",
      "     |  'a'\n",
      "     |  >>> vocab.lookup(\"aliens\")\n",
      "     |  '<UNK>'\n",
      "     |  \n",
      "     |  If given a sequence, it will return an tuple of the looked up words.\n",
      "     |  \n",
      "     |  >>> vocab.lookup([\"p\", 'a', 'r', 'd', 'b', 'c'])\n",
      "     |  ('<UNK>', 'a', '<UNK>', 'd', '<UNK>', 'c')\n",
      "     |  \n",
      "     |  It's possible to update the counts after the vocabulary has been created.\n",
      "     |  The interface follows that of `collections.Counter`.\n",
      "     |  \n",
      "     |  >>> vocab['b']\n",
      "     |  1\n",
      "     |  >>> vocab.update([\"b\", \"b\", \"c\"])\n",
      "     |  >>> vocab['b']\n",
      "     |  3\n",
      "     |  \n",
      "     |  Methods defined here:\n",
      "     |  \n",
      "     |  __contains__(self, item)\n",
      "     |      Only consider items with counts GE to cutoff as being in the\n",
      "     |      vocabulary.\n",
      "     |  \n",
      "     |  __eq__(self, other)\n",
      "     |      Return self==value.\n",
      "     |  \n",
      "     |  __getitem__(self, item)\n",
      "     |  \n",
      "     |  __init__(self, counts=None, unk_cutoff=1, unk_label='<UNK>')\n",
      "     |      Create a new Vocabulary.\n",
      "     |      \n",
      "     |      :param counts: Optional iterable or `collections.Counter` instance to\n",
      "     |                     pre-seed the Vocabulary. In case it is iterable, counts\n",
      "     |                     are calculated.\n",
      "     |      :param int unk_cutoff: Words that occur less frequently than this value\n",
      "     |                             are not considered part of the vocabulary.\n",
      "     |      :param unk_label: Label for marking words not part of vocabulary.\n",
      "     |  \n",
      "     |  __iter__(self)\n",
      "     |      Building on membership check define how to iterate over\n",
      "     |      vocabulary.\n",
      "     |  \n",
      "     |  __len__(self)\n",
      "     |      Computing size of vocabulary reflects the cutoff.\n",
      "     |  \n",
      "     |  __str__(self)\n",
      "     |      Return str(self).\n",
      "     |  \n",
      "     |  __unicode__ = __str__(self)\n",
      "     |  \n",
      "     |  lookup(self, words)\n",
      "     |      Look up one or more words in the vocabulary.\n",
      "     |      \n",
      "     |      If passed one word as a string will return that word or `self.unk_label`.\n",
      "     |      Otherwise will assume it was passed a sequence of words, will try to look\n",
      "     |      each of them up and return an iterator over the looked up words.\n",
      "     |      \n",
      "     |      :param words: Word(s) to look up.\n",
      "     |      :type words: Iterable(str) or str\n",
      "     |      :rtype: generator(str) or str\n",
      "     |      :raises: TypeError for types other than strings or iterables\n",
      "     |      \n",
      "     |      >>> from nltk.lm import Vocabulary\n",
      "     |      >>> vocab = Vocabulary([\"a\", \"b\", \"c\", \"a\", \"b\"], unk_cutoff=2)\n",
      "     |      >>> vocab.lookup(\"a\")\n",
      "     |      'a'\n",
      "     |      >>> vocab.lookup(\"aliens\")\n",
      "     |      '<UNK>'\n",
      "     |      >>> vocab.lookup([\"a\", \"b\", \"c\", [\"x\", \"b\"]])\n",
      "     |      ('a', 'b', '<UNK>', ('<UNK>', 'b'))\n",
      "     |  \n",
      "     |  unicode_repr = __repr__(self, /)\n",
      "     |  \n",
      "     |  update(self, *counter_args, **counter_kwargs)\n",
      "     |      Update vocabulary counts.\n",
      "     |      \n",
      "     |      Wraps `collections.Counter.update` method.\n",
      "     |  \n",
      "     |  ----------------------------------------------------------------------\n",
      "     |  Data descriptors defined here:\n",
      "     |  \n",
      "     |  __dict__\n",
      "     |      dictionary for instance variables (if defined)\n",
      "     |  \n",
      "     |  __weakref__\n",
      "     |      list of weak references to the object (if defined)\n",
      "     |  \n",
      "     |  cutoff\n",
      "     |      Cutoff value.\n",
      "     |      \n",
      "     |      Items with count below this value are not considered part of vocabulary.\n",
      "     |  \n",
      "     |  ----------------------------------------------------------------------\n",
      "     |  Data and other attributes defined here:\n",
      "     |  \n",
      "     |  __hash__ = None\n",
      "    \n",
      "    class WittenBellInterpolated(InterpolatedLanguageModel)\n",
      "     |  WittenBellInterpolated(order, **kwargs)\n",
      "     |  \n",
      "     |  Interpolated version of Witten-Bell smoothing.\n",
      "     |  \n",
      "     |  Method resolution order:\n",
      "     |      WittenBellInterpolated\n",
      "     |      InterpolatedLanguageModel\n",
      "     |      nltk.lm.api.LanguageModel\n",
      "     |      builtins.object\n",
      "     |  \n",
      "     |  Methods defined here:\n",
      "     |  \n",
      "     |  __init__(self, order, **kwargs)\n",
      "     |      Creates new LanguageModel.\n",
      "     |      \n",
      "     |      :param vocabulary: If provided, this vocabulary will be used instead\n",
      "     |      of creating a new one when training.\n",
      "     |      :type vocabulary: `nltk.lm.Vocabulary` or None\n",
      "     |      :param counter: If provided, use this object to count ngrams.\n",
      "     |      :type vocabulary: `nltk.lm.NgramCounter` or None\n",
      "     |      :param ngrams_fn: If given, defines how sentences in training text are turned to ngram\n",
      "     |                        sequences.\n",
      "     |      :type ngrams_fn: function or None\n",
      "     |      :param pad_fn: If given, defines how senteces in training text are padded.\n",
      "     |      :type pad_fn: function or None\n",
      "     |  \n",
      "     |  ----------------------------------------------------------------------\n",
      "     |  Data and other attributes defined here:\n",
      "     |  \n",
      "     |  __abstractmethods__ = frozenset()\n",
      "     |  \n",
      "     |  ----------------------------------------------------------------------\n",
      "     |  Methods inherited from InterpolatedLanguageModel:\n",
      "     |  \n",
      "     |  unmasked_score(self, word, context=None)\n",
      "     |      Score a word given some optional context.\n",
      "     |      \n",
      "     |      Concrete models are expected to provide an implementation.\n",
      "     |      Note that this method does not mask its arguments with the OOV label.\n",
      "     |      Use the `score` method for that.\n",
      "     |      \n",
      "     |      :param str word: Word for which we want the score\n",
      "     |      :param tuple(str) context: Context the word is in.\n",
      "     |      If `None`, compute unigram score.\n",
      "     |      :param context: tuple(str) or None\n",
      "     |      :rtype: float\n",
      "     |  \n",
      "     |  ----------------------------------------------------------------------\n",
      "     |  Methods inherited from nltk.lm.api.LanguageModel:\n",
      "     |  \n",
      "     |  context_counts(self, context)\n",
      "     |      Helper method for retrieving counts for a given context.\n",
      "     |      \n",
      "     |      Assumes context has been checked and oov words in it masked.\n",
      "     |      :type context: tuple(str) or None\n",
      "     |  \n",
      "     |  entropy(self, text_ngrams)\n",
      "     |      Calculate cross-entropy of model for given evaluation text.\n",
      "     |      \n",
      "     |      :param Iterable(tuple(str)) text_ngrams: A sequence of ngram tuples.\n",
      "     |      :rtype: float\n",
      "     |  \n",
      "     |  fit(self, text, vocabulary_text=None)\n",
      "     |      Trains the model on a text.\n",
      "     |      \n",
      "     |      :param text: Training text as a sequence of sentences.\n",
      "     |  \n",
      "     |  generate(self, num_words=1, text_seed=None, random_seed=None)\n",
      "     |      Generate words from the model.\n",
      "     |      \n",
      "     |      :param int num_words: How many words to generate. By default 1.\n",
      "     |      :param text_seed: Generation can be conditioned on preceding context.\n",
      "     |      :param random_seed: A random seed or an instance of `random.Random`. If provided,\n",
      "     |      makes the random sampling part of generation reproducible.\n",
      "     |      :return: One (str) word or a list of words generated from model.\n",
      "     |      \n",
      "     |      Examples:\n",
      "     |      \n",
      "     |      >>> from nltk.lm import MLE\n",
      "     |      >>> lm = MLE(2)\n",
      "     |      >>> lm.fit([[(\"a\", \"b\"), (\"b\", \"c\")]], vocabulary_text=['a', 'b', 'c'])\n",
      "     |      >>> lm.fit([[(\"a\",), (\"b\",), (\"c\",)]])\n",
      "     |      >>> lm.generate(random_seed=3)\n",
      "     |      'a'\n",
      "     |      >>> lm.generate(text_seed=['a'])\n",
      "     |      'b'\n",
      "     |  \n",
      "     |  logscore(self, word, context=None)\n",
      "     |      Evaluate the log score of this word in this context.\n",
      "     |      \n",
      "     |      The arguments are the same as for `score` and `unmasked_score`.\n",
      "     |  \n",
      "     |  perplexity(self, text_ngrams)\n",
      "     |      Calculates the perplexity of the given text.\n",
      "     |      \n",
      "     |      This is simply 2 ** cross-entropy for the text, so the arguments are the same.\n",
      "     |  \n",
      "     |  score(self, word, context=None)\n",
      "     |      Masks out of vocab (OOV) words and computes their model score.\n",
      "     |      \n",
      "     |      For model-specific logic of calculating scores, see the `unmasked_score`\n",
      "     |      method.\n",
      "     |  \n",
      "     |  ----------------------------------------------------------------------\n",
      "     |  Data descriptors inherited from nltk.lm.api.LanguageModel:\n",
      "     |  \n",
      "     |  __dict__\n",
      "     |      dictionary for instance variables (if defined)\n",
      "     |  \n",
      "     |  __weakref__\n",
      "     |      list of weak references to the object (if defined)\n",
      "\n",
      "DATA\n",
      "    __all__ = ['Vocabulary', 'NgramCounter', 'MLE', 'Lidstone', 'Laplace',...\n",
      "\n",
      "FILE\n",
      "    d:\\apps\\anaconda3\\lib\\site-packages\\nltk\\lm\\__init__.py\n",
      "\n",
      "\n"
     ]
    }
   ],
   "source": [
    "from nltk import lm\n",
    "help(lm)"
   ]
  },
  {
   "cell_type": "code",
   "execution_count": 14,
   "metadata": {},
   "outputs": [],
   "source": [
    "import nltk"
   ]
  },
  {
   "cell_type": "code",
   "execution_count": 15,
   "metadata": {},
   "outputs": [
    {
     "data": {
      "text/plain": [
       "['Hello',\n",
       " 'students',\n",
       " ',',\n",
       " 'we',\n",
       " 'are',\n",
       " 'studying',\n",
       " 'Parts',\n",
       " 'of',\n",
       " 'Speech',\n",
       " 'Tagging',\n",
       " '.',\n",
       " 'Lets',\n",
       " 'understand',\n",
       " 'the',\n",
       " 'process',\n",
       " 'of',\n",
       " 'shallow',\n",
       " 'parsing',\n",
       " 'or',\n",
       " 'Chunking',\n",
       " '.',\n",
       " 'Here',\n",
       " 'were',\n",
       " 'are',\n",
       " 'drawing',\n",
       " 'the',\n",
       " 'tree',\n",
       " 'corresponding',\n",
       " 'to',\n",
       " 'the',\n",
       " 'words',\n",
       " 'and',\n",
       " 'the',\n",
       " 'POS',\n",
       " 'tags',\n",
       " 'based',\n",
       " 'on',\n",
       " 'a',\n",
       " 'set',\n",
       " 'grammer',\n",
       " 'regex',\n",
       " 'patter',\n",
       " '.']"
      ]
     },
     "execution_count": 15,
     "metadata": {},
     "output_type": "execute_result"
    }
   ],
   "source": [
    "text = \"Hello students, we are studying Parts of Speech Tagging. Lets understand the process of\\\n",
    "            shallow parsing or Chunking. Here were are drawing the tree corresponding to the words \\\n",
    "            and the POS tags based on a set grammer regex patter.\"\n",
    "words = nltk.word_tokenize(text)\n",
    "words"
   ]
  },
  {
   "cell_type": "code",
   "execution_count": 16,
   "metadata": {},
   "outputs": [
    {
     "data": {
      "text/plain": [
       "[('Hello', 'NNP'),\n",
       " ('students', 'NNS'),\n",
       " (',', ','),\n",
       " ('we', 'PRP'),\n",
       " ('are', 'VBP'),\n",
       " ('studying', 'VBG'),\n",
       " ('Parts', 'NNS'),\n",
       " ('of', 'IN'),\n",
       " ('Speech', 'NNP'),\n",
       " ('Tagging', 'NNP'),\n",
       " ('.', '.'),\n",
       " ('Lets', 'NNS'),\n",
       " ('understand', 'VBP'),\n",
       " ('the', 'DT'),\n",
       " ('process', 'NN'),\n",
       " ('of', 'IN'),\n",
       " ('shallow', 'JJ'),\n",
       " ('parsing', 'NN'),\n",
       " ('or', 'CC'),\n",
       " ('Chunking', 'NNP'),\n",
       " ('.', '.'),\n",
       " ('Here', 'RB'),\n",
       " ('were', 'VBD'),\n",
       " ('are', 'VBP'),\n",
       " ('drawing', 'VBG'),\n",
       " ('the', 'DT'),\n",
       " ('tree', 'NN'),\n",
       " ('corresponding', 'VBG'),\n",
       " ('to', 'TO'),\n",
       " ('the', 'DT'),\n",
       " ('words', 'NNS'),\n",
       " ('and', 'CC'),\n",
       " ('the', 'DT'),\n",
       " ('POS', 'NNP'),\n",
       " ('tags', 'NNS'),\n",
       " ('based', 'VBN'),\n",
       " ('on', 'IN'),\n",
       " ('a', 'DT'),\n",
       " ('set', 'NN'),\n",
       " ('grammer', 'NN'),\n",
       " ('regex', 'NN'),\n",
       " ('patter', 'NN'),\n",
       " ('.', '.')]"
      ]
     },
     "execution_count": 16,
     "metadata": {},
     "output_type": "execute_result"
    }
   ],
   "source": [
    "tags = nltk.pos_tag(words)\n",
    "tags"
   ]
  },
  {
   "cell_type": "code",
   "execution_count": 17,
   "metadata": {},
   "outputs": [],
   "source": [
    "grammar = (''' NP: {<DT><JJ><NN>} ''')"
   ]
  },
  {
   "cell_type": "code",
   "execution_count": 18,
   "metadata": {},
   "outputs": [],
   "source": [
    "'''chunk_par = nltk.RegexpParser(grammar)\n",
    "tree = chunk_par.parse(tags)\n",
    "tree.draw()'''"
   ]
  },
  {
   "cell_type": "code",
   "execution_count": 19,
   "metadata": {},
   "outputs": [
    {
     "data": {
      "text/plain": [
       "<Text: The Book of Genesis>"
      ]
     },
     "execution_count": 19,
     "metadata": {},
     "output_type": "execute_result"
    }
   ],
   "source": [
    "text3"
   ]
  },
  {
   "cell_type": "code",
   "execution_count": 20,
   "metadata": {},
   "outputs": [],
   "source": [
    "freq = FreqDist(text3)"
   ]
  },
  {
   "cell_type": "code",
   "execution_count": 21,
   "metadata": {},
   "outputs": [
    {
     "data": {
      "text/plain": [
       "FreqDist({',': 3681, 'and': 2428, 'the': 2411, 'of': 1358, '.': 1315, 'And': 1250, 'his': 651, 'he': 648, 'to': 611, ';': 605, ...})"
      ]
     },
     "execution_count": 21,
     "metadata": {},
     "output_type": "execute_result"
    }
   ],
   "source": [
    "freq"
   ]
  },
  {
   "cell_type": "code",
   "execution_count": 22,
   "metadata": {},
   "outputs": [
    {
     "name": "stdout",
     "output_type": "stream",
     "text": [
      "<FreqDist with 2789 samples and 44764 outcomes>\n"
     ]
    }
   ],
   "source": [
    "print(freq)"
   ]
  },
  {
   "cell_type": "code",
   "execution_count": 23,
   "metadata": {},
   "outputs": [
    {
     "data": {
      "text/plain": [
       "[(',', 3681),\n",
       " ('and', 2428),\n",
       " ('the', 2411),\n",
       " ('of', 1358),\n",
       " ('.', 1315),\n",
       " ('And', 1250),\n",
       " ('his', 651),\n",
       " ('he', 648),\n",
       " ('to', 611),\n",
       " (';', 605),\n",
       " ('unto', 590),\n",
       " ('in', 588),\n",
       " ('that', 509),\n",
       " ('I', 484),\n",
       " ('said', 476),\n",
       " ('him', 387),\n",
       " ('a', 342),\n",
       " ('my', 325),\n",
       " ('was', 317),\n",
       " ('for', 297),\n",
       " ('it', 290),\n",
       " ('with', 289),\n",
       " ('me', 282),\n",
       " ('thou', 272),\n",
       " (\"'\", 268),\n",
       " ('is', 267),\n",
       " ('thy', 267),\n",
       " ('s', 263),\n",
       " ('thee', 257),\n",
       " ('be', 254),\n",
       " ('shall', 253),\n",
       " ('they', 249),\n",
       " ('all', 245),\n",
       " (':', 238),\n",
       " ('God', 231),\n",
       " ('them', 230),\n",
       " ('not', 224),\n",
       " ('which', 198),\n",
       " ('father', 198),\n",
       " ('will', 195),\n",
       " ('land', 184),\n",
       " ('Jacob', 179),\n",
       " ('came', 177),\n",
       " ('her', 173),\n",
       " ('LORD', 166),\n",
       " ('were', 163),\n",
       " ('she', 161),\n",
       " ('from', 157),\n",
       " ('Joseph', 157),\n",
       " ('their', 153)]"
      ]
     },
     "execution_count": 23,
     "metadata": {},
     "output_type": "execute_result"
    }
   ],
   "source": [
    "freq.most_common(50)"
   ]
  },
  {
   "cell_type": "code",
   "execution_count": 24,
   "metadata": {},
   "outputs": [
    {
     "data": {
      "text/plain": [
       "2428"
      ]
     },
     "execution_count": 24,
     "metadata": {},
     "output_type": "execute_result"
    }
   ],
   "source": [
    "freq['and']"
   ]
  },
  {
   "cell_type": "code",
   "execution_count": 25,
   "metadata": {},
   "outputs": [
    {
     "data": {
      "text/plain": [
       "<Figure size 640x480 with 1 Axes>"
      ]
     },
     "metadata": {},
     "output_type": "display_data"
    },
    {
     "data": {
      "text/plain": [
       "<matplotlib.axes._subplots.AxesSubplot at 0x26c2c91cf98>"
      ]
     },
     "execution_count": 25,
     "metadata": {},
     "output_type": "execute_result"
    }
   ],
   "source": [
    "freq.plot(20, cumulative = True)"
   ]
  },
  {
   "cell_type": "code",
   "execution_count": 26,
   "metadata": {},
   "outputs": [
    {
     "data": {
      "image/png": "[encoded data removed]",
      "text/plain": [
       "<Figure size 432x288 with 1 Axes>"
      ]
     },
     "metadata": {
      "needs_background": "light"
     },
     "output_type": "display_data"
    },
    {
     "data": {
      "text/plain": [
       "<matplotlib.axes._subplots.AxesSubplot at 0x26c2e9b9048>"
      ]
     },
     "execution_count": 26,
     "metadata": {},
     "output_type": "execute_result"
    }
   ],
   "source": [
    "freq.plot(20)"
   ]
  },
  {
   "cell_type": "code",
   "execution_count": 27,
   "metadata": {},
   "outputs": [
    {
     "name": "stdout",
     "output_type": "stream",
     "text": [
      "              ,             and             the              of               .             And             his              he              to               ;            unto              in            that               I            said             him               a              my             was             for              it            with              me            thou               '              is             thy               s            thee              be           shall            they             all               :             God            them             not           which          father            will            land           Jacob            came             her            LORD            were             she            from          Joseph           their             son               ?            sons            upon             had            have         Abraham            this              up             are           there             man            when              as           earth            went           after             out            wife           years            name          called              us          before         brother              we         Pharaoh           every              ye            into             you            your            hand           house            also            took            pass           these            hath              by        brethren          saying           Isaac              an           Egypt            Esau           shalt            made             day             one            come           begat             but          behold             men             let              go             our        children            days         hundred         brought            give            down            seed             did           Abram             saw              on             now            bare         because           seven           Laban          Behold              at       daughters              so             two            hast          cattle             The            over            well            gave            pray            face             eat            take           place            make        daughter             old              do            good           field            sent           again          Rachel           forth             may         blessed          Canaan              am            city            Noah         servant            lord           bring             put          Israel           thing           spake           lived            Then             But           found            eyes        servants            away           Sarah            done              if             yet          people       therefore            told             way            then            born            died            Leah          waters           great       according            king           money             set            life             Now             art           dream           heard           three             Lot             Let            both             For         Rebekah          master          heaven          mother            even           Judah           night           water            What            duke           flesh           dwelt        covenant              no            left            whom             die             see         between            time             ark          ground          famine            near       Abimelech             any         against           bless             say          flocks           thine            same            This            know           voice           bread       conceived           wives           dwell            five            tent          camels              or         himself            tree              So           given           These          should           taken            more            rose          sister           drink         morning           beast           where           woman             off           among          little            food          toward            what              th           Sodom        multiply            very          thence       commanded            Adam              If              My             ten           hands        returned         nations             who             lad           under           sight              We            knew           sheep          thirty               h           until           Sarai            tell         Ishmael           stood        answered       firstborn           words            corn         Shechem        Benjamin           first        together           whose            fowl          living     generations            evil            head            Cain           other          things           Nahor           child         country          lifted           bowed        gathered          surely            than         another           forty         destroy          looked            bury          second        fruitful           river            lest      themselves           flock           mouth            Shem              Go         younger           asses            mine     circumcised            wept           chief            kind             yea            soul          garden            keep            bear            only           altar            laid           Haran            wilt          buried           speak            ears              In            Thus          became            four            east         thereof            meet       Therefore         neither          opened            Thou            fell            door           young            nine           alive           month            Heth           plain        departed          Bethel       Egyptians           Hagar            maid            here       Wherefore            find             lay          pillar            dead        blessing          Ephron            send         dreamed          Reuben             buy         created           light           above            male           stone         Because            sake            live           blood            slay            such            That          twenty           heart           grace           flood            seen              lo            fear             bow            wine           might            been           herds           could              Is            fled      possession          bought          cannot            cave       Beersheba          digged           about            Edom             Thy        favoured            kine           Hamor           dukes         Ephraim         divided         evening           third            meat           whole           names        presence          Lamech           eight             Ham       righteous         therein           mount             law         kindred        appeared           right           angel         betwixt            sore       Padanaram            sold          Simeon         reigned             cup        Manasseh        youngest          Goshen         without           fruit             ear        creeping              It              Ye          afraid           eaten          become             end          within           fifty            year            look        families        Gomorrah           Terah          spoken          silver           Mamre          served           serve         fathers             age               O             sat             ran          manner    Peradventure            gate         captain           sware         Bethuel          damsel         pitcher           asked           loved           goats          Bilhah         present            Anah           carry          prison            sack       firmament        creature        creepeth             sea             air             own         wherein            dust            gold            call            Unto            Abel        offering             sin            When           Enoch            Adah         daughte           those            Come            lift     exceedingly           Bring           burnt     everlasting         garment           Gerar       journeyed          nation           souls          passed             She          cities           kings            Seir            full           goods            Give          indeed           being         whether           arose         thither           bound            none            much         venison             how           arise          kissed            neck        speckled          stolen            coat          butler           sacks            herb          female            till           would         husband       hearkened            slew             can         builded         Japheth          mighty           clean       substance             six       prevailed              He       wherefore      Canaanites          abroad            Eber          Milcah         pitched           didst      wilderness            word          seeing            each        stranger           peace          pieces        handmaid        Egyptian       multitude            many            feet           early             get          shewed             nor            thus            hear            cast           death     Philistines             ass           stead         Hittite           thigh              ha         raiment    peradventure           cried           hated          Zilpah           Dinah     ringstraked          except            ones           grave      Aholibamah         Eliphaz             pit             ill            deep           midst            Eden              Of           leave         serpent             Who          sorrow          return           drove           sword          turned          gotten           wroth           began          twelve          ninety           sixty      concerning       establish          beasts            They            high         covered         removed               (        Arphaxad           Salah        grievous          saidst         herdmen            Zoar             Dan         portion            Take             sun        Almighty            must           Shall          behind             Nay            drew            deal            some            grew             lie           swear         witness            Here    buryingplace       Machpelah            draw         journey          cometh            womb      birthright       Bashemath         savoury            gone        mourning            feed            Levi         spotted             fed            rods            heap         company          harlot          Zibeon           guard           spies       beginning          divide        yielding              ki         greater            rule           stars           fifth           image         watered          mayest      whatsoever           sleep            gods               d           Where          cursed         greatly          keeper             fat             why          talked            kill           tents         hearken         seventy            Seth            Enos          Cainan      Mahalaleel           Jared      Methuselah            fair           There           fowls          filled         through            wood         entered               m             All       destroyed            dove               o       delivered         require       nakedness           lands           goest           Peleg            shew        mountain           south          beheld            oxen     menservants    maidservants          Jordan           Arise          Hebron    Chedorlaomer           smote            back           women          surety           judge         whither        foreskin           fetch       certainly       household              Oh           Abrah           feast           round           known           while          escape             See       sojourned          Surely        kindness        shoulder           saith        communed       bracelets          enough            oath             few      threescore          Syrian       fulfilled           anger           wages       mandrakes           white        devoured           Reuel            Duke              Er            Onan           Tamar           baker            ward  interpretation            thin            true       blessings        darkness             dry              Se      abundantly        dominion         bearing            host         seventh            work          caused            rain          breath         Havilah           goeth            fall           naked            wise             hid            wast            Hast       shouldest              ev          whence     countenance               n            hurt           truly       appointed         comfort         grieved          cubits       increased       mountains      remembered            wind            rest         offered           curse           token        remember           drank           faces           awoke              By          Shinar       afterward          spread       countries           elder        language         nothing             Reu           Serug            save           Phara         dwelled         thyself          wicked          number            walk           built            Bela            vale            With          Hebrew         pursued          priest            most         steward            heir          hither            flee      affliction           needs      yourselves           ready         herself           laugh             cry              LO          angels            turn           abide           mercy        preserve        withheld         restore           ought         thought        restored       bondwoman           lambs          eldest          follow           clear            room       provender         prosper             hou          kindly            Send       comforted           ghost            kept         charged            love             How          plenty         pleased         certain        Naphtali             Gad           Asher            hire        Issachar           brown           times            rams         carried          Gilead        searched              On          hollow         defiled           trade           Lotan          Dishon          dreams         deliver     Ishmeelites            rent         clothes             kid          Shelah            vine       interpret          befall          wagons             bed          lights          fourth          moveth              Be           green         heavens           ended          rested          formed         planted        eastward        pleasant           alone            help         instead           trees            doth             Why         receive        strength       sevenfold          Zillah            Hear          walked          eighty          spirit     continually          window            sort          gather      generation          broken        selfsame            shut         stopped      restrained          abated           tenth           dried          stayed           Every           smite         harvest           lives           cloud        backward         Blessed            Cush           Sheba           Dedan          hunter        Rehoboth         Amorite          Hivite          comest           Admah            Elam            Aram          Joktan           Jobab        dwelling           tower             top              Ur        Chaldees       Canaanite              la              ea           going         sojourn         princes            able            catt        separate       separated           seest        numbered          joined          Siddim         Horites          Kadesh        Amorites          valley         enemies          thread           After            Fear       exceeding          bowels         counted         inherit             ram           birds        iniquity        mistress        despised           dealt            Shur          camest          Return              As         laughed             Isa          favour            wash          tender          hasted           waxed            hard         command            Wilt             far           angry            soon           tarry         pressed             gre        consumed            hold            fire     inhabitants     yesternight            fath        suffered          bottle         Phichol             ewe            sand          obeyed            Cana          prince           Zohar        audience         shekels           named             thi             dwe           Drink              al            held         earring           Whose      worshipped           haste             bad         tarried            hate            vail          Midian           Shuah        Nebajoth        stronger             red           hairy         pottage            sist            Lest          servan          envied          strove         touched            Elon            obey          goodly           smell          stones          poured             Luz        embraced           knees        wrestled        wouldest         Zebulun         knowest          answer        conceive           power         changed          images        overtook          though        trespass           stuff           empty          labour          Gather             bre           staff          daught         consent        troubled         strange           loins          beyond           Jeush          Jaalam           Korah             got           Teman           Kenaz           Zerah          Shobal            Ezer          Dishan         colours       obeisance              Do           hence         mourned         refused      Adullamite         Timnath        garments          pledge          Pharez            home        officers        branches             Yet     interpreted     leanfleshed         blasted      throughout             Egy            part           ruler         Asenath      Potipherah              sa        mischief      households        bereaved            gray           hairs            best          washed         priests            lion          Spirit           moved       gathering           grass          itself          moving            open            fill            fish       replenish           sixth        nostrils            grow       knowledge           heads      compasseth           dress               e          closed            bone           bones             fle             Yea           touch         amongst          myself        beguiled              li          bruise            heel          desire             Eve           skins          placed         process         respect          offeri           doest        accepted           lieth              Am           yield        fugitive        vagabond            Irad        Mehujael            harp       Tubalcain           slain        likeness         fifteen            toil           chose          strive      wickedness     imagination         perfect         corrupt        violence            Make           pitch          length         breadth               A            side          sevens          nights       hundredth     seventeenth       fountains         windows         prevail        remained            Also            foot          pulled        covering         smelled           youth            heat             cut       generatio     established           Japhe          Cursed           Gomer           Javan         Mizraim          Raamah          Nimrod            Even         kingdom           Babel             Out          Asshur         Nineveh           Calah           Sidon          border         tongues              Uz          speech           brick            burn           build       scattered        confound      understand         scatter          barren             Get         curseth            west             Hai           still             Say          togeth          strife          depart            like            Lift            ever        Amraphel          Arioch         Ellasar           Tidal         Zeboiim            salt        Rephaims          Shaveh          Eshcol         captive        Damascus       possessor         persons        believed   righteousness         whereby           anoth            Know         afflict         furnace              ey        pleaseth        fountain            Have           seeth       fourscore   uncircumcised               !           serva         fetched        hastened         quickly            fine            calf            milk        stricken            hide             Sod           spare            lack            rise           break           small         besides             pla              Up          seemed        lingered       overthrow           Haste       overthrew           smoke          feared       perceived            Moab           broth       integrity        offended   womenservants            silv        reproved          weaned              aw           spent             wot           clave            afar           knife              wo            lamb         provide       stretched          caught         possess       concubine            weep          choice            mind           worth         borders            sure             Put         willing          matter           stand             wat        speaking          virgin        drinking         emptied      prosperous          weight           lodge        moreover           straw             led        prepared          jewels           least         enquire           nurse        followed        Lahairoi         lighted           camel         Keturah         Jokshan          Hanoch           Hadar       intreated             Two           twins             Jac             fai          profit           Swear               w          beside          charge            long           store           wells             dim            kids          smooth            feel            kiss             dew         fatness          forget        daughers         pillows             sou          places             oil             vow               G           lying          rolled              Lo           abode           space            week         service          praise            else         kindled           troop           dowry           hadst           since              fa          pilled         gutters           glory     inheritance       strangers          riches           shear        unawares            heed          either           steal           doing      whomsoever            ewes            torn        fourteen          Except         rebuked          Galeed             met      messengers           bands           truth              Es          lodged        foremost          eleven            Isra            dost           sinew          shrank       handmaids      graciously        themselv         Succoth             fie     possessions           never            Only         spoiled        distress         thereon           Ephra       travailed         midwife               )         Ephrath       Bethlehem              da        Edomites            Omar           Zepho           Gatam           Timna          Nahath         Shammah            Mizz            Hori          Husham           Hadad             ste          Samlah            Saul       Baalhanan          Achbor     habitations       seventeen         sheaves           sheaf       ourselves            seek          Dothan            balm           myrrh      Midianites        Potiphar         officer           Hirah      displeased           widow          friend          signet         scarlet        overseer             Lie       committed            mock           wrath       prisoners     interpreter            shot            grap         Hebrews         baskets          basket          hanged      fatfleshed           stalk            rank          sprung       magicians          reason        discreet       plenteous         chariot          dearth        governor         roughly          Hereby          proved       provision           laded             inn          failed              fo           blame          double            noon         bondmen     abomination          forbid         nourish        Moreover         changes           laden         fainted             His          Hezron          Beriah       presented       shepherds      occupation        shepherd      pilgrimage            last      excellency            prey           haven          strong          tribes        overcome           bough      physicians          embalm        embalmed          elders            Atad           visit            form            void             Day           Night         firmame          Heaven            appe           Earth           signs         seasons          lesser             nig          darkne             fly          whales          winged            seas          likene          subdue        finished      sanctified           plant              gr            mist        breathed          parted           Pison        bdellium            onyx           Gihon        Ethiopia        Hiddekel         Assyria       Euphrates          freely          eatest             sle            ribs             rib           Woman             Man          cleave         ashamed          subtil            gard         knowing         desired           sewed             fig          leaves          aprons         walking            cool         whereof          gavest           belly          enmity      conception          Thorns        thistles           sweat             tak           coats         clothed       Cherubims         flaming          tiller      firstlings          fallen          crieth         tillest      henceforth      punishment          driven         findeth       whosoever         slayeth       vengeance            mark         finding             Nod         Methusa       Methusael           Jabal           Jubal          handle           organ      instructor       artificer           brass              ir          Naamah            spee        wounding         avenged              En            book            Male        begotten             Eno          always          giants          renown        thoughts        repented       repenteth            just       corrupted          gopher           rooms         fashion          height           cubit          finish           lower         stories            fema           cause            bird           hills         Fifteen          upward        asswaged          Ararat       decreased            tops              ma           raven             fro            sole           olive            leaf          pluckt       twentieth           breed           kinds       offerings           sweet          savour           While       remaineth        seedtime            cold          summer          winter           cease           dread          fishes          liveth           Whoso        sheddeth            shed       perpetual             clo      overspread      husbandman        vineyard         drunken       uncovered       shoulders         enlarge           Magog           Madai           Tubal         Meshech           Tiras        Ashkenaz         Riphath        Togarmah         Elishah        Tarshish          Kittim         Dodanim           isles        Gentiles          tongue            Phut            Seba          Sabtah         Sabtech           Erech           Accad          Calneh           Resen           Ludim          Anamim         Lehabim       Naphtuhim       Pathrusim        Casluhim       Philistim              ,)       Caphtorim        Jebusite       Girgasite          Arkite          Sinite        Arvadite        Zemarite       Hamathite            Gaza          Zeboim           Lasha             Lud             Hul          Gether            Mash         Almodad         Sheleph     Hazarmaveth           Jerah         Hadoram            Uzal          Diklah            Obal         Abimael           Ophir           Mesha          Sephar           natio      thoroughly           slime          morter           reach           begin        imagined             flo        nineteen        nativity           Iscah          blessi          Sichem           Moreh          having           enter       commended       entreated         plagued         plagues            rich        journeys             fir       Perizzite         sinners       northward       southward          westwa             war            Bera          Birsha          Shinab        Shemeber          Twelve      thirteenth        rebelled      fourteenth       Ashteroth         Karnaim          Zuzims           Emins      Kiriathaim         Elparan       Enmishpat      Amalekites    Hazezontamar              ;)          battle       slimepits        victuals         escaped              An     confederate           armed         trained        eighteen           Hobah       slaughter            dale     Melchizedek           Salem          tithes     shoelatchet              ri            Save            Aner          vision             Abr          shield          reward       childless         Eliezer            Look          heifer            goat      turtledove          pigeon           piece        carcases          horror            dark         smoking         burning            lamp         Euphrat         Kenites      Kenizzites      Kadmonites        Hittites      Perizzites     Girgashites       Jebusites           beari          obtain           wrong           bosom          hardly          submit            wild    Beerlahairoi           Bered         Neither      circumcise       circumcis           beget            next         talking        thirteen          plains              tr          morsel          hearts        measures            meal           knead           cakes          hearth            herd          fetcht          butter         dressed          ceased        pleasure             too              At          denied          Seeing         justice        judgment      altogether            wick           Judge           sakes             ash             spe       communing           lords            ways          street            bake      unleavened       compassed           quart        wickedly          shadow            roof           Stand          fellow             jud           worse       blindness         wearied           waxen         married          mocked        merciful          Escape            stay       magnified          saving              ?)        anything           risen          rained       brimstone             gat              Zo             Our          morrow        Moabites           Benam           Ammon            Said       innocency         sinning         prophet           deeds          sawest          wander        thousand             oth          prayed          healed            fast           wombs         visited            suck         mocking            Cast         putting        wandered          shrubs              sh          aileth          archer           Paran             doe         falsely       violently            mean           grove           tempt          lovest          Moriah           offer         saddled           Abide          yonder         worship           order             Lay         fearest         thicket             hor    Jehovahjireh           sworn     multiplying           shore             Huz             Buz          Kemuel          Chesed            Hazo         Pildash         Jidlaph          Reumah           Tebah           Gaham         Thahash         Maachah     Kirjatharba           mourn       sojourner      sepulchres        withhold       sepulchre         intreat         weighed         current        merchant             Mam           ruled          Beware              oa     Mesopotamia           kneel           speed         thereby          giving          trough       wondering             wit          golden            half          shekel       destitute             tru        standest        ungirded          errand           Speak            Both      proceedeth          bowing           Rebek        precious          Hinder       prospered       thousands        millions         damsels            rode        meditate        eventide          coming         walketh            mast          Zimran           Medan          Ishbak        Asshurim        Letushim         Leummim           Ephah           Epher          Abidah          Eldaah      concubines           gifts       purchased           Kedar          Adbeel          Mibsam          Mishma           Dumah           Massa            Tema           Jetur         Naphish         Kedemah           towns         castles           Assyr            barr       struggled            boys         cunning             sod            Feed            Sell           point        lentiles         Sojourn         perform    commandments        statutes            laws        sporting         lightly            lien      guiltiness        toucheth           sowed        received       hundredfo         forward        mightier       springing              ou            Esek          Sitnah        Ahuzzath         friends            army             pea         betimes          Shebah          Judith           Beeri           Hitti           Which           grief             dea         weapons          quiver            hunt            seem        deceiver            Upon              ne          badest             sit            felt       discerned             han             Art              wi        blesseth          scarce         hunting        trembled          bitter           Bless        subtilty         rightly      supplanted             tim        reserved       sustained            yoke       wherewith        touching       purposing            fury           Until        deprived           weary        Mahalath          ladder         reached            heav       ascending      descending         whereon           liest           north          awaked        dreadful           vowed            floc            roll         tidings          nought            eyed       beautiful          better          Fulfil            Reub          judged      wrestlings           Happy           wheat           hired          maiden           husba          endued      afterwards          reproa             add             tar         learned      experience         Appoint            comi        removing             goa          poplar           hazel         chesnut         strakes          appear        watering         troughs      whensoever          feeble         feebler        deceived          speckl          leaped         grisled            leap           grisl           doeth      anointedst         vowedst             Are           quite            ours         getting           stole             mou        captives        secretly           mirth           songs          tabret       foolishly        longedst           force         findest         discern       furniture       displease          custom           chode           hotly         Whereas            loss         drought           frost              mi  Jegarsahadutha          Mizpah           watch          absent            harm       sacrifice        Mahanaim     womenservan      distressed          worthy         mercies         Deliver          Thirty           milch           colts           bulls           foals            Pass         meeteth          asketh          droves         appease          accept            ford          Jabbok           brook        breaking           joint        breaketh            Tell             ask          Peniel       preserved          Penuel          halted      hindermost     handmaidens         meanest           urged         knoweth       overdrive            lead          softly          endure            folk         needeth          booths          Shalem          parcel         erected   EleloheIsrael         commune         wrought           folly         longeth       marriages             Ask            gift     deceitfully        reproach        deferred         delight      honourable       peaceable           large          herein          boldly           males            edge          wealth           stink        Perizzit          Should        fleddest          change          garmen        earrings             oak          terror          pursue        Elbethel         Deborah         beneath    Allonbachuth              na             sto       departing            Beno            Edar         concubi            twel           Zebul           Arbah            Amal          Amalek             Kor          Horite       inhabited           Hemam           Alvan        Manahath            Ebal          Shepho            Onam            Ajah           mules          Hemdan          Eshban          Ithran          Cheran          Bilhan          Zaavan            Akan            Aran            Beor        Dinhabah          Bozrah          Temani           Bedad           Avith        Masrekah             Pau       Mehetabel          Matred         Mezahab          Timnah           Alvah         Jetheth            Elah           Pinon          Mibzar         Magdiel            Iram        possessi         feeding             wiv          report       peaceably         binding         upright           Shalt           reign            moon        observed       wandering         seekest       conspired         dreamer            Some            Shed             rid          stript         spicery         conceal            sell         content     merchantmen          killed          dipped             fou           doubt       sackcloth            Shel          Chezib           marry           raise         spilled          Remain             gro   sheepshearers         wrapped           grown              .)       widowhood          openly          shamed          months          played        whoredom             chi         Discern    acknowledged         travail          breach           Zarah          person         wotteth        business            loud             voi             bou            doer         butlers          bakers       continued          season             sad           sadly interpretations          belong          budded        blossoms        clusters            ripe          grapes          former           think         mention         dungeon       uppermost       bakemeats            hang        birthday      butlership          forgat          meadow           brink           slept          faults             bak          office         hastily           dunge          shaved           canst            bank             riv            mead            poor           badne            lean        withered         declare         sheweth       forgotten         consume       following         doubled           twice         shortly         appoint          perish             Can       Forasmuch             rul          throne            ring         arrayed        vestures           linen           chain            ride             Bow              kn Zaphnathpaaneah        handfuls            citi       numbering   plenteousness        famished     storehouses          Whence            From             spi               y            pris            hous        verified          verily          guilty         anguish        besought           Spake        required      understood          espied          befell        traffick          bundle         bundles              Me          childr            Slay             alo        solemnly         protest        straitly           state           tenor             wor          fruits         vessels           honey          spices            nuts           almon         oversig            dine            bade        occasion             sir            weig           Peace        treasure             sac         welfare          health        gracious           yearn          sought         chamber       refrained             Set       marvelled          messes            mess           merry            Fill        overtake        rewarded        drinketh        divineth          mouths       blameless        speedily          younge            deed          divine          loveth         bondman         refrain           Cause           aloud            hith          earing       posterity     deliverance         poverty        speaketh            fame              co            lade          regard     commandment              To           reviv      sacrifices         visions            nati             aga          Phallu           Carmi          Jemuel           Jamin            Ohad          Jachin           Shaul     Canaanitish         Gershon          Kohath          Merari             Zar           Hamul            Tola          Phuvah             Job         Shimron           Sered         Jahleel             Din         Ziphion           Haggi           Shuni           Ezbon             Eri           Arodi           Areli          Jimnah          Ishuah            Isui           Serah           Heber        Malchiel         sixteen           Belah          Becher          Ashbel            Gera          Naaman             Ehi            Rosh          Muppim          Huppim             Ard          Hushim         Jahzeel            Guni           Jezer         Shillem          direct           fathe         morever         pasture        activity          rulers        attained         Rameses       nourished            boug         faileth            fail        exchange          horses          bodies             lan        desolate        assigned             sow        increase           parts           saved      multiplied            nigh              si    strengthened           issue       begettest           Padan         guiding       wittingly           Angel        redeemed            lads          remove             Not          Manass         dignity             pow        Unstable           excel         wentest       defiledst           couch     instruments         cruelty          secret        assembly          honour            unit        selfwill            wall          fierce             cru           whelp         stooped         couched           rouse         sceptre        lawgiver          Shiloh         Binding            foal            colt           teeth           ships           Zidon        couching         burdens         tribute           adder            path          biteth           horse           heels           rider          waited       salvation           royal        dainties            hind           loose          giveth             run              wa         archers          sorely            arms         breasts     progenitors          utmost             hil           crown           ravin            wolf          devour           spoil            peop        purchase      commanding         yielded            past        chariots        horsemen  threshingfloor       lamentati           floor         Egyptia     Abelmizraim         requite       messenger         Forgive         forgive           meant          Machir          coffin \n",
      "           3681            2428            2411            1358            1315            1250             651             648             611             605             590             588             509             484             476             387             342             325             317             297             290             289             282             272             268             267             267             263             257             254             253             249             245             238             231             230             224             198             198             195             184             179             177             173             166             163             161             157             157             153             152             148             142             139             139             132             129             123             122             119             116             114             112             112             111             110             107             106             104             102             100              98              93              91              91              90              90              88              87              86              82              82              82              82              81              81              81              81              80              80              80              79              77              76              74              74              73              72              71              70              67              67              66              65              65              64              64              63              62              61              61              60              59              59              58              58              58              57              57              56              56              54              54              54              53              53              53              52              52              52              50              50              49              49              48              48              47              47              47              46              46              46              45              45              44              44              44              44              44              43              43              43              43              43              41              41              41              41              40              40              40              39              39              38              38              37              37              37              37              37              37              36              35              35              35              35              34              34              33              33              33              33              32              32              32              32              32              31              31              31              31              31              30              30              30              29              29              29              29              29              28              28              28              28              27              27              27              27              26              26              26              26              26              25              25              25              25              25              25              24              24              24              24              23              23              23              23              23              23              22              22              22              22              22              22              22              22              22              22              22              22              22              21              21              21              21              21              21              21              21              21              21              20              20              20              20              20              20              20              19              19              19              19              19              18              18              18              18              18              18              18              18              18              18              18              18              18              17              17              17              17              17              17              17              17              17              17              17              17              17              17              17              17              17              17              16              16              16              16              16              16              16              16              16              16              16              16              16              16              16              16              15              15              15              15              15              15              15              15              14              14              14              14              14              14              14              14              14              14              14              14              14              14              14              13              13              13              13              13              13              13              13              13              13              13              13              13              13              12              12              12              12              12              12              12              12              12              12              12              12              12              12              12              12              12              12              12              12              12              12              12              12              12              12              12              12              12              12              12              12              12              12              12              12              11              11              11              11              11              11              11              11              11              11              11              11              11              11              11              11              11              11              11              11              11              11              11              11              11              11              11              11              11              11              11              11              11              11              11              11              11              11              11              11              11              10              10              10              10              10              10              10              10              10              10              10              10              10              10              10              10              10              10              10              10              10              10              10              10              10              10              10              10               9               9               9               9               9               9               9               9               9               9               9               9               9               9               9               9               9               9               9               9               9               9               9               9               9               9               9               9               9               9               9               9               9               9               9               9               9               9               9               9               9               9               9               9               8               8               8               8               8               8               8               8               8               8               8               8               8               8               8               8               8               8               8               8               8               8               8               8               8               8               8               8               8               8               8               8               8               8               8               8               8               8               8               8               8               8               8               8               8               8               8               8               8               8               8               8               8               8               8               8               7               7               7               7               7               7               7               7               7               7               7               7               7               7               7               7               7               7               7               7               7               7               7               7               7               7               7               7               7               7               7               7               7               7               7               7               7               7               7               7               7               7               7               7               7               7               7               7               7               7               7               7               7               7               7               7               7               7               7               7               7               7               7               6               6               6               6               6               6               6               6               6               6               6               6               6               6               6               6               6               6               6               6               6               6               6               6               6               6               6               6               6               6               6               6               6               6               6               6               6               6               6               6               6               6               6               6               6               6               6               6               6               6               6               6               6               6               6               6               6               6               6               6               6               6               6               6               6               6               6               6               6               6               6               5               5               5               5               5               5               5               5               5               5               5               5               5               5               5               5               5               5               5               5               5               5               5               5               5               5               5               5               5               5               5               5               5               5               5               5               5               5               5               5               5               5               5               5               5               5               5               5               5               5               5               5               5               5               5               5               5               5               5               5               5               5               5               5               5               5               5               5               5               5               5               5               5               5               5               5               5               5               5               5               5               5               5               5               5               5               5               5               5               5               5               5               5               5               5               5               5               5               5               5               5               5               5               5               5               5               5               5               4               4               4               4               4               4               4               4               4               4               4               4               4               4               4               4               4               4               4               4               4               4               4               4               4               4               4               4               4               4               4               4               4               4               4               4               4               4               4               4               4               4               4               4               4               4               4               4               4               4               4               4               4               4               4               4               4               4               4               4               4               4               4               4               4               4               4               4               4               4               4               4               4               4               4               4               4               4               4               4               4               4               4               4               4               4               4               4               4               4               4               4               4               4               4               4               4               4               4               4               4               4               4               4               4               4               4               4               4               4               4               4               4               4               4               4               4               4               4               4               4               4               4               4               4               4               4               4               4               4               4               4               4               4               4               4               4               4               4               3               3               3               3               3               3               3               3               3               3               3               3               3               3               3               3               3               3               3               3               3               3               3               3               3               3               3               3               3               3               3               3               3               3               3               3               3               3               3               3               3               3               3               3               3               3               3               3               3               3               3               3               3               3               3               3               3               3               3               3               3               3               3               3               3               3               3               3               3               3               3               3               3               3               3               3               3               3               3               3               3               3               3               3               3               3               3               3               3               3               3               3               3               3               3               3               3               3               3               3               3               3               3               3               3               3               3               3               3               3               3               3               3               3               3               3               3               3               3               3               3               3               3               3               3               3               3               3               3               3               3               3               3               3               3               3               3               3               3               3               3               3               3               3               3               3               3               3               3               3               3               3               3               3               3               3               3               3               3               3               3               3               3               3               3               3               3               3               3               3               3               3               3               3               3               3               3               3               3               3               3               3               3               3               3               3               3               3               3               3               3               3               3               3               3               3               3               3               3               3               3               3               3               3               3               3               3               3               3               3               3               3               3               3               3               3               3               3               3               3               3               3               3               3               3               3               3               3               3               3               3               3               3               3               3               3               3               3               2               2               2               2               2               2               2               2               2               2               2               2               2               2               2               2               2               2               2               2               2               2               2               2               2               2               2               2               2               2               2               2               2               2               2               2               2               2               2               2               2               2               2               2               2               2               2               2               2               2               2               2               2               2               2               2               2               2               2               2               2               2               2               2               2               2               2               2               2               2               2               2               2               2               2               2               2               2               2               2               2               2               2               2               2               2               2               2               2               2               2               2               2               2               2               2               2               2               2               2               2               2               2               2               2               2               2               2               2               2               2               2               2               2               2               2               2               2               2               2               2               2               2               2               2               2               2               2               2               2               2               2               2               2               2               2               2               2               2               2               2               2               2               2               2               2               2               2               2               2               2               2               2               2               2               2               2               2               2               2               2               2               2               2               2               2               2               2               2               2               2               2               2               2               2               2               2               2               2               2               2               2               2               2               2               2               2               2               2               2               2               2               2               2               2               2               2               2               2               2               2               2               2               2               2               2               2               2               2               2               2               2               2               2               2               2               2               2               2               2               2               2               2               2               2               2               2               2               2               2               2               2               2               2               2               2               2               2               2               2               2               2               2               2               2               2               2               2               2               2               2               2               2               2               2               2               2               2               2               2               2               2               2               2               2               2               2               2               2               2               2               2               2               2               2               2               2               2               2               2               2               2               2               2               2               2               2               2               2               2               2               2               2               2               2               2               2               2               2               2               2               2               2               2               2               2               2               2               2               2               2               2               2               2               2               2               2               2               2               2               2               2               2               2               2               2               2               2               2               2               2               2               2               2               2               2               2               2               2               2               2               2               2               2               2               2               2               2               2               2               2               2               2               2               2               2               2               2               2               2               2               2               2               2               2               2               2               2               2               2               2               2               2               2               2               2               2               2               2               2               2               2               2               2               2               2               2               2               2               2               2               2               2               2               2               2               2               2               2               2               2               2               2               2               2               2               2               2               2               2               2               2               2               2               2               2               2               2               2               2               2               2               1               1               1               1               1               1               1               1               1               1               1               1               1               1               1               1               1               1               1               1               1               1               1               1               1               1               1               1               1               1               1               1               1               1               1               1               1               1               1               1               1               1               1               1               1               1               1               1               1               1               1               1               1               1               1               1               1               1               1               1               1               1               1               1               1               1               1               1               1               1               1               1               1               1               1               1               1               1               1               1               1               1               1               1               1               1               1               1               1               1               1               1               1               1               1               1               1               1               1               1               1               1               1               1               1               1               1               1               1               1               1               1               1               1               1               1               1               1               1               1               1               1               1               1               1               1               1               1               1               1               1               1               1               1               1               1               1               1               1               1               1               1               1               1               1               1               1               1               1               1               1               1               1               1               1               1               1               1               1               1               1               1               1               1               1               1               1               1               1               1               1               1               1               1               1               1               1               1               1               1               1               1               1               1               1               1               1               1               1               1               1               1               1               1               1               1               1               1               1               1               1               1               1               1               1               1               1               1               1               1               1               1               1               1               1               1               1               1               1               1               1               1               1               1               1               1               1               1               1               1               1               1               1               1               1               1               1               1               1               1               1               1               1               1               1               1               1               1               1               1               1               1               1               1               1               1               1               1               1               1               1               1               1               1               1               1               1               1               1               1               1               1               1               1               1               1               1               1               1               1               1               1               1               1               1               1               1               1               1               1               1               1               1               1               1               1               1               1               1               1               1               1               1               1               1               1               1               1               1               1               1               1               1               1               1               1               1               1               1               1               1               1               1               1               1               1               1               1               1               1               1               1               1               1               1               1               1               1               1               1               1               1               1               1               1               1               1               1               1               1               1               1               1               1               1               1               1               1               1               1               1               1               1               1               1               1               1               1               1               1               1               1               1               1               1               1               1               1               1               1               1               1               1               1               1               1               1               1               1               1               1               1               1               1               1               1               1               1               1               1               1               1               1               1               1               1               1               1               1               1               1               1               1               1               1               1               1               1               1               1               1               1               1               1               1               1               1               1               1               1               1               1               1               1               1               1               1               1               1               1               1               1               1               1               1               1               1               1               1               1               1               1               1               1               1               1               1               1               1               1               1               1               1               1               1               1               1               1               1               1               1               1               1               1               1               1               1               1               1               1               1               1               1               1               1               1               1               1               1               1               1               1               1               1               1               1               1               1               1               1               1               1               1               1               1               1               1               1               1               1               1               1               1               1               1               1               1               1               1               1               1               1               1               1               1               1               1               1               1               1               1               1               1               1               1               1               1               1               1               1               1               1               1               1               1               1               1               1               1               1               1               1               1               1               1               1               1               1               1               1               1               1               1               1               1               1               1               1               1               1               1               1               1               1               1               1               1               1               1               1               1               1               1               1               1               1               1               1               1               1               1               1               1               1               1               1               1               1               1               1               1               1               1               1               1               1               1               1               1               1               1               1               1               1               1               1               1               1               1               1               1               1               1               1               1               1               1               1               1               1               1               1               1               1               1               1               1               1               1               1               1               1               1               1               1               1               1               1               1               1               1               1               1               1               1               1               1               1               1               1               1               1               1               1               1               1               1               1               1               1               1               1               1               1               1               1               1               1               1               1               1               1               1               1               1               1               1               1               1               1               1               1               1               1               1               1               1               1               1               1               1               1               1               1               1               1               1               1               1               1               1               1               1               1               1               1               1               1               1               1               1               1               1               1               1               1               1               1               1               1               1               1               1               1               1               1               1               1               1               1               1               1               1               1               1               1               1               1               1               1               1               1               1               1               1               1               1               1               1               1               1               1               1               1               1               1               1               1               1               1               1               1               1               1               1               1               1               1               1               1               1               1               1               1               1               1               1               1               1               1               1               1               1               1               1               1               1               1               1               1               1               1               1               1               1               1               1               1               1               1               1               1               1               1               1               1               1               1               1               1               1               1               1               1               1               1               1               1               1               1               1               1               1               1               1               1               1               1               1               1               1               1               1               1               1               1               1               1               1               1               1               1               1               1               1               1               1               1               1               1               1               1               1               1               1               1               1               1               1               1               1               1               1               1               1               1               1               1               1               1               1               1               1               1               1               1               1               1               1               1               1               1               1               1               1               1               1               1               1               1               1               1               1               1               1               1               1               1               1               1               1               1               1               1               1               1               1               1               1               1               1               1               1               1               1               1               1               1               1               1               1               1               1               1               1               1               1               1               1               1               1               1               1               1               1               1               1               1               1               1               1               1               1               1               1               1               1               1               1               1               1               1               1               1               1               1               1               1               1               1               1               1               1               1               1               1               1               1               1               1               1               1               1               1               1               1               1               1               1               1               1               1               1               1               1               1               1               1               1               1               1               1               1               1               1               1               1               1               1               1               1               1               1               1               1               1               1               1               1               1               1               1               1               1               1               1               1               1               1               1               1               1               1               1               1               1               1               1               1               1               1               1               1               1               1               1               1               1               1               1               1               1               1               1               1               1               1               1               1               1               1               1               1               1               1               1               1               1               1               1               1               1               1               1               1               1               1               1               1               1               1               1               1               1               1               1               1               1               1               1               1               1               1               1               1               1               1               1               1               1               1               1               1               1               1               1               1               1               1               1               1               1               1               1               1               1               1               1               1               1               1               1               1               1               1               1               1               1               1               1               1               1               1               1               1               1               1               1               1               1               1               1               1               1               1               1               1               1               1               1               1               1               1               1               1               1               1               1               1               1               1               1               1               1               1               1               1               1               1               1               1               1               1               1               1               1               1               1               1               1               1               1               1               1               1               1               1               1               1               1               1               1               1               1               1 \n"
     ]
    }
   ],
   "source": [
    "freq.tabulate()"
   ]
  },
  {
   "cell_type": "code",
   "execution_count": 28,
   "metadata": {},
   "outputs": [
    {
     "data": {
      "text/plain": [
       "44764"
      ]
     },
     "execution_count": 28,
     "metadata": {},
     "output_type": "execute_result"
    }
   ],
   "source": [
    "freq.N()"
   ]
  },
  {
   "cell_type": "code",
   "execution_count": 29,
   "metadata": {},
   "outputs": [
    {
     "data": {
      "text/plain": [
       "','"
      ]
     },
     "execution_count": 29,
     "metadata": {},
     "output_type": "execute_result"
    }
   ],
   "source": [
    "freq.max()"
   ]
  },
  {
   "cell_type": "code",
   "execution_count": 9,
   "metadata": {},
   "outputs": [
    {
     "data": {
      "text/plain": [
       "['In',\n",
       " 'the',\n",
       " 'beginning',\n",
       " 'God',\n",
       " 'created',\n",
       " 'the',\n",
       " 'heaven',\n",
       " 'and',\n",
       " 'the',\n",
       " 'earth',\n",
       " '.']"
      ]
     },
     "execution_count": 9,
     "metadata": {},
     "output_type": "execute_result"
    }
   ],
   "source": [
    "sent3"
   ]
  },
  {
   "cell_type": "code",
   "execution_count": 10,
   "metadata": {},
   "outputs": [
    {
     "data": {
      "text/plain": [
       "['beginning']"
      ]
     },
     "execution_count": 10,
     "metadata": {},
     "output_type": "execute_result"
    }
   ],
   "source": [
    "[i for i in sent3 if len(i) > 8]"
   ]
  },
  {
   "cell_type": "code",
   "execution_count": 4,
   "metadata": {},
   "outputs": [
    {
     "data": {
      "text/plain": [
       "['In', 'the', 'God', 'created', 'the', 'heaven', 'and', 'the', 'earth', '.']"
      ]
     },
     "execution_count": 4,
     "metadata": {},
     "output_type": "execute_result"
    }
   ],
   "source": [
    "[i for i in sent3 if len(i) < 8]"
   ]
  },
  {
   "cell_type": "code",
   "execution_count": 11,
   "metadata": {},
   "outputs": [
    {
     "data": {
      "text/plain": [
       "['In', 'beginning', 'created', 'heaven', 'earth', '.']"
      ]
     },
     "execution_count": 11,
     "metadata": {},
     "output_type": "execute_result"
    }
   ],
   "source": [
    "[i for i in sent3 if len(i) != 3]"
   ]
  },
  {
   "cell_type": "code",
   "execution_count": 12,
   "metadata": {},
   "outputs": [
    {
     "data": {
      "text/plain": [
       "['In', 'the', 'God', 'the', 'and', 'the', '.']"
      ]
     },
     "execution_count": 12,
     "metadata": {},
     "output_type": "execute_result"
    }
   ],
   "source": [
    "[i for i in sent3 if len(i) <= 3]"
   ]
  },
  {
   "cell_type": "code",
   "execution_count": 5,
   "metadata": {},
   "outputs": [
    {
     "name": "stdout",
     "output_type": "stream",
     "text": [
      "['heaven']\n",
      "1\n"
     ]
    }
   ],
   "source": [
    "l = []\n",
    "for i in sent3:\n",
    "    if((len(i)) == 6):\n",
    "        l.append(i)\n",
    "print(l)\n",
    "print(len(l))"
   ]
  },
  {
   "cell_type": "code",
   "execution_count": 7,
   "metadata": {},
   "outputs": [
    {
     "name": "stdout",
     "output_type": "stream",
     "text": [
      "['In', 'the', 'beginning', 'God', 'created', 'the', 'and', 'the', 'earth', '.']\n",
      "10\n"
     ]
    }
   ],
   "source": [
    "l = []\n",
    "for s in sent3:\n",
    "    if((len(s)) != 6):\n",
    "        l.append(s)\n",
    "print(l)\n",
    "print(len(l))"
   ]
  },
  {
   "cell_type": "code",
   "execution_count": 13,
   "metadata": {},
   "outputs": [
    {
     "data": {
      "text/plain": [
       "['earth']"
      ]
     },
     "execution_count": 13,
     "metadata": {},
     "output_type": "execute_result"
    }
   ],
   "source": [
    "[i for i in sent3 if i.startswith('ea')]"
   ]
  },
  {
   "cell_type": "code",
   "execution_count": 37,
   "metadata": {},
   "outputs": [],
   "source": [
    "#[i for i in text3 if i.endswith('ing')]"
   ]
  },
  {
   "cell_type": "code",
   "execution_count": 5,
   "metadata": {},
   "outputs": [
    {
     "data": {
      "text/plain": [
       "['beginning',\n",
       " 'evening',\n",
       " 'morning',\n",
       " 'evening',\n",
       " 'morning',\n",
       " 'gathering',\n",
       " 'bring',\n",
       " 'yielding',\n",
       " 'yielding',\n",
       " 'yielding',\n",
       " 'yielding',\n",
       " 'evening',\n",
       " 'morning',\n",
       " 'evening',\n",
       " 'morning',\n",
       " 'bring',\n",
       " 'moving',\n",
       " 'living',\n",
       " 'saying',\n",
       " 'evening',\n",
       " 'morning',\n",
       " 'bring',\n",
       " 'living',\n",
       " 'creeping',\n",
       " 'thing',\n",
       " 'thing',\n",
       " 'creeping',\n",
       " 'thing',\n",
       " 'living',\n",
       " 'thing',\n",
       " 'bearing',\n",
       " 'yielding',\n",
       " 'thing',\n",
       " 'thing',\n",
       " 'evening',\n",
       " 'morning',\n",
       " 'living',\n",
       " 'saying',\n",
       " 'living',\n",
       " 'knowing',\n",
       " 'walking',\n",
       " 'bring',\n",
       " 'saying',\n",
       " 'bring',\n",
       " 'living',\n",
       " 'flaming',\n",
       " 'offering',\n",
       " 'offering',\n",
       " 'finding',\n",
       " 'wounding',\n",
       " 'saying',\n",
       " 'concerning',\n",
       " 'creeping',\n",
       " 'thing',\n",
       " 'bring',\n",
       " 'thing',\n",
       " 'living',\n",
       " 'thing',\n",
       " 'bring',\n",
       " 'creeping',\n",
       " 'thing',\n",
       " 'according',\n",
       " 'living',\n",
       " 'according',\n",
       " 'thing',\n",
       " 'creeping',\n",
       " 'thing',\n",
       " 'creeping',\n",
       " 'thing',\n",
       " 'living',\n",
       " 'creeping',\n",
       " 'living',\n",
       " 'thing',\n",
       " 'evening',\n",
       " 'covering',\n",
       " 'saying',\n",
       " 'Bring',\n",
       " 'living',\n",
       " 'thing',\n",
       " 'creeping',\n",
       " 'thing',\n",
       " 'creeping',\n",
       " 'thing',\n",
       " 'thing',\n",
       " 'living',\n",
       " 'moving',\n",
       " 'thing',\n",
       " 'bring',\n",
       " 'saying',\n",
       " 'living',\n",
       " 'living',\n",
       " 'bring',\n",
       " 'living',\n",
       " 'everlasting',\n",
       " 'living',\n",
       " 'beginning',\n",
       " 'dwelling',\n",
       " 'nothing',\n",
       " 'having',\n",
       " 'going',\n",
       " 'concerning',\n",
       " 'beginning',\n",
       " 'king',\n",
       " 'king',\n",
       " 'king',\n",
       " 'king',\n",
       " 'king',\n",
       " 'king',\n",
       " 'king',\n",
       " 'king',\n",
       " 'king',\n",
       " 'king',\n",
       " 'king',\n",
       " 'king',\n",
       " 'king',\n",
       " 'king',\n",
       " 'king',\n",
       " 'king',\n",
       " 'king',\n",
       " 'king',\n",
       " 'king',\n",
       " 'king',\n",
       " 'king',\n",
       " 'king',\n",
       " 'king',\n",
       " 'thing',\n",
       " 'saying',\n",
       " 'exceeding',\n",
       " 'seeing',\n",
       " 'saying',\n",
       " 'going',\n",
       " 'smoking',\n",
       " 'burning',\n",
       " 'saying',\n",
       " 'saying',\n",
       " 'exceeding',\n",
       " 'everlasting',\n",
       " 'everlasting',\n",
       " 'everlasting',\n",
       " 'everlasting',\n",
       " 'talking',\n",
       " 'according',\n",
       " 'saying',\n",
       " 'being',\n",
       " 'saying',\n",
       " 'thing',\n",
       " 'according',\n",
       " 'saying',\n",
       " 'bring',\n",
       " 'thing',\n",
       " 'Seeing',\n",
       " 'bring',\n",
       " 'according',\n",
       " 'communing',\n",
       " 'seeing',\n",
       " 'bring',\n",
       " 'bring',\n",
       " 'nothing',\n",
       " 'bring',\n",
       " 'morning',\n",
       " 'saying',\n",
       " 'being',\n",
       " 'saving',\n",
       " 'concerning',\n",
       " 'thing',\n",
       " 'anything',\n",
       " 'morning',\n",
       " 'king',\n",
       " 'sinning',\n",
       " 'morning',\n",
       " 'thing',\n",
       " 'covering',\n",
       " 'being',\n",
       " 'mocking',\n",
       " 'thing',\n",
       " 'morning',\n",
       " 'putting',\n",
       " 'saying',\n",
       " 'according',\n",
       " 'thing',\n",
       " 'everlasting',\n",
       " 'offering',\n",
       " 'morning',\n",
       " 'offering',\n",
       " 'offering',\n",
       " 'offering',\n",
       " 'thing',\n",
       " 'seeing',\n",
       " 'offering',\n",
       " 'thing',\n",
       " 'blessing',\n",
       " 'multiplying',\n",
       " 'saying',\n",
       " 'saying',\n",
       " 'saying',\n",
       " 'saying',\n",
       " 'saying',\n",
       " 'saying',\n",
       " 'saying',\n",
       " 'willing',\n",
       " 'bring',\n",
       " 'bring',\n",
       " 'saying',\n",
       " 'willing',\n",
       " 'bring',\n",
       " 'concerning',\n",
       " 'evening',\n",
       " 'speaking',\n",
       " 'giving',\n",
       " 'drinking',\n",
       " 'wondering',\n",
       " 'drinking',\n",
       " 'earring',\n",
       " 'being',\n",
       " 'earring',\n",
       " 'saying',\n",
       " 'saying',\n",
       " 'speaking',\n",
       " 'earring',\n",
       " 'thing',\n",
       " 'bowing',\n",
       " 'morning',\n",
       " 'seeing',\n",
       " 'coming',\n",
       " 'according',\n",
       " 'according',\n",
       " 'cunning',\n",
       " 'dwelling',\n",
       " 'king',\n",
       " 'king',\n",
       " 'sporting',\n",
       " 'saying',\n",
       " 'springing',\n",
       " 'saying',\n",
       " 'seeing',\n",
       " 'nothing',\n",
       " 'morning',\n",
       " 'concerning',\n",
       " 'bring',\n",
       " 'bring',\n",
       " 'saying',\n",
       " 'saying',\n",
       " 'Bring',\n",
       " 'according',\n",
       " 'bring',\n",
       " 'bring',\n",
       " 'blessing',\n",
       " 'according',\n",
       " 'Bring',\n",
       " 'blessing',\n",
       " 'hunting',\n",
       " 'exceeding',\n",
       " 'blessing',\n",
       " 'blessing',\n",
       " 'blessing',\n",
       " 'blessing',\n",
       " 'dwelling',\n",
       " 'blessing',\n",
       " 'mourning',\n",
       " 'touching',\n",
       " 'purposing',\n",
       " 'blessing',\n",
       " 'saying',\n",
       " 'seeing',\n",
       " 'ascending',\n",
       " 'descending',\n",
       " 'bring',\n",
       " 'morning',\n",
       " 'saying',\n",
       " 'lying',\n",
       " 'evening',\n",
       " 'morning',\n",
       " 'bearing',\n",
       " 'bearing',\n",
       " 'evening',\n",
       " 'thing',\n",
       " 'removing',\n",
       " 'according',\n",
       " 'watering',\n",
       " 'saying',\n",
       " 'saying',\n",
       " 'getting',\n",
       " 'doing',\n",
       " 'saying',\n",
       " 'morning',\n",
       " 'saying',\n",
       " 'saying',\n",
       " 'saying',\n",
       " 'saying',\n",
       " 'saying',\n",
       " 'breaking',\n",
       " 'blessing',\n",
       " 'according',\n",
       " 'saying',\n",
       " 'lying',\n",
       " 'thing',\n",
       " 'saying',\n",
       " 'according',\n",
       " 'thing',\n",
       " 'thing',\n",
       " 'saying',\n",
       " 'being',\n",
       " 'offering',\n",
       " 'departing',\n",
       " 'being',\n",
       " 'king',\n",
       " 'according',\n",
       " 'according',\n",
       " 'being',\n",
       " 'feeding',\n",
       " 'binding',\n",
       " 'saying',\n",
       " 'bring',\n",
       " 'wandering',\n",
       " 'saying',\n",
       " 'bearing',\n",
       " 'going',\n",
       " 'mourning',\n",
       " 'thing',\n",
       " 'saying',\n",
       " 'saying',\n",
       " 'saying',\n",
       " 'Bring',\n",
       " 'saying',\n",
       " 'saying',\n",
       " 'blessing',\n",
       " 'thing',\n",
       " 'saying',\n",
       " 'saying',\n",
       " 'according',\n",
       " 'saying',\n",
       " 'saying',\n",
       " 'king',\n",
       " 'thing',\n",
       " 'king',\n",
       " 'king',\n",
       " 'according',\n",
       " 'king',\n",
       " 'morning',\n",
       " 'saying',\n",
       " 'bring',\n",
       " 'nothing',\n",
       " 'morning',\n",
       " 'saying',\n",
       " 'according',\n",
       " 'according',\n",
       " 'saying',\n",
       " 'beginning',\n",
       " 'thing',\n",
       " 'following',\n",
       " 'thing',\n",
       " 'bring',\n",
       " 'thing',\n",
       " 'according',\n",
       " 'ring',\n",
       " 'king',\n",
       " 'numbering',\n",
       " 'according',\n",
       " 'saying',\n",
       " 'bring',\n",
       " 'concerning',\n",
       " 'saying',\n",
       " 'saying',\n",
       " 'saying',\n",
       " 'saying',\n",
       " 'bring',\n",
       " 'saying',\n",
       " 'bring',\n",
       " 'bring',\n",
       " 'bring',\n",
       " 'saying',\n",
       " 'saying',\n",
       " 'saying',\n",
       " 'according',\n",
       " 'Bring',\n",
       " 'bring',\n",
       " 'Bring',\n",
       " 'according',\n",
       " 'according',\n",
       " 'saying',\n",
       " 'according',\n",
       " 'morning',\n",
       " 'doing',\n",
       " 'according',\n",
       " 'according',\n",
       " 'saying',\n",
       " 'Bring',\n",
       " 'bring',\n",
       " 'seeing',\n",
       " 'bring',\n",
       " 'saying',\n",
       " 'bring',\n",
       " 'earing',\n",
       " 'bring',\n",
       " 'saying',\n",
       " 'bring',\n",
       " 'according',\n",
       " 'saying',\n",
       " 'bring',\n",
       " 'saying',\n",
       " 'according',\n",
       " 'everlasting',\n",
       " 'Bring',\n",
       " 'guiding',\n",
       " 'saying',\n",
       " 'saying',\n",
       " 'bring',\n",
       " 'beginning',\n",
       " 'gathering',\n",
       " 'Binding',\n",
       " 'couching',\n",
       " 'everlasting',\n",
       " 'morning',\n",
       " 'according',\n",
       " 'blessing',\n",
       " 'commanding',\n",
       " 'mourning',\n",
       " 'saying',\n",
       " 'saying',\n",
       " 'saying',\n",
       " 'according',\n",
       " 'mourning',\n",
       " 'mourning',\n",
       " 'mourning',\n",
       " 'according',\n",
       " 'saying',\n",
       " 'saying',\n",
       " 'bring',\n",
       " 'bring',\n",
       " 'saying',\n",
       " 'being']"
      ]
     },
     "execution_count": 5,
     "metadata": {},
     "output_type": "execute_result"
    }
   ],
   "source": [
    "[i for i in text3 if i.endswith('ing')]"
   ]
  },
  {
   "cell_type": "code",
   "execution_count": 38,
   "metadata": {},
   "outputs": [
    {
     "data": {
      "text/plain": [
       "[]"
      ]
     },
     "execution_count": 38,
     "metadata": {},
     "output_type": "execute_result"
    }
   ],
   "source": [
    "[i for i in text3 if i.isdigit()]"
   ]
  },
  {
   "cell_type": "code",
   "execution_count": 39,
   "metadata": {},
   "outputs": [],
   "source": [
    "#[i for i in text3 if i.islower()]"
   ]
  },
  {
   "cell_type": "code",
   "execution_count": 40,
   "metadata": {},
   "outputs": [
    {
     "data": {
      "text/plain": [
       "['the', 'beginning', 'created', 'the', 'heaven', 'and', 'the', 'earth']"
      ]
     },
     "execution_count": 40,
     "metadata": {},
     "output_type": "execute_result"
    }
   ],
   "source": [
    "[i for i in sent3 if i.islower()]"
   ]
  },
  {
   "cell_type": "code",
   "execution_count": 41,
   "metadata": {},
   "outputs": [
    {
     "data": {
      "text/plain": [
       "['and', 'beginning', 'created', 'earth', 'heaven', 'the', 'the', 'the']"
      ]
     },
     "execution_count": 41,
     "metadata": {},
     "output_type": "execute_result"
    }
   ],
   "source": [
    "sorted(i for i in sent3 if i.islower())"
   ]
  },
  {
   "cell_type": "code",
   "execution_count": 42,
   "metadata": {},
   "outputs": [
    {
     "name": "stdout",
     "output_type": "stream",
     "text": [
      "['beginning', 'firmament', 'gathering', 'abundantly', 'replenish', 'sanctified', 'generations', 'knowledge', 'compasseth', 'Euphrates', 'commanded', 'whatsoever', 'Therefore', 'themselves', 'shouldest', 'conception', 'hearkened', 'Cherubims', 'conceived', 'firstlings', 'countenance', 'henceforth', 'punishment', 'whosoever', 'vengeance', 'sevenfold', 'Methusael', 'Tubalcain', 'instructor', 'artificer', 'appointed', 'daughters', 'Mahalaleel', 'Methuselah', 'concerning', 'wickedness', 'imagination', 'continually', 'repenteth', 'corrupted', 'establish', 'according', 'righteous', 'generation', 'substance', 'hundredth', 'seventeenth', 'fountains', 'increased', 'prevailed', 'exceedingly', 'mountains', 'destroyed', 'remembered', 'restrained', 'decreased', 'twentieth', 'offerings', 'remaineth', 'delivered', 'perpetual', 'generatio', 'everlasting', 'established', 'overspread', 'husbandman', 'uncovered', 'nakedness', 'shoulders', 'wherefore', 'Naphtuhim', 'Pathrusim', 'Philistim', 'Caphtorim', 'Girgasite', 'Hamathite', 'afterward', 'Canaanites', 'countries', 'Hazarmaveth', 'journeyed', 'thoroughly', 'scattered', 'understand', 'Canaanite', 'Egyptians', 'commended', 'entreated', 'menservants', 'maidservants', 'therefore', 'Perizzite', 'separated', 'northward', 'southward', 'Chedorlaomer', 'thirteenth', 'fourteenth', 'Ashteroth', 'Kiriathaim', 'wilderness', 'Enmishpat', 'Amalekites', 'Hazezontamar', 'slimepits', 'confederate', 'slaughter', 'Melchizedek', 'possessor', 'shoelatchet', 'exceeding', 'childless', 'righteousness', 'turtledove', 'Kenizzites', 'Kadmonites', 'Perizzites', 'Girgashites', 'Jebusites', 'multitude', 'affliction', 'Wherefore', 'Beerlahairoi', 'fourscore', 'possession', 'circumcised', 'circumcise', 'circumcis', 'uncircumcised', 'yourselves', 'certainly', 'household', 'altogether', 'Peradventure', 'communing', 'unleavened', 'compassed', 'blindness', 'magnified', 'overthrow', 'brimstone', 'overthrew', 'inhabitants', 'firstborn', 'perceived', 'yesternight', 'sojourned', 'Abimelech', 'integrity', 'innocency', 'womenservants', 'bondwoman', 'Beersheba', 'violently', 'Philistines', 'stretched', 'Jehovahjireh', 'multiplying', 'concubine', 'Kirjatharba', 'sojourner', 'buryingplace', 'sepulchres', 'sepulchre', 'Machpelah', 'Mesopotamia', 'wondering', 'prosperous', 'bracelets', 'provender', 'worshipped', 'destitute', 'proceedeth', 'prospered', 'thousands', 'comforted', 'concubines', 'threescore', 'purchased', 'Padanaram', 'intreated', 'struggled', 'fulfilled', 'birthright', 'commandments', 'guiltiness', 'hundredfo', 'springing', 'Bashemath', 'peradventure', 'discerned', 'supplanted', 'sustained', 'wherewith', 'purposing', 'ascending', 'descending', 'beautiful', 'wrestlings', 'mandrakes', 'afterwards', 'experience', 'ringstraked', 'whensoever', 'anointedst', 'inheritance', 'strangers', 'foolishly', 'whomsoever', 'furniture', 'displease', 'Jegarsahadutha', 'sacrifice', 'messengers', 'womenservan', 'distressed', 'preserved', 'handmaids', 'hindermost', 'graciously', 'handmaidens', 'overdrive', 'EleloheIsrael', 'marriages', 'possessions', 'deceitfully', 'honourable', 'peaceable', 'Allonbachuth', 'travailed', 'departing', 'Bethlehem', 'Aholibamah', 'inhabited', 'Baalhanan', 'Mehetabel', 'habitations', 'seventeen', 'peaceably', 'obeisance', 'ourselves', 'wandering', 'conspired', 'Ishmeelites', 'Midianites', 'merchantmen', 'sackcloth', 'Adullamite', 'displeased', 'sheepshearers', 'widowhood', 'acknowledged', 'committed', 'prisoners', 'continued', 'interpretation', 'interpreter', 'interpretations', 'uppermost', 'bakemeats', 'butlership', 'interpreted', 'fatfleshed', 'leanfleshed', 'magicians', 'interpret', 'throughout', 'forgotten', 'following', 'plenteous', 'Forasmuch', 'Zaphnathpaaneah', 'Potipherah', 'numbering', 'plenteousness', 'storehouses', 'understood', 'provision', 'households', 'refrained', 'abomination', 'marvelled', 'blameless', 'posterity', 'deliverance', 'commandment', 'sacrifices', 'Canaanitish', 'presented', 'shepherds', 'occupation', 'pilgrimage', 'nourished', 'multiplied', 'strengthened', 'begettest', 'wittingly', 'excellency', 'defiledst', 'instruments', 'salvation', 'blessings', 'progenitors', 'commanding', 'physicians', 'threshingfloor', 'lamentati', 'Abelmizraim', 'messenger']\n",
      "============================================================================================\n",
      "['Abelmizraim', 'Abimelech', 'Adullamite', 'Aholibamah', 'Allonbachuth', 'Amalekites', 'Ashteroth', 'Baalhanan', 'Bashemath', 'Beerlahairoi', 'Beersheba', 'Bethlehem', 'Canaanite', 'Canaanites', 'Canaanitish', 'Caphtorim', 'Chedorlaomer', 'Cherubims', 'Egyptians', 'EleloheIsrael', 'Enmishpat', 'Euphrates', 'Forasmuch', 'Girgashites', 'Girgasite', 'Hamathite', 'Hazarmaveth', 'Hazezontamar', 'Ishmeelites', 'Jebusites', 'Jegarsahadutha', 'Jehovahjireh', 'Kadmonites', 'Kenizzites', 'Kiriathaim', 'Kirjatharba', 'Machpelah', 'Mahalaleel', 'Mehetabel', 'Melchizedek', 'Mesopotamia', 'Methusael', 'Methuselah', 'Midianites', 'Naphtuhim', 'Padanaram', 'Pathrusim', 'Peradventure', 'Perizzite', 'Perizzites', 'Philistim', 'Philistines', 'Potipherah', 'Therefore', 'Tubalcain', 'Wherefore', 'Zaphnathpaaneah', 'abomination', 'abundantly', 'according', 'acknowledged', 'affliction', 'afterward', 'afterwards', 'altogether', 'anointedst', 'appointed', 'artificer', 'ascending', 'bakemeats', 'beautiful', 'begettest', 'beginning', 'birthright', 'blameless', 'blessings', 'blindness', 'bondwoman', 'bracelets', 'brimstone', 'buryingplace', 'butlership', 'certainly', 'childless', 'circumcis', 'circumcise', 'circumcised', 'comforted', 'commanded', 'commanding', 'commandment', 'commandments', 'commended', 'committed', 'communing', 'compassed', 'compasseth', 'conceived', 'conception', 'concerning', 'concubine', 'concubines', 'confederate', 'conspired', 'continually', 'continued', 'corrupted', 'countenance', 'countries', 'daughters', 'deceitfully', 'decreased', 'defiledst', 'deliverance', 'delivered', 'departing', 'descending', 'destitute', 'destroyed', 'discerned', 'displease', 'displeased', 'distressed', 'entreated', 'establish', 'established', 'everlasting', 'exceeding', 'exceedingly', 'excellency', 'experience', 'fatfleshed', 'firmament', 'firstborn', 'firstlings', 'following', 'foolishly', 'forgotten', 'fountains', 'fourscore', 'fourteenth', 'fulfilled', 'furniture', 'gathering', 'generatio', 'generation', 'generations', 'graciously', 'guiltiness', 'habitations', 'handmaidens', 'handmaids', 'hearkened', 'henceforth', 'hindermost', 'honourable', 'household', 'households', 'hundredfo', 'hundredth', 'husbandman', 'imagination', 'increased', 'inhabitants', 'inhabited', 'inheritance', 'innocency', 'instructor', 'instruments', 'integrity', 'interpret', 'interpretation', 'interpretations', 'interpreted', 'interpreter', 'intreated', 'journeyed', 'knowledge', 'lamentati', 'leanfleshed', 'magicians', 'magnified', 'maidservants', 'mandrakes', 'marriages', 'marvelled', 'menservants', 'merchantmen', 'messenger', 'messengers', 'mountains', 'multiplied', 'multiplying', 'multitude', 'nakedness', 'northward', 'nourished', 'numbering', 'obeisance', 'occupation', 'offerings', 'ourselves', 'overdrive', 'overspread', 'overthrew', 'overthrow', 'peaceable', 'peaceably', 'peradventure', 'perceived', 'perpetual', 'physicians', 'pilgrimage', 'plenteous', 'plenteousness', 'possession', 'possessions', 'possessor', 'posterity', 'presented', 'preserved', 'prevailed', 'prisoners', 'proceedeth', 'progenitors', 'prospered', 'prosperous', 'provender', 'provision', 'punishment', 'purchased', 'purposing', 'refrained', 'remaineth', 'remembered', 'repenteth', 'replenish', 'restrained', 'righteous', 'righteousness', 'ringstraked', 'sackcloth', 'sacrifice', 'sacrifices', 'salvation', 'sanctified', 'scattered', 'separated', 'sepulchre', 'sepulchres', 'sevenfold', 'seventeen', 'seventeenth', 'sheepshearers', 'shepherds', 'shoelatchet', 'shoulders', 'shouldest', 'slaughter', 'slimepits', 'sojourned', 'sojourner', 'southward', 'springing', 'storehouses', 'strangers', 'strengthened', 'stretched', 'struggled', 'substance', 'supplanted', 'sustained', 'themselves', 'therefore', 'thirteenth', 'thoroughly', 'thousands', 'threescore', 'threshingfloor', 'throughout', 'travailed', 'turtledove', 'twentieth', 'uncircumcised', 'uncovered', 'understand', 'understood', 'unleavened', 'uppermost', 'vengeance', 'violently', 'wandering', 'whatsoever', 'whensoever', 'wherefore', 'wherewith', 'whomsoever', 'whosoever', 'wickedness', 'widowhood', 'wilderness', 'wittingly', 'womenservan', 'womenservants', 'wondering', 'worshipped', 'wrestlings', 'yesternight', 'yourselves']\n"
     ]
    }
   ],
   "source": [
    "l = []\n",
    "for i in text3:\n",
    "    if(len(i) > 8):\n",
    "        if(i not in l):\n",
    "            l.append(i)\n",
    "            \n",
    "print(l)\n",
    "print('============================================================================================')\n",
    "print(sorted(l))"
   ]
  },
  {
   "cell_type": "code",
   "execution_count": 43,
   "metadata": {},
   "outputs": [
    {
     "data": {
      "text/plain": [
       "FreqDist({'beginning': 1, 'firmament': 1, 'gathering': 1, 'abundantly': 1, 'replenish': 1, 'sanctified': 1, 'generations': 1, 'knowledge': 1, 'compasseth': 1, 'Euphrates': 1, ...})"
      ]
     },
     "execution_count": 43,
     "metadata": {},
     "output_type": "execute_result"
    }
   ],
   "source": [
    "num = FreqDist(l)\n",
    "num"
   ]
  },
  {
   "cell_type": "code",
   "execution_count": 44,
   "metadata": {},
   "outputs": [
    {
     "data": {
      "image/png": "[encoded data removed]",
      "text/plain": [
       "<Figure size 432x288 with 1 Axes>"
      ]
     },
     "metadata": {
      "needs_background": "light"
     },
     "output_type": "display_data"
    },
    {
     "data": {
      "text/plain": [
       "<matplotlib.axes._subplots.AxesSubplot at 0x26c2eafb198>"
      ]
     },
     "execution_count": 44,
     "metadata": {},
     "output_type": "execute_result"
    }
   ],
   "source": [
    "num.plot(50)"
   ]
  },
  {
   "cell_type": "code",
   "execution_count": 45,
   "metadata": {},
   "outputs": [
    {
     "data": {
      "text/plain": [
       "[('more', 'done'),\n",
       " ('done', 'is'),\n",
       " ('is', 'go'),\n",
       " ('go', 'gone'),\n",
       " ('gone', 'morning'),\n",
       " ('morning', 'good'),\n",
       " ('good', 'night'),\n",
       " ('night', 'than')]"
      ]
     },
     "execution_count": 45,
     "metadata": {},
     "output_type": "execute_result"
    }
   ],
   "source": [
    "list(bigrams(['more', 'done', 'is', 'go', 'gone', 'morning', 'good', 'night', 'than']))"
   ]
  },
  {
   "cell_type": "markdown",
   "metadata": {},
   "source": [
    "### Give the count of words which are lower case in Text3"
   ]
  },
  {
   "cell_type": "code",
   "execution_count": 46,
   "metadata": {},
   "outputs": [
    {
     "data": {
      "text/plain": [
       "2628"
      ]
     },
     "execution_count": 46,
     "metadata": {},
     "output_type": "execute_result"
    }
   ],
   "source": [
    "len(set(word.lower() for word in text3))"
   ]
  },
  {
   "cell_type": "code",
   "execution_count": 47,
   "metadata": {},
   "outputs": [
    {
     "data": {
      "text/plain": [
       "2615"
      ]
     },
     "execution_count": 47,
     "metadata": {},
     "output_type": "execute_result"
    }
   ],
   "source": [
    "len(set(word.lower() for word in text3 if word.isalpha()))"
   ]
  },
  {
   "cell_type": "code",
   "execution_count": 57,
   "metadata": {
    "scrolled": false
   },
   "outputs": [
    {
     "data": {
      "text/plain": [
       "2628"
      ]
     },
     "execution_count": 57,
     "metadata": {},
     "output_type": "execute_result"
    }
   ],
   "source": [
    "len(sorted(set(w.lower() for w in text3)))"
   ]
  },
  {
   "cell_type": "code",
   "execution_count": 56,
   "metadata": {},
   "outputs": [
    {
     "data": {
      "text/plain": [
       "2789"
      ]
     },
     "execution_count": 56,
     "metadata": {},
     "output_type": "execute_result"
    }
   ],
   "source": [
    "len(sorted(w.lower() for w in set(text3)))"
   ]
  },
  {
   "cell_type": "code",
   "execution_count": 52,
   "metadata": {},
   "outputs": [
    {
     "data": {
      "text/plain": [
       "{1, 2}"
      ]
     },
     "execution_count": 52,
     "metadata": {},
     "output_type": "execute_result"
    }
   ],
   "source": [
    "demo_set = {1, 1, 1, 2, 2}\n",
    "demo_set"
   ]
  },
  {
   "cell_type": "code",
   "execution_count": 53,
   "metadata": {},
   "outputs": [
    {
     "data": {
      "text/plain": [
       "{1, 2}"
      ]
     },
     "execution_count": 53,
     "metadata": {},
     "output_type": "execute_result"
    }
   ],
   "source": [
    "l = [1, 1, 1, 2, 2]\n",
    "set(l)"
   ]
  },
  {
   "cell_type": "code",
   "execution_count": 58,
   "metadata": {},
   "outputs": [
    {
     "data": {
      "text/plain": [
       "2789"
      ]
     },
     "execution_count": 58,
     "metadata": {},
     "output_type": "execute_result"
    }
   ],
   "source": [
    "len(sorted(set(text3)))"
   ]
  },
  {
   "cell_type": "code",
   "execution_count": 1,
   "metadata": {},
   "outputs": [],
   "source": [
    "text_demo = 'HARhar'"
   ]
  },
  {
   "cell_type": "code",
   "execution_count": 2,
   "metadata": {},
   "outputs": [
    {
     "data": {
      "text/plain": [
       "['r', 'a', 'h', 'h', 'a', 'r']"
      ]
     },
     "execution_count": 2,
     "metadata": {},
     "output_type": "execute_result"
    }
   ],
   "source": [
    "[w.lower() for w in set(text_demo)]"
   ]
  },
  {
   "cell_type": "code",
   "execution_count": 3,
   "metadata": {},
   "outputs": [
    {
     "data": {
      "text/plain": [
       "{'a', 'h', 'r'}"
      ]
     },
     "execution_count": 3,
     "metadata": {},
     "output_type": "execute_result"
    }
   ],
   "source": [
    "set(w.lower() for w in text_demo)"
   ]
  },
  {
   "cell_type": "markdown",
   "metadata": {},
   "source": [
    " after"
   ]
  },
  {
   "cell_type": "code",
   "execution_count": 6,
   "metadata": {},
   "outputs": [],
   "source": [
    "test_demo = 'NisHAnis'"
   ]
  },
  {
   "cell_type": "code",
   "execution_count": 7,
   "metadata": {},
   "outputs": [
    {
     "data": {
      "text/plain": [
       "['a', 'i', 's', 'n', 'h', 'n']"
      ]
     },
     "execution_count": 7,
     "metadata": {},
     "output_type": "execute_result"
    }
   ],
   "source": [
    "[w.lower() for w in set(test_demo)]"
   ]
  },
  {
   "cell_type": "code",
   "execution_count": 6,
   "metadata": {},
   "outputs": [
    {
     "data": {
      "text/plain": [
       "{'a', 'h', 'i', 'n', 's'}"
      ]
     },
     "execution_count": 6,
     "metadata": {},
     "output_type": "execute_result"
    }
   ],
   "source": [
    "set([w.lower() for w in test_demo])"
   ]
  },
  {
   "cell_type": "code",
   "execution_count": null,
   "metadata": {},
   "outputs": [],
   "source": []
  }
 ],
 "metadata": {
  "kernelspec": {
   "display_name": "Python 3 (ipykernel)",
   "language": "python",
   "name": "python3"
  },
  "language_info": {
   "codemirror_mode": {
    "name": "ipython",
    "version": 3
   },
   "file_extension": ".py",
   "mimetype": "text/x-python",
   "name": "python",
   "nbconvert_exporter": "python",
   "pygments_lexer": "ipython3",
   "version": "3.9.13"
  }
 },
 "nbformat": 4,
 "nbformat_minor": 2
}
