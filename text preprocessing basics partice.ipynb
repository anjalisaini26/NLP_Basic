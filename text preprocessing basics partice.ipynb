{
 "cells": [
  {
   "cell_type": "markdown",
   "id": "5de2ef0d",
   "metadata": {},
   "source": [
    "# Step1 : Conversion of input string to lowercase"
   ]
  },
  {
   "cell_type": "code",
   "execution_count": 2,
   "id": "d34cf075",
   "metadata": {},
   "outputs": [
    {
     "name": "stdout",
     "output_type": "stream",
     "text": [
      "Input String in Lowercase: \n",
      "================================\n",
      "hello 102 ? students90 ., this is 50 < your first > practical = _ session 2001 () on $  786 ' text mining\n"
     ]
    }
   ],
   "source": [
    "input_string = \"Hello 102 ? Students90 ., This is 50 < YOUR First > PRACTICAL = _ SessION 2001 () on $  786 ' TEXT MinINg\"\n",
    "result1 = input_string.lower()\n",
    "print(\"Input String in Lowercase: \")\n",
    "print(\"================================\")\n",
    "print(result1)"
   ]
  },
  {
   "cell_type": "markdown",
   "id": "7dea58cd",
   "metadata": {},
   "source": [
    "#simple example"
   ]
  },
  {
   "cell_type": "markdown",
   "id": "8e75d839",
   "metadata": {},
   "source": [
    "#newvariable = ov.lower()  "
   ]
  },
  {
   "cell_type": "code",
   "execution_count": 21,
   "id": "eb49556a",
   "metadata": {},
   "outputs": [
    {
     "name": "stdout",
     "output_type": "stream",
     "text": [
      "  hello? 100,your* 30,first& 30\n"
     ]
    }
   ],
   "source": [
    "ov = \"  Hello? 100,Your* 30,First& 30\"\n",
    "newvariable = ov.lower()\n",
    "print(newvariable)"
   ]
  },
  {
   "cell_type": "code",
   "execution_count": 4,
   "id": "632d13cd",
   "metadata": {},
   "outputs": [
    {
     "name": "stdout",
     "output_type": "stream",
     "text": [
      "hello 102 ? students90 ., this is 50 < your first > practical = _ session 2001 () on $  786 ' text mining\n"
     ]
    }
   ],
   "source": [
    "input_string = \"Hello 102 ? Students90 ., This is 50 < YOUR First > PRACTICAL = _ SessION 2001 () on $  786 ' TEXT MinINg\"\n",
    "result1 = input_string.lower()\n",
    "print(result1)"
   ]
  },
  {
   "cell_type": "markdown",
   "id": "b318560f",
   "metadata": {},
   "source": [
    "# Step2: Removal of punctuations"
   ]
  },
  {
   "cell_type": "code",
   "execution_count": 5,
   "id": "735c8fdb",
   "metadata": {},
   "outputs": [
    {
     "name": "stdout",
     "output_type": "stream",
     "text": [
      "hello 102  students90  this is 50  your first  practical   session 2001  on   786  text mining\n"
     ]
    }
   ],
   "source": [
    "import string\n",
    "result2 = result1.translate(str.maketrans('','', string.punctuation))\n",
    "print(result2)"
   ]
  },
  {
   "cell_type": "code",
   "execution_count": 10,
   "id": "916a4066",
   "metadata": {},
   "outputs": [],
   "source": [
    "#the first two arguments for string translate method is empty strings"
   ]
  },
  {
   "cell_type": "code",
   "execution_count": 22,
   "id": "36757c58",
   "metadata": {},
   "outputs": [
    {
     "name": "stdout",
     "output_type": "stream",
     "text": [
      "  hello 100your 30first 30\n"
     ]
    }
   ],
   "source": [
    "#example\n",
    "import string\n",
    "v3=newvariable.translate(str.maketrans(\"\",\"\",string.punctuation))\n",
    "print(v3)\n"
   ]
  },
  {
   "cell_type": "code",
   "execution_count": 9,
   "id": "fdd0a3fe",
   "metadata": {},
   "outputs": [
    {
     "name": "stdout",
     "output_type": "stream",
     "text": [
      "hello 102  students90  this is 50  your first  practical   session 2001  on   786  text mining\n"
     ]
    }
   ],
   "source": [
    "import string\n",
    "result2 = result1.translate(str.maketrans( '','',string.punctuation))\n",
    "print(result2)"
   ]
  },
  {
   "cell_type": "code",
   "execution_count": 7,
   "id": "9843f8d9",
   "metadata": {},
   "outputs": [
    {
     "name": "stdout",
     "output_type": "stream",
     "text": [
      "hello 102  students90  this is 50  your first  practical   session 2001  on   786  text mining\n"
     ]
    }
   ],
   "source": [
    "replace = \"\"\n",
    "punctuation = string.punctuation\n",
    "for char in result1:\n",
    "    if char not in punctuation:\n",
    "        replace = replace + char\n",
    "print(replace)"
   ]
  },
  {
   "cell_type": "markdown",
   "id": "ab885035",
   "metadata": {},
   "source": [
    "# remove spaces"
   ]
  },
  {
   "cell_type": "code",
   "execution_count": 7,
   "id": "d3d1d087",
   "metadata": {
    "scrolled": true
   },
   "outputs": [
    {
     "name": "stdout",
     "output_type": "stream",
     "text": [
      "hello 102  students90  this is 50  your first  practical   session 2001  on   786  text mining\n"
     ]
    }
   ],
   "source": [
    "result3 = result2.strip()\n",
    "print(result3)"
   ]
  },
  {
   "cell_type": "code",
   "execution_count": 23,
   "id": "7982b750",
   "metadata": {},
   "outputs": [
    {
     "name": "stdout",
     "output_type": "stream",
     "text": [
      "hello 100your 30first 30\n"
     ]
    }
   ],
   "source": [
    "#example\n",
    "v4= v3.strip()\n",
    "print(v4)"
   ]
  },
  {
   "cell_type": "code",
   "execution_count": 8,
   "id": "fdfdb32a",
   "metadata": {},
   "outputs": [
    {
     "name": "stdout",
     "output_type": "stream",
     "text": [
      "                 SJCC      \n",
      "SJCC\n"
     ]
    }
   ],
   "source": [
    "demo = \"                 SJCC      \"\n",
    "demo1 = demo.strip()\n",
    "print(demo)\n",
    "print(demo1)"
   ]
  },
  {
   "cell_type": "markdown",
   "id": "b7a46ac2",
   "metadata": {},
   "source": [
    "# Step4: Removing Numbers"
   ]
  },
  {
   "cell_type": "code",
   "execution_count": 9,
   "id": "259983f7",
   "metadata": {},
   "outputs": [
    {
     "name": "stdout",
     "output_type": "stream",
     "text": [
      "hello   students  this is   your first  practical   session   on     text mining\n"
     ]
    }
   ],
   "source": [
    "import re\n",
    "result4 = re.sub(r'\\d+', '', result3)\n",
    "print(result4)"
   ]
  },
  {
   "cell_type": "code",
   "execution_count": null,
   "id": "258f2fc3",
   "metadata": {},
   "outputs": [],
   "source": [
    "#re = regular expression"
   ]
  },
  {
   "cell_type": "code",
   "execution_count": 24,
   "id": "1737981a",
   "metadata": {},
   "outputs": [
    {
     "name": "stdout",
     "output_type": "stream",
     "text": [
      "hello your first \n"
     ]
    }
   ],
   "source": [
    "#example\n",
    "import re\n",
    "v5 =re.sub(r'\\d+','',v4)\n",
    "print(v5)"
   ]
  },
  {
   "cell_type": "markdown",
   "id": "c2a4681f",
   "metadata": {},
   "source": [
    "# Step5: Removing Stopwords"
   ]
  },
  {
   "cell_type": "code",
   "execution_count": 28,
   "id": "4402b50e",
   "metadata": {
    "scrolled": true
   },
   "outputs": [
    {
     "name": "stdout",
     "output_type": "stream",
     "text": [
      "{'because', 'off', 'will', 'it', 'am', 'those', 'don', 'them', 'as', 'can', 'yourselves', \"haven't\", 'who', \"didn't\", 'my', \"mightn't\", 'between', 'here', 'in', 'ain', 'ma', 'below', 'until', 'these', 'now', 'from', 'through', 'couldn', \"should've\", 'ourselves', 'but', 'all', 'your', 'whom', \"shan't\", \"that'll\", \"you'll\", 'on', \"doesn't\", 'nor', \"mustn't\", 'of', 'shan', 'where', 'against', 'y', 'than', 'we', \"wouldn't\", 'his', 'theirs', 'do', 'or', 'not', 'with', \"wasn't\", 'isn', \"couldn't\", 'has', 'a', 'd', 'are', 'i', \"you're\", 'had', 'few', 'more', \"aren't\", 'doesn', \"isn't\", 'over', 'and', 're', 'won', 'only', 'yourself', 'been', 'itself', \"weren't\", 'was', 'down', 'just', 'her', 'their', 'doing', 'such', 't', 'll', 'its', 'hasn', 'both', 'into', 's', 'after', 'about', 'needn', 'he', 'if', 'some', 'ours', 'did', 'o', 'too', 'further', 'does', 've', 'himself', 'by', 'before', 'same', 'how', 'me', 'during', 'yours', 'herself', \"you've\", 'to', 'myself', 'wasn', 'very', 'themselves', 'hadn', 'above', 'that', 'have', \"you'd\", 'mustn', 'is', 'an', 'up', 'be', 'any', 'other', \"she's\", 'the', 'were', 'again', 'no', \"needn't\", \"won't\", 'at', 'why', \"it's\", 'should', 'having', 'under', 'then', \"shouldn't\", 'haven', 'while', 'wouldn', 'for', \"hadn't\", 'this', 'what', 'own', 'shouldn', 'him', 'when', 'being', 'didn', 'weren', 'which', 'once', 'so', 'they', 'most', 'm', 'hers', 'mightn', \"don't\", 'you', 'our', 'there', 'she', \"hasn't\", 'out', 'each', 'aren'}\n"
     ]
    }
   ],
   "source": [
    "from nltk.corpus import stopwords\n",
    "sw = set(stopwords.words('english'))\n",
    "print(sw)"
   ]
  },
  {
   "cell_type": "code",
   "execution_count": 11,
   "id": "2f0fd268",
   "metadata": {},
   "outputs": [
    {
     "name": "stdout",
     "output_type": "stream",
     "text": [
      "179\n"
     ]
    }
   ],
   "source": [
    "print(len(sw))"
   ]
  },
  {
   "cell_type": "code",
   "execution_count": 12,
   "id": "a118cb6b",
   "metadata": {},
   "outputs": [
    {
     "name": "stdout",
     "output_type": "stream",
     "text": [
      "Input Text\n",
      "hello   students  this is   your first  practical   session   on     text mining\n"
     ]
    }
   ],
   "source": [
    "from nltk.tokenize import word_tokenize\n",
    "print(\"Input Text\")\n",
    "print(result4)"
   ]
  },
  {
   "cell_type": "code",
   "execution_count": 29,
   "id": "5076f30e",
   "metadata": {},
   "outputs": [
    {
     "name": "stdout",
     "output_type": "stream",
     "text": [
      "hello your first \n"
     ]
    }
   ],
   "source": [
    "#example\n",
    "from nltk.tokenize import word_tokenize\n",
    "print(v5)"
   ]
  },
  {
   "cell_type": "code",
   "execution_count": 13,
   "id": "0085d5e2",
   "metadata": {},
   "outputs": [
    {
     "name": "stdout",
     "output_type": "stream",
     "text": [
      "Output Tokens\n",
      "['hello', 'students', 'this', 'is', 'your', 'first', 'practical', 'session', 'on', 'text', 'mining']\n"
     ]
    }
   ],
   "source": [
    "print(\"Output Tokens\")\n",
    "result4_tokens = word_tokenize(result4)\n",
    "print(result4_tokens)"
   ]
  },
  {
   "cell_type": "code",
   "execution_count": 31,
   "id": "bd70ea98",
   "metadata": {},
   "outputs": [
    {
     "name": "stdout",
     "output_type": "stream",
     "text": [
      "Output Tokens\n",
      "['hello', 'your', 'first']\n"
     ]
    }
   ],
   "source": [
    "print(\"Output Tokens\")\n",
    "v6_tokens = word_tokenize(v5)\n",
    "print(v6_tokens)"
   ]
  },
  {
   "cell_type": "code",
   "execution_count": 14,
   "id": "bde64772",
   "metadata": {},
   "outputs": [
    {
     "name": "stdout",
     "output_type": "stream",
     "text": [
      "['hello', 'students', 'first', 'practical', 'session', 'text', 'mining']\n"
     ]
    }
   ],
   "source": [
    "result5 = []\n",
    "for w in result4_tokens:\n",
    "    if w not in sw:\n",
    "        result5.append(w)\n",
    "print(result5)"
   ]
  },
  {
   "cell_type": "code",
   "execution_count": 32,
   "id": "59dd0dda",
   "metadata": {},
   "outputs": [
    {
     "name": "stdout",
     "output_type": "stream",
     "text": [
      "['hello', 'first']\n"
     ]
    }
   ],
   "source": [
    "v7 = []\n",
    "for w in v6_tokens:\n",
    "    if w not in sw:\n",
    "        v7.append(w)\n",
    "print(v7)"
   ]
  },
  {
   "cell_type": "code",
   "execution_count": null,
   "id": "1023773c",
   "metadata": {},
   "outputs": [],
   "source": []
  }
 ],
 "metadata": {
  "kernelspec": {
   "display_name": "Python 3 (ipykernel)",
   "language": "python",
   "name": "python3"
  },
  "language_info": {
   "codemirror_mode": {
    "name": "ipython",
    "version": 3
   },
   "file_extension": ".py",
   "mimetype": "text/x-python",
   "name": "python",
   "nbconvert_exporter": "python",
   "pygments_lexer": "ipython3",
   "version": "3.9.13"
  }
 },
 "nbformat": 4,
 "nbformat_minor": 5
}
